{
 "cells": [
  {
   "cell_type": "code",
   "execution_count": null,
   "id": "0f7bf660-6384-4d53-95a4-913197065ef7",
   "metadata": {},
   "outputs": [],
   "source": [
    "# Hello there this is a test comment"
   ]
  }
 ],
 "metadata": {
  "kernelspec": {
   "display_name": "Python 3 (ipykernel)",
   "language": "python",
   "name": "python3"
  },
  "language_info": {
   "codemirror_mode": {
    "name": "ipython",
    "version": 3
   },
   "file_extension": ".py",
   "mimetype": "text/x-python",
   "name": "python",
   "nbconvert_exporter": "python",
   "pygments_lexer": "ipython3",
   "version": "3.10.7"
  }
 },
 "nbformat": 4,
 "nbformat_minor": 5
}
