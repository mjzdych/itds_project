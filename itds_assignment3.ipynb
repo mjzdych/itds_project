{
 "cells": [
  {
   "cell_type": "markdown",
   "id": "a0cc1878-23e0-4638-93f6-abd0a58b44cb",
   "metadata": {},
   "source": [
    "## Assignment 3 - model - group 28"
   ]
  },
  {
   "cell_type": "code",
   "execution_count": 1,
   "id": "0f7bf660-6384-4d53-95a4-913197065ef7",
   "metadata": {},
   "outputs": [],
   "source": [
    "# Importing Libraries\n",
    "import pandas as pd\n",
    "import numpy as np\n",
    "import matplotlib.pyplot as plt\n",
    "import seaborn as sns\n",
    "import sklearn as skl\n",
    "from sklearn.pipeline import Pipeline\n",
    "from sklearn.preprocessing import StandardScaler, OneHotEncoder\n",
    "from sklearn.tree import DecisionTreeClassifier\n",
    "from sklearn.model_selection import GridSearchCV\n",
    "from sklearn.metrics import classification_report, confusion_matrix\n",
    "from sklearn.model_selection import cross_val_score\n"
   ]
  },
  {
   "cell_type": "markdown",
   "id": "c0317e92-0705-446c-9e69-d3a7a955c694",
   "metadata": {},
   "source": [
    "**Collecting the data**"
   ]
  },
  {
   "cell_type": "code",
   "execution_count": 2,
   "id": "2f7042a0-87b8-4bbe-9025-800e9288238f",
   "metadata": {},
   "outputs": [],
   "source": [
    "# Importing Dataset\n",
    "\n",
    "data = pd.read_csv(\"recruitmentdataset-2022-1.3.csv\")"
   ]
  },
  {
   "cell_type": "markdown",
   "id": "ef598a9e-a7ed-4637-bee9-2c04825fd1f8",
   "metadata": {},
   "source": [
    "**Describe the data**"
   ]
  },
  {
   "cell_type": "code",
   "execution_count": 3,
   "id": "a0b4cb1b-0dcd-42f1-ab5f-6e63a87a6469",
   "metadata": {},
   "outputs": [
    {
     "data": {
      "text/html": [
       "<div>\n",
       "<style scoped>\n",
       "    .dataframe tbody tr th:only-of-type {\n",
       "        vertical-align: middle;\n",
       "    }\n",
       "\n",
       "    .dataframe tbody tr th {\n",
       "        vertical-align: top;\n",
       "    }\n",
       "\n",
       "    .dataframe thead th {\n",
       "        text-align: right;\n",
       "    }\n",
       "</style>\n",
       "<table border=\"1\" class=\"dataframe\">\n",
       "  <thead>\n",
       "    <tr style=\"text-align: right;\">\n",
       "      <th></th>\n",
       "      <th>Id</th>\n",
       "      <th>gender</th>\n",
       "      <th>age</th>\n",
       "      <th>nationality</th>\n",
       "      <th>sport</th>\n",
       "      <th>ind-university_grade</th>\n",
       "      <th>ind-debateclub</th>\n",
       "      <th>ind-programming_exp</th>\n",
       "      <th>ind-international_exp</th>\n",
       "      <th>ind-entrepeneur_exp</th>\n",
       "      <th>ind-languages</th>\n",
       "      <th>ind-exact_study</th>\n",
       "      <th>ind-degree</th>\n",
       "      <th>company</th>\n",
       "      <th>decision</th>\n",
       "    </tr>\n",
       "  </thead>\n",
       "  <tbody>\n",
       "    <tr>\n",
       "      <th>0</th>\n",
       "      <td>x8011e</td>\n",
       "      <td>female</td>\n",
       "      <td>24</td>\n",
       "      <td>German</td>\n",
       "      <td>Swimming</td>\n",
       "      <td>70</td>\n",
       "      <td>False</td>\n",
       "      <td>False</td>\n",
       "      <td>False</td>\n",
       "      <td>False</td>\n",
       "      <td>1</td>\n",
       "      <td>True</td>\n",
       "      <td>phd</td>\n",
       "      <td>A</td>\n",
       "      <td>True</td>\n",
       "    </tr>\n",
       "    <tr>\n",
       "      <th>1</th>\n",
       "      <td>x6077a</td>\n",
       "      <td>male</td>\n",
       "      <td>26</td>\n",
       "      <td>German</td>\n",
       "      <td>Golf</td>\n",
       "      <td>67</td>\n",
       "      <td>False</td>\n",
       "      <td>True</td>\n",
       "      <td>False</td>\n",
       "      <td>False</td>\n",
       "      <td>2</td>\n",
       "      <td>True</td>\n",
       "      <td>bachelor</td>\n",
       "      <td>A</td>\n",
       "      <td>False</td>\n",
       "    </tr>\n",
       "    <tr>\n",
       "      <th>2</th>\n",
       "      <td>x6006e</td>\n",
       "      <td>female</td>\n",
       "      <td>23</td>\n",
       "      <td>Dutch</td>\n",
       "      <td>Running</td>\n",
       "      <td>67</td>\n",
       "      <td>False</td>\n",
       "      <td>True</td>\n",
       "      <td>True</td>\n",
       "      <td>False</td>\n",
       "      <td>0</td>\n",
       "      <td>True</td>\n",
       "      <td>master</td>\n",
       "      <td>A</td>\n",
       "      <td>False</td>\n",
       "    </tr>\n",
       "    <tr>\n",
       "      <th>3</th>\n",
       "      <td>x2173b</td>\n",
       "      <td>male</td>\n",
       "      <td>24</td>\n",
       "      <td>Dutch</td>\n",
       "      <td>Cricket</td>\n",
       "      <td>70</td>\n",
       "      <td>False</td>\n",
       "      <td>True</td>\n",
       "      <td>False</td>\n",
       "      <td>False</td>\n",
       "      <td>1</td>\n",
       "      <td>True</td>\n",
       "      <td>master</td>\n",
       "      <td>A</td>\n",
       "      <td>True</td>\n",
       "    </tr>\n",
       "    <tr>\n",
       "      <th>4</th>\n",
       "      <td>x6241a</td>\n",
       "      <td>female</td>\n",
       "      <td>26</td>\n",
       "      <td>German</td>\n",
       "      <td>Golf</td>\n",
       "      <td>59</td>\n",
       "      <td>False</td>\n",
       "      <td>False</td>\n",
       "      <td>False</td>\n",
       "      <td>False</td>\n",
       "      <td>1</td>\n",
       "      <td>False</td>\n",
       "      <td>master</td>\n",
       "      <td>A</td>\n",
       "      <td>True</td>\n",
       "    </tr>\n",
       "    <tr>\n",
       "      <th>5</th>\n",
       "      <td>x9063d</td>\n",
       "      <td>female</td>\n",
       "      <td>26</td>\n",
       "      <td>Dutch</td>\n",
       "      <td>Chess</td>\n",
       "      <td>63</td>\n",
       "      <td>False</td>\n",
       "      <td>False</td>\n",
       "      <td>False</td>\n",
       "      <td>False</td>\n",
       "      <td>1</td>\n",
       "      <td>True</td>\n",
       "      <td>bachelor</td>\n",
       "      <td>A</td>\n",
       "      <td>True</td>\n",
       "    </tr>\n",
       "    <tr>\n",
       "      <th>6</th>\n",
       "      <td>x5785d</td>\n",
       "      <td>female</td>\n",
       "      <td>27</td>\n",
       "      <td>Dutch</td>\n",
       "      <td>Tennis</td>\n",
       "      <td>63</td>\n",
       "      <td>True</td>\n",
       "      <td>True</td>\n",
       "      <td>False</td>\n",
       "      <td>False</td>\n",
       "      <td>2</td>\n",
       "      <td>True</td>\n",
       "      <td>bachelor</td>\n",
       "      <td>A</td>\n",
       "      <td>False</td>\n",
       "    </tr>\n",
       "    <tr>\n",
       "      <th>7</th>\n",
       "      <td>x8767c</td>\n",
       "      <td>female</td>\n",
       "      <td>22</td>\n",
       "      <td>Dutch</td>\n",
       "      <td>Swimming</td>\n",
       "      <td>71</td>\n",
       "      <td>False</td>\n",
       "      <td>True</td>\n",
       "      <td>False</td>\n",
       "      <td>False</td>\n",
       "      <td>1</td>\n",
       "      <td>True</td>\n",
       "      <td>master</td>\n",
       "      <td>A</td>\n",
       "      <td>True</td>\n",
       "    </tr>\n",
       "    <tr>\n",
       "      <th>8</th>\n",
       "      <td>x6541b</td>\n",
       "      <td>female</td>\n",
       "      <td>28</td>\n",
       "      <td>Dutch</td>\n",
       "      <td>Football</td>\n",
       "      <td>65</td>\n",
       "      <td>True</td>\n",
       "      <td>False</td>\n",
       "      <td>False</td>\n",
       "      <td>True</td>\n",
       "      <td>3</td>\n",
       "      <td>False</td>\n",
       "      <td>bachelor</td>\n",
       "      <td>A</td>\n",
       "      <td>False</td>\n",
       "    </tr>\n",
       "    <tr>\n",
       "      <th>9</th>\n",
       "      <td>x3890b</td>\n",
       "      <td>male</td>\n",
       "      <td>24</td>\n",
       "      <td>Dutch</td>\n",
       "      <td>Football</td>\n",
       "      <td>55</td>\n",
       "      <td>True</td>\n",
       "      <td>False</td>\n",
       "      <td>False</td>\n",
       "      <td>True</td>\n",
       "      <td>3</td>\n",
       "      <td>False</td>\n",
       "      <td>master</td>\n",
       "      <td>A</td>\n",
       "      <td>True</td>\n",
       "    </tr>\n",
       "  </tbody>\n",
       "</table>\n",
       "</div>"
      ],
      "text/plain": [
       "       Id  gender  age nationality     sport  ind-university_grade  \\\n",
       "0  x8011e  female   24      German  Swimming                    70   \n",
       "1  x6077a    male   26      German      Golf                    67   \n",
       "2  x6006e  female   23       Dutch   Running                    67   \n",
       "3  x2173b    male   24       Dutch   Cricket                    70   \n",
       "4  x6241a  female   26      German      Golf                    59   \n",
       "5  x9063d  female   26       Dutch     Chess                    63   \n",
       "6  x5785d  female   27       Dutch    Tennis                    63   \n",
       "7  x8767c  female   22       Dutch  Swimming                    71   \n",
       "8  x6541b  female   28       Dutch  Football                    65   \n",
       "9  x3890b    male   24       Dutch  Football                    55   \n",
       "\n",
       "   ind-debateclub  ind-programming_exp  ind-international_exp  \\\n",
       "0           False                False                  False   \n",
       "1           False                 True                  False   \n",
       "2           False                 True                   True   \n",
       "3           False                 True                  False   \n",
       "4           False                False                  False   \n",
       "5           False                False                  False   \n",
       "6            True                 True                  False   \n",
       "7           False                 True                  False   \n",
       "8            True                False                  False   \n",
       "9            True                False                  False   \n",
       "\n",
       "   ind-entrepeneur_exp  ind-languages  ind-exact_study ind-degree company  \\\n",
       "0                False              1             True        phd       A   \n",
       "1                False              2             True   bachelor       A   \n",
       "2                False              0             True     master       A   \n",
       "3                False              1             True     master       A   \n",
       "4                False              1            False     master       A   \n",
       "5                False              1             True   bachelor       A   \n",
       "6                False              2             True   bachelor       A   \n",
       "7                False              1             True     master       A   \n",
       "8                 True              3            False   bachelor       A   \n",
       "9                 True              3            False     master       A   \n",
       "\n",
       "   decision  \n",
       "0      True  \n",
       "1     False  \n",
       "2     False  \n",
       "3      True  \n",
       "4      True  \n",
       "5      True  \n",
       "6     False  \n",
       "7      True  \n",
       "8     False  \n",
       "9      True  "
      ]
     },
     "execution_count": 3,
     "metadata": {},
     "output_type": "execute_result"
    }
   ],
   "source": [
    "# Test printing\n",
    "\n",
    "data.head(10)"
   ]
  },
  {
   "cell_type": "code",
   "execution_count": 4,
   "id": "ad8e704c-447b-463b-9211-a4994b082568",
   "metadata": {},
   "outputs": [
    {
     "data": {
      "text/html": [
       "<div>\n",
       "<style scoped>\n",
       "    .dataframe tbody tr th:only-of-type {\n",
       "        vertical-align: middle;\n",
       "    }\n",
       "\n",
       "    .dataframe tbody tr th {\n",
       "        vertical-align: top;\n",
       "    }\n",
       "\n",
       "    .dataframe thead th {\n",
       "        text-align: right;\n",
       "    }\n",
       "</style>\n",
       "<table border=\"1\" class=\"dataframe\">\n",
       "  <thead>\n",
       "    <tr style=\"text-align: right;\">\n",
       "      <th></th>\n",
       "      <th>Id</th>\n",
       "      <th>gender</th>\n",
       "      <th>age</th>\n",
       "      <th>nationality</th>\n",
       "      <th>sport</th>\n",
       "      <th>ind-university_grade</th>\n",
       "      <th>ind-debateclub</th>\n",
       "      <th>ind-programming_exp</th>\n",
       "      <th>ind-international_exp</th>\n",
       "      <th>ind-entrepeneur_exp</th>\n",
       "      <th>ind-languages</th>\n",
       "      <th>ind-exact_study</th>\n",
       "      <th>ind-degree</th>\n",
       "      <th>company</th>\n",
       "      <th>decision</th>\n",
       "    </tr>\n",
       "  </thead>\n",
       "  <tbody>\n",
       "    <tr>\n",
       "      <th>0</th>\n",
       "      <td>x8011e</td>\n",
       "      <td>female</td>\n",
       "      <td>24</td>\n",
       "      <td>German</td>\n",
       "      <td>Swimming</td>\n",
       "      <td>70</td>\n",
       "      <td>False</td>\n",
       "      <td>False</td>\n",
       "      <td>False</td>\n",
       "      <td>False</td>\n",
       "      <td>1</td>\n",
       "      <td>True</td>\n",
       "      <td>phd</td>\n",
       "      <td>A</td>\n",
       "      <td>True</td>\n",
       "    </tr>\n",
       "    <tr>\n",
       "      <th>1</th>\n",
       "      <td>x6077a</td>\n",
       "      <td>male</td>\n",
       "      <td>26</td>\n",
       "      <td>German</td>\n",
       "      <td>Golf</td>\n",
       "      <td>67</td>\n",
       "      <td>False</td>\n",
       "      <td>True</td>\n",
       "      <td>False</td>\n",
       "      <td>False</td>\n",
       "      <td>2</td>\n",
       "      <td>True</td>\n",
       "      <td>bachelor</td>\n",
       "      <td>A</td>\n",
       "      <td>False</td>\n",
       "    </tr>\n",
       "    <tr>\n",
       "      <th>2</th>\n",
       "      <td>x6006e</td>\n",
       "      <td>female</td>\n",
       "      <td>23</td>\n",
       "      <td>Dutch</td>\n",
       "      <td>Running</td>\n",
       "      <td>67</td>\n",
       "      <td>False</td>\n",
       "      <td>True</td>\n",
       "      <td>True</td>\n",
       "      <td>False</td>\n",
       "      <td>0</td>\n",
       "      <td>True</td>\n",
       "      <td>master</td>\n",
       "      <td>A</td>\n",
       "      <td>False</td>\n",
       "    </tr>\n",
       "    <tr>\n",
       "      <th>3</th>\n",
       "      <td>x2173b</td>\n",
       "      <td>male</td>\n",
       "      <td>24</td>\n",
       "      <td>Dutch</td>\n",
       "      <td>Cricket</td>\n",
       "      <td>70</td>\n",
       "      <td>False</td>\n",
       "      <td>True</td>\n",
       "      <td>False</td>\n",
       "      <td>False</td>\n",
       "      <td>1</td>\n",
       "      <td>True</td>\n",
       "      <td>master</td>\n",
       "      <td>A</td>\n",
       "      <td>True</td>\n",
       "    </tr>\n",
       "    <tr>\n",
       "      <th>4</th>\n",
       "      <td>x6241a</td>\n",
       "      <td>female</td>\n",
       "      <td>26</td>\n",
       "      <td>German</td>\n",
       "      <td>Golf</td>\n",
       "      <td>59</td>\n",
       "      <td>False</td>\n",
       "      <td>False</td>\n",
       "      <td>False</td>\n",
       "      <td>False</td>\n",
       "      <td>1</td>\n",
       "      <td>False</td>\n",
       "      <td>master</td>\n",
       "      <td>A</td>\n",
       "      <td>True</td>\n",
       "    </tr>\n",
       "    <tr>\n",
       "      <th>...</th>\n",
       "      <td>...</td>\n",
       "      <td>...</td>\n",
       "      <td>...</td>\n",
       "      <td>...</td>\n",
       "      <td>...</td>\n",
       "      <td>...</td>\n",
       "      <td>...</td>\n",
       "      <td>...</td>\n",
       "      <td>...</td>\n",
       "      <td>...</td>\n",
       "      <td>...</td>\n",
       "      <td>...</td>\n",
       "      <td>...</td>\n",
       "      <td>...</td>\n",
       "      <td>...</td>\n",
       "    </tr>\n",
       "    <tr>\n",
       "      <th>995</th>\n",
       "      <td>x2659d</td>\n",
       "      <td>male</td>\n",
       "      <td>30</td>\n",
       "      <td>Dutch</td>\n",
       "      <td>Tennis</td>\n",
       "      <td>54</td>\n",
       "      <td>True</td>\n",
       "      <td>False</td>\n",
       "      <td>False</td>\n",
       "      <td>True</td>\n",
       "      <td>2</td>\n",
       "      <td>False</td>\n",
       "      <td>bachelor</td>\n",
       "      <td>A</td>\n",
       "      <td>False</td>\n",
       "    </tr>\n",
       "    <tr>\n",
       "      <th>996</th>\n",
       "      <td>x5868g</td>\n",
       "      <td>male</td>\n",
       "      <td>22</td>\n",
       "      <td>Dutch</td>\n",
       "      <td>Running</td>\n",
       "      <td>69</td>\n",
       "      <td>False</td>\n",
       "      <td>True</td>\n",
       "      <td>False</td>\n",
       "      <td>False</td>\n",
       "      <td>1</td>\n",
       "      <td>True</td>\n",
       "      <td>bachelor</td>\n",
       "      <td>A</td>\n",
       "      <td>False</td>\n",
       "    </tr>\n",
       "    <tr>\n",
       "      <th>997</th>\n",
       "      <td>x3164f</td>\n",
       "      <td>male</td>\n",
       "      <td>28</td>\n",
       "      <td>Dutch</td>\n",
       "      <td>Cricket</td>\n",
       "      <td>57</td>\n",
       "      <td>False</td>\n",
       "      <td>False</td>\n",
       "      <td>False</td>\n",
       "      <td>False</td>\n",
       "      <td>1</td>\n",
       "      <td>False</td>\n",
       "      <td>bachelor</td>\n",
       "      <td>A</td>\n",
       "      <td>False</td>\n",
       "    </tr>\n",
       "    <tr>\n",
       "      <th>998</th>\n",
       "      <td>x6907b</td>\n",
       "      <td>male</td>\n",
       "      <td>25</td>\n",
       "      <td>Dutch</td>\n",
       "      <td>Tennis</td>\n",
       "      <td>65</td>\n",
       "      <td>False</td>\n",
       "      <td>True</td>\n",
       "      <td>False</td>\n",
       "      <td>False</td>\n",
       "      <td>1</td>\n",
       "      <td>True</td>\n",
       "      <td>master</td>\n",
       "      <td>A</td>\n",
       "      <td>False</td>\n",
       "    </tr>\n",
       "    <tr>\n",
       "      <th>999</th>\n",
       "      <td>x7803c</td>\n",
       "      <td>female</td>\n",
       "      <td>22</td>\n",
       "      <td>Dutch</td>\n",
       "      <td>Swimming</td>\n",
       "      <td>68</td>\n",
       "      <td>False</td>\n",
       "      <td>True</td>\n",
       "      <td>False</td>\n",
       "      <td>False</td>\n",
       "      <td>0</td>\n",
       "      <td>True</td>\n",
       "      <td>master</td>\n",
       "      <td>A</td>\n",
       "      <td>False</td>\n",
       "    </tr>\n",
       "  </tbody>\n",
       "</table>\n",
       "<p>1000 rows × 15 columns</p>\n",
       "</div>"
      ],
      "text/plain": [
       "         Id  gender  age nationality     sport  ind-university_grade  \\\n",
       "0    x8011e  female   24      German  Swimming                    70   \n",
       "1    x6077a    male   26      German      Golf                    67   \n",
       "2    x6006e  female   23       Dutch   Running                    67   \n",
       "3    x2173b    male   24       Dutch   Cricket                    70   \n",
       "4    x6241a  female   26      German      Golf                    59   \n",
       "..      ...     ...  ...         ...       ...                   ...   \n",
       "995  x2659d    male   30       Dutch    Tennis                    54   \n",
       "996  x5868g    male   22       Dutch   Running                    69   \n",
       "997  x3164f    male   28       Dutch   Cricket                    57   \n",
       "998  x6907b    male   25       Dutch    Tennis                    65   \n",
       "999  x7803c  female   22       Dutch  Swimming                    68   \n",
       "\n",
       "     ind-debateclub  ind-programming_exp  ind-international_exp  \\\n",
       "0             False                False                  False   \n",
       "1             False                 True                  False   \n",
       "2             False                 True                   True   \n",
       "3             False                 True                  False   \n",
       "4             False                False                  False   \n",
       "..              ...                  ...                    ...   \n",
       "995            True                False                  False   \n",
       "996           False                 True                  False   \n",
       "997           False                False                  False   \n",
       "998           False                 True                  False   \n",
       "999           False                 True                  False   \n",
       "\n",
       "     ind-entrepeneur_exp  ind-languages  ind-exact_study ind-degree company  \\\n",
       "0                  False              1             True        phd       A   \n",
       "1                  False              2             True   bachelor       A   \n",
       "2                  False              0             True     master       A   \n",
       "3                  False              1             True     master       A   \n",
       "4                  False              1            False     master       A   \n",
       "..                   ...            ...              ...        ...     ...   \n",
       "995                 True              2            False   bachelor       A   \n",
       "996                False              1             True   bachelor       A   \n",
       "997                False              1            False   bachelor       A   \n",
       "998                False              1             True     master       A   \n",
       "999                False              0             True     master       A   \n",
       "\n",
       "     decision  \n",
       "0        True  \n",
       "1       False  \n",
       "2       False  \n",
       "3        True  \n",
       "4        True  \n",
       "..        ...  \n",
       "995     False  \n",
       "996     False  \n",
       "997     False  \n",
       "998     False  \n",
       "999     False  \n",
       "\n",
       "[1000 rows x 15 columns]"
      ]
     },
     "execution_count": 4,
     "metadata": {},
     "output_type": "execute_result"
    }
   ],
   "source": [
    "df_company = data[data['company']=='A']\n",
    "df_company"
   ]
  },
  {
   "cell_type": "code",
   "execution_count": 5,
   "id": "fe8e294b",
   "metadata": {},
   "outputs": [],
   "source": [
    "filtered_df = df_company[df_company['sport'].str.contains('Swimming|Golf|Football', case=False)]"
   ]
  },
  {
   "cell_type": "code",
   "execution_count": 6,
   "id": "757cea33",
   "metadata": {},
   "outputs": [
    {
     "data": {
      "text/html": [
       "<div>\n",
       "<style scoped>\n",
       "    .dataframe tbody tr th:only-of-type {\n",
       "        vertical-align: middle;\n",
       "    }\n",
       "\n",
       "    .dataframe tbody tr th {\n",
       "        vertical-align: top;\n",
       "    }\n",
       "\n",
       "    .dataframe thead th {\n",
       "        text-align: right;\n",
       "    }\n",
       "</style>\n",
       "<table border=\"1\" class=\"dataframe\">\n",
       "  <thead>\n",
       "    <tr style=\"text-align: right;\">\n",
       "      <th></th>\n",
       "      <th>Id</th>\n",
       "      <th>gender</th>\n",
       "      <th>age</th>\n",
       "      <th>nationality</th>\n",
       "      <th>sport</th>\n",
       "      <th>ind-university_grade</th>\n",
       "      <th>ind-debateclub</th>\n",
       "      <th>ind-programming_exp</th>\n",
       "      <th>ind-international_exp</th>\n",
       "      <th>ind-entrepeneur_exp</th>\n",
       "      <th>ind-languages</th>\n",
       "      <th>ind-exact_study</th>\n",
       "      <th>ind-degree</th>\n",
       "      <th>company</th>\n",
       "      <th>decision</th>\n",
       "    </tr>\n",
       "  </thead>\n",
       "  <tbody>\n",
       "    <tr>\n",
       "      <th>0</th>\n",
       "      <td>x8011e</td>\n",
       "      <td>female</td>\n",
       "      <td>24</td>\n",
       "      <td>German</td>\n",
       "      <td>Swimming</td>\n",
       "      <td>70</td>\n",
       "      <td>False</td>\n",
       "      <td>False</td>\n",
       "      <td>False</td>\n",
       "      <td>False</td>\n",
       "      <td>1</td>\n",
       "      <td>True</td>\n",
       "      <td>phd</td>\n",
       "      <td>A</td>\n",
       "      <td>True</td>\n",
       "    </tr>\n",
       "    <tr>\n",
       "      <th>1</th>\n",
       "      <td>x6077a</td>\n",
       "      <td>male</td>\n",
       "      <td>26</td>\n",
       "      <td>German</td>\n",
       "      <td>Golf</td>\n",
       "      <td>67</td>\n",
       "      <td>False</td>\n",
       "      <td>True</td>\n",
       "      <td>False</td>\n",
       "      <td>False</td>\n",
       "      <td>2</td>\n",
       "      <td>True</td>\n",
       "      <td>bachelor</td>\n",
       "      <td>A</td>\n",
       "      <td>False</td>\n",
       "    </tr>\n",
       "    <tr>\n",
       "      <th>4</th>\n",
       "      <td>x6241a</td>\n",
       "      <td>female</td>\n",
       "      <td>26</td>\n",
       "      <td>German</td>\n",
       "      <td>Golf</td>\n",
       "      <td>59</td>\n",
       "      <td>False</td>\n",
       "      <td>False</td>\n",
       "      <td>False</td>\n",
       "      <td>False</td>\n",
       "      <td>1</td>\n",
       "      <td>False</td>\n",
       "      <td>master</td>\n",
       "      <td>A</td>\n",
       "      <td>True</td>\n",
       "    </tr>\n",
       "    <tr>\n",
       "      <th>7</th>\n",
       "      <td>x8767c</td>\n",
       "      <td>female</td>\n",
       "      <td>22</td>\n",
       "      <td>Dutch</td>\n",
       "      <td>Swimming</td>\n",
       "      <td>71</td>\n",
       "      <td>False</td>\n",
       "      <td>True</td>\n",
       "      <td>False</td>\n",
       "      <td>False</td>\n",
       "      <td>1</td>\n",
       "      <td>True</td>\n",
       "      <td>master</td>\n",
       "      <td>A</td>\n",
       "      <td>True</td>\n",
       "    </tr>\n",
       "    <tr>\n",
       "      <th>8</th>\n",
       "      <td>x6541b</td>\n",
       "      <td>female</td>\n",
       "      <td>28</td>\n",
       "      <td>Dutch</td>\n",
       "      <td>Football</td>\n",
       "      <td>65</td>\n",
       "      <td>True</td>\n",
       "      <td>False</td>\n",
       "      <td>False</td>\n",
       "      <td>True</td>\n",
       "      <td>3</td>\n",
       "      <td>False</td>\n",
       "      <td>bachelor</td>\n",
       "      <td>A</td>\n",
       "      <td>False</td>\n",
       "    </tr>\n",
       "    <tr>\n",
       "      <th>9</th>\n",
       "      <td>x3890b</td>\n",
       "      <td>male</td>\n",
       "      <td>24</td>\n",
       "      <td>Dutch</td>\n",
       "      <td>Football</td>\n",
       "      <td>55</td>\n",
       "      <td>True</td>\n",
       "      <td>False</td>\n",
       "      <td>False</td>\n",
       "      <td>True</td>\n",
       "      <td>3</td>\n",
       "      <td>False</td>\n",
       "      <td>master</td>\n",
       "      <td>A</td>\n",
       "      <td>True</td>\n",
       "    </tr>\n",
       "    <tr>\n",
       "      <th>10</th>\n",
       "      <td>x9775f</td>\n",
       "      <td>female</td>\n",
       "      <td>27</td>\n",
       "      <td>Dutch</td>\n",
       "      <td>Football</td>\n",
       "      <td>61</td>\n",
       "      <td>False</td>\n",
       "      <td>False</td>\n",
       "      <td>False</td>\n",
       "      <td>False</td>\n",
       "      <td>1</td>\n",
       "      <td>True</td>\n",
       "      <td>bachelor</td>\n",
       "      <td>A</td>\n",
       "      <td>False</td>\n",
       "    </tr>\n",
       "    <tr>\n",
       "      <th>11</th>\n",
       "      <td>x3562f</td>\n",
       "      <td>male</td>\n",
       "      <td>28</td>\n",
       "      <td>Dutch</td>\n",
       "      <td>Football</td>\n",
       "      <td>56</td>\n",
       "      <td>False</td>\n",
       "      <td>False</td>\n",
       "      <td>False</td>\n",
       "      <td>True</td>\n",
       "      <td>2</td>\n",
       "      <td>False</td>\n",
       "      <td>bachelor</td>\n",
       "      <td>A</td>\n",
       "      <td>True</td>\n",
       "    </tr>\n",
       "    <tr>\n",
       "      <th>12</th>\n",
       "      <td>x4044c</td>\n",
       "      <td>female</td>\n",
       "      <td>27</td>\n",
       "      <td>German</td>\n",
       "      <td>Football</td>\n",
       "      <td>62</td>\n",
       "      <td>False</td>\n",
       "      <td>True</td>\n",
       "      <td>False</td>\n",
       "      <td>False</td>\n",
       "      <td>1</td>\n",
       "      <td>True</td>\n",
       "      <td>bachelor</td>\n",
       "      <td>A</td>\n",
       "      <td>False</td>\n",
       "    </tr>\n",
       "    <tr>\n",
       "      <th>13</th>\n",
       "      <td>x9428d</td>\n",
       "      <td>male</td>\n",
       "      <td>26</td>\n",
       "      <td>Dutch</td>\n",
       "      <td>Football</td>\n",
       "      <td>56</td>\n",
       "      <td>False</td>\n",
       "      <td>False</td>\n",
       "      <td>False</td>\n",
       "      <td>False</td>\n",
       "      <td>1</td>\n",
       "      <td>False</td>\n",
       "      <td>bachelor</td>\n",
       "      <td>A</td>\n",
       "      <td>False</td>\n",
       "    </tr>\n",
       "  </tbody>\n",
       "</table>\n",
       "</div>"
      ],
      "text/plain": [
       "        Id  gender  age nationality     sport  ind-university_grade  \\\n",
       "0   x8011e  female   24      German  Swimming                    70   \n",
       "1   x6077a    male   26      German      Golf                    67   \n",
       "4   x6241a  female   26      German      Golf                    59   \n",
       "7   x8767c  female   22       Dutch  Swimming                    71   \n",
       "8   x6541b  female   28       Dutch  Football                    65   \n",
       "9   x3890b    male   24       Dutch  Football                    55   \n",
       "10  x9775f  female   27       Dutch  Football                    61   \n",
       "11  x3562f    male   28       Dutch  Football                    56   \n",
       "12  x4044c  female   27      German  Football                    62   \n",
       "13  x9428d    male   26       Dutch  Football                    56   \n",
       "\n",
       "    ind-debateclub  ind-programming_exp  ind-international_exp  \\\n",
       "0            False                False                  False   \n",
       "1            False                 True                  False   \n",
       "4            False                False                  False   \n",
       "7            False                 True                  False   \n",
       "8             True                False                  False   \n",
       "9             True                False                  False   \n",
       "10           False                False                  False   \n",
       "11           False                False                  False   \n",
       "12           False                 True                  False   \n",
       "13           False                False                  False   \n",
       "\n",
       "    ind-entrepeneur_exp  ind-languages  ind-exact_study ind-degree company  \\\n",
       "0                 False              1             True        phd       A   \n",
       "1                 False              2             True   bachelor       A   \n",
       "4                 False              1            False     master       A   \n",
       "7                 False              1             True     master       A   \n",
       "8                  True              3            False   bachelor       A   \n",
       "9                  True              3            False     master       A   \n",
       "10                False              1             True   bachelor       A   \n",
       "11                 True              2            False   bachelor       A   \n",
       "12                False              1             True   bachelor       A   \n",
       "13                False              1            False   bachelor       A   \n",
       "\n",
       "    decision  \n",
       "0       True  \n",
       "1      False  \n",
       "4       True  \n",
       "7       True  \n",
       "8      False  \n",
       "9       True  \n",
       "10     False  \n",
       "11      True  \n",
       "12     False  \n",
       "13     False  "
      ]
     },
     "execution_count": 6,
     "metadata": {},
     "output_type": "execute_result"
    }
   ],
   "source": [
    "filtered_df.head(10)"
   ]
  },
  {
   "cell_type": "code",
   "execution_count": 7,
   "id": "4388c893",
   "metadata": {},
   "outputs": [
    {
     "data": {
      "text/plain": [
       "(492, 15)"
      ]
     },
     "execution_count": 7,
     "metadata": {},
     "output_type": "execute_result"
    }
   ],
   "source": [
    "filtered_df.shape"
   ]
  },
  {
   "cell_type": "code",
   "execution_count": 8,
   "id": "5b03fa3f",
   "metadata": {},
   "outputs": [
    {
     "data": {
      "text/html": [
       "<div>\n",
       "<style scoped>\n",
       "    .dataframe tbody tr th:only-of-type {\n",
       "        vertical-align: middle;\n",
       "    }\n",
       "\n",
       "    .dataframe tbody tr th {\n",
       "        vertical-align: top;\n",
       "    }\n",
       "\n",
       "    .dataframe thead th {\n",
       "        text-align: right;\n",
       "    }\n",
       "</style>\n",
       "<table border=\"1\" class=\"dataframe\">\n",
       "  <thead>\n",
       "    <tr style=\"text-align: right;\">\n",
       "      <th></th>\n",
       "      <th>age</th>\n",
       "      <th>ind-university_grade</th>\n",
       "      <th>ind-languages</th>\n",
       "    </tr>\n",
       "  </thead>\n",
       "  <tbody>\n",
       "    <tr>\n",
       "      <th>count</th>\n",
       "      <td>492.000000</td>\n",
       "      <td>492.000000</td>\n",
       "      <td>492.000000</td>\n",
       "    </tr>\n",
       "    <tr>\n",
       "      <th>mean</th>\n",
       "      <td>26.247967</td>\n",
       "      <td>61.833333</td>\n",
       "      <td>1.392276</td>\n",
       "    </tr>\n",
       "    <tr>\n",
       "      <th>std</th>\n",
       "      <td>2.602579</td>\n",
       "      <td>5.853321</td>\n",
       "      <td>0.848253</td>\n",
       "    </tr>\n",
       "    <tr>\n",
       "      <th>min</th>\n",
       "      <td>21.000000</td>\n",
       "      <td>47.000000</td>\n",
       "      <td>0.000000</td>\n",
       "    </tr>\n",
       "    <tr>\n",
       "      <th>25%</th>\n",
       "      <td>24.000000</td>\n",
       "      <td>58.000000</td>\n",
       "      <td>1.000000</td>\n",
       "    </tr>\n",
       "    <tr>\n",
       "      <th>50%</th>\n",
       "      <td>26.000000</td>\n",
       "      <td>62.000000</td>\n",
       "      <td>1.000000</td>\n",
       "    </tr>\n",
       "    <tr>\n",
       "      <th>75%</th>\n",
       "      <td>28.000000</td>\n",
       "      <td>66.000000</td>\n",
       "      <td>2.000000</td>\n",
       "    </tr>\n",
       "    <tr>\n",
       "      <th>max</th>\n",
       "      <td>32.000000</td>\n",
       "      <td>77.000000</td>\n",
       "      <td>3.000000</td>\n",
       "    </tr>\n",
       "  </tbody>\n",
       "</table>\n",
       "</div>"
      ],
      "text/plain": [
       "              age  ind-university_grade  ind-languages\n",
       "count  492.000000            492.000000     492.000000\n",
       "mean    26.247967             61.833333       1.392276\n",
       "std      2.602579              5.853321       0.848253\n",
       "min     21.000000             47.000000       0.000000\n",
       "25%     24.000000             58.000000       1.000000\n",
       "50%     26.000000             62.000000       1.000000\n",
       "75%     28.000000             66.000000       2.000000\n",
       "max     32.000000             77.000000       3.000000"
      ]
     },
     "execution_count": 8,
     "metadata": {},
     "output_type": "execute_result"
    }
   ],
   "source": [
    "filtered_df.describe()"
   ]
  },
  {
   "cell_type": "code",
   "execution_count": 9,
   "id": "21a179e3-51c0-4816-95b2-b05c9f8ae3a7",
   "metadata": {},
   "outputs": [
    {
     "data": {
      "text/plain": [
       "Football    243\n",
       "Swimming    163\n",
       "Golf         86\n",
       "Name: sport, dtype: int64"
      ]
     },
     "execution_count": 9,
     "metadata": {},
     "output_type": "execute_result"
    }
   ],
   "source": [
    "sport_counts = filtered_df['sport'].value_counts()\n",
    "sport_counts"
   ]
  },
  {
   "cell_type": "code",
   "execution_count": 10,
   "id": "56219ccd-ee20-4e60-9c22-4ef6dac4f90f",
   "metadata": {},
   "outputs": [
    {
     "data": {
      "text/plain": [
       "Dutch      367\n",
       "German      68\n",
       "Belgian     57\n",
       "Name: nationality, dtype: int64"
      ]
     },
     "execution_count": 10,
     "metadata": {},
     "output_type": "execute_result"
    }
   ],
   "source": [
    "nationality_counts = filtered_df['nationality'].value_counts()\n",
    "nationality_counts"
   ]
  },
  {
   "cell_type": "code",
   "execution_count": 11,
   "id": "da09a466-0900-4af3-a8c7-60935e0c5558",
   "metadata": {},
   "outputs": [
    {
     "data": {
      "text/plain": [
       "False    277\n",
       "True     215\n",
       "Name: decision, dtype: int64"
      ]
     },
     "execution_count": 11,
     "metadata": {},
     "output_type": "execute_result"
    }
   ],
   "source": [
    "hired_counts = filtered_df['decision'].value_counts()\n",
    "hired_counts"
   ]
  },
  {
   "cell_type": "code",
   "execution_count": 12,
   "id": "caf0c8b0-6cad-4f02-90e0-e5eaeacba8cb",
   "metadata": {},
   "outputs": [
    {
     "data": {
      "text/plain": [
       "bachelor    260\n",
       "master      205\n",
       "phd          27\n",
       "Name: ind-degree, dtype: int64"
      ]
     },
     "execution_count": 12,
     "metadata": {},
     "output_type": "execute_result"
    }
   ],
   "source": [
    "degree_counts = filtered_df['ind-degree'].value_counts()\n",
    "degree_counts"
   ]
  },
  {
   "cell_type": "code",
   "execution_count": 13,
   "id": "f90a4a16-4a00-4e41-a1fa-be29a4fe16c2",
   "metadata": {},
   "outputs": [
    {
     "data": {
      "text/plain": [
       "male      267\n",
       "female    217\n",
       "other       8\n",
       "Name: gender, dtype: int64"
      ]
     },
     "execution_count": 13,
     "metadata": {},
     "output_type": "execute_result"
    }
   ],
   "source": [
    "gender_counts = filtered_df['gender'].value_counts()\n",
    "gender_counts"
   ]
  },
  {
   "cell_type": "code",
   "execution_count": 14,
   "id": "ee6a5b55-2960-4428-b18e-5c6a06e2c8ac",
   "metadata": {},
   "outputs": [
    {
     "data": {
      "text/plain": [
       "1    210\n",
       "2    164\n",
       "0     69\n",
       "3     49\n",
       "Name: ind-languages, dtype: int64"
      ]
     },
     "execution_count": 14,
     "metadata": {},
     "output_type": "execute_result"
    }
   ],
   "source": [
    "languages_counts = filtered_df['ind-languages'].value_counts()\n",
    "languages_counts"
   ]
  },
  {
   "cell_type": "markdown",
   "id": "f79752c0-024c-451f-9c09-286b4659eef5",
   "metadata": {},
   "source": [
    "**Explore the data**"
   ]
  },
  {
   "cell_type": "code",
   "execution_count": 15,
   "id": "06959fd6-354e-41ce-b033-f5a6f6c1b26a",
   "metadata": {},
   "outputs": [],
   "source": [
    "df = filtered_df"
   ]
  },
  {
   "cell_type": "code",
   "execution_count": 16,
   "id": "eb60e357-6062-46c0-8797-b24ae509571f",
   "metadata": {},
   "outputs": [
    {
     "data": {
      "image/png": "[encoded data removed]",
      "text/plain": [
       "<Figure size 720x432 with 1 Axes>"
      ]
     },
     "metadata": {
      "needs_background": "light"
     },
     "output_type": "display_data"
    }
   ],
   "source": [
    "hired_probability = df.groupby(['age', 'gender'])['decision'].mean().reset_index()\n",
    "plt.figure(figsize=(10, 6))\n",
    "custom_palette = {'male': '#3EA19E', 'female': '#D87AD3', 'other': '#09AD1D'}\n",
    "sns.barplot(x='age', y='decision', hue='gender', data=hired_probability, palette=custom_palette)\n",
    "plt.title('Age and Gender vs. Hiring Probability')\n",
    "plt.xlabel('Age')\n",
    "plt.ylabel('Hiring Probability')\n",
    "plt.legend(title='Gender', loc='upper right')\n",
    "plt.ylim(0, 1.0)\n",
    "plt.grid(True)\n",
    "plt.show()"
   ]
  },
  {
   "cell_type": "code",
   "execution_count": 17,
   "id": "30486e5d-a680-40ad-973a-60013ba1a568",
   "metadata": {},
   "outputs": [
    {
     "data": {
      "image/png": "[encoded data removed]",
      "text/plain": [
       "<Figure size 720x432 with 1 Axes>"
      ]
     },
     "metadata": {
      "needs_background": "light"
     },
     "output_type": "display_data"
    }
   ],
   "source": [
    "hired_probability = df.groupby(['ind-international_exp', 'age'])['decision'].mean().reset_index()\n",
    "plt.figure(figsize=(10, 6))\n",
    "sns.barplot(x='ind-international_exp', y='decision', hue='age', data=hired_probability)\n",
    "plt.title('International Experience and Age vs. Hiring Probability')\n",
    "plt.xlabel('International Experience')\n",
    "plt.ylabel('Hiring Probability')\n",
    "plt.legend(title='Age', loc='upper right')\n",
    "plt.ylim(0, 1.0)\n",
    "plt.grid(True)\n",
    "plt.show()"
   ]
  },
  {
   "cell_type": "code",
   "execution_count": 18,
   "id": "0fd2322d-d8b9-4ac4-9ab0-6dbb92e6aa9b",
   "metadata": {},
   "outputs": [
    {
     "data": {
      "image/png": "[encoded data removed]",
      "text/plain": [
       "<Figure size 720x432 with 1 Axes>"
      ]
     },
     "metadata": {
      "needs_background": "light"
     },
     "output_type": "display_data"
    }
   ],
   "source": [
    "filtered_df1 = df[df['ind-university_grade'] >= 55]\n",
    "hired_probability = filtered_df1.groupby(['ind-university_grade', 'gender'])['decision'].mean().reset_index()\n",
    "custom_palette = {'male': '#3EA19E', 'female': '#D87AD3', 'other': '#09AD1D'}\n",
    "plt.figure(figsize=(10, 6))\n",
    "sns.barplot(x='ind-university_grade', y='decision', hue='gender', data=hired_probability, palette=custom_palette)\n",
    "plt.title('University Grade and Gender vs. Hiring Probability')\n",
    "plt.xlabel('University Grade')\n",
    "plt.ylabel('Hiring Probability')\n",
    "plt.legend(title='Gender', loc='upper right')\n",
    "plt.ylim(0, 1.0)\n",
    "plt.grid(True)\n",
    "plt.show()"
   ]
  },
  {
   "cell_type": "code",
   "execution_count": 19,
   "id": "7f1864f5-1479-43a3-b768-f8b20d12d16c",
   "metadata": {},
   "outputs": [
    {
     "data": {
      "image/png": "[encoded data removed]",
      "text/plain": [
       "<Figure size 720x432 with 1 Axes>"
      ]
     },
     "metadata": {
      "needs_background": "light"
     },
     "output_type": "display_data"
    }
   ],
   "source": [
    "hired_probability = df.groupby(['age', 'sport'])['decision'].mean().reset_index()\n",
    "plt.figure(figsize=(10, 6))\n",
    "custom_palette = {'Swimming': '#3EA19E', 'Football': '#D87AD3', 'Golf': '#09AD1D'}\n",
    "sns.barplot(x='age', y='decision', hue='sport', data=hired_probability, palette=custom_palette)\n",
    "plt.title('Age and Sport vs. Hiring Probability')\n",
    "plt.xlabel('Age')\n",
    "plt.ylabel('Hiring Probability')\n",
    "plt.legend(title='Sport', loc='upper right')\n",
    "plt.ylim(0, 1.0)\n",
    "plt.grid(True)\n",
    "plt.show()"
   ]
  },
  {
   "cell_type": "code",
   "execution_count": 20,
   "id": "c8f108d7-9700-4240-a3b1-30382a60d814",
   "metadata": {},
   "outputs": [
    {
     "data": {
      "image/png": "[encoded data removed]",
      "text/plain": [
       "<Figure size 720x432 with 1 Axes>"
      ]
     },
     "metadata": {
      "needs_background": "light"
     },
     "output_type": "display_data"
    }
   ],
   "source": [
    "hired_probability = df.groupby(['age', 'ind-entrepeneur_exp'])['decision'].mean().reset_index()\n",
    "plt.figure(figsize=(10, 6))\n",
    "custom_palette = ['#3EA19E', '#D87AD3']\n",
    "sns.barplot(x='age', y='decision', hue='ind-entrepeneur_exp', data=hired_probability, palette=custom_palette)\n",
    "plt.title('Age and Entrepreneur Experience vs. Hiring Probability')\n",
    "plt.xlabel('Age')\n",
    "plt.ylabel('Hiring Probability')\n",
    "plt.legend(title='Entrepreneur Experience', loc='upper right')\n",
    "plt.ylim(0, 1.0)\n",
    "plt.grid(True)\n",
    "plt.show()"
   ]
  },
  {
   "cell_type": "code",
   "execution_count": 21,
   "id": "b6f043ff-d2e6-478a-8377-69f51d8b3bfb",
   "metadata": {},
   "outputs": [
    {
     "data": {
      "image/png": "[encoded data removed]",
      "text/plain": [
       "<Figure size 720x432 with 1 Axes>"
      ]
     },
     "metadata": {
      "needs_background": "light"
     },
     "output_type": "display_data"
    }
   ],
   "source": [
    "filtered_df1 = df[df['ind-university_grade'] >= 55]\n",
    "hired_probability = filtered_df1.groupby(['ind-debateclub', 'ind-university_grade'])['decision'].mean().reset_index()\n",
    "plt.figure(figsize=(10, 6))\n",
    "custom_palette = ['#3EA19E', '#D87AD3']\n",
    "sns.barplot(x='ind-university_grade', y='decision', hue='ind-debateclub', data=hired_probability, palette=custom_palette)\n",
    "plt.title('University Grade and Debate Club vs. Hiring Probability')\n",
    "plt.xlabel('University Grade')\n",
    "plt.ylabel('Hiring Probability')\n",
    "plt.legend(title='Debate Club', loc='upper right')\n",
    "plt.ylim(0, 1.0)\n",
    "plt.grid(True)\n",
    "plt.show()"
   ]
  },
  {
   "cell_type": "code",
   "execution_count": 22,
   "id": "1bc28697-a52f-4f6a-a2d4-aa93a286c5ca",
   "metadata": {},
   "outputs": [
    {
     "data": {
      "image/png": "[encoded data removed]",
      "text/plain": [
       "<Figure size 864x432 with 1 Axes>"
      ]
     },
     "metadata": {
      "needs_background": "light"
     },
     "output_type": "display_data"
    }
   ],
   "source": [
    "grouped = df.groupby(['ind-degree', 'nationality', 'ind-exact_study'])['decision'].mean().unstack()\n",
    "\n",
    "colors = [\"#3EA19E\", \"#D87AD3\"]\n",
    "\n",
    "fig, ax = plt.subplots(figsize=(12, 6))\n",
    "grouped.plot(kind='bar', ax=ax, color=colors)\n",
    "plt.xlabel('Degree, Nationality, Exact Study')\n",
    "plt.ylabel('Hiring Probability')\n",
    "plt.title('Hiring Probability by Degree, Nationality, and Exact Study')\n",
    "plt.xticks(rotation=45)\n",
    "plt.legend(title='Exact Study', labels=['False', 'True'])\n",
    "plt.tight_layout()\n",
    "plt.show()"
   ]
  },
  {
   "cell_type": "markdown",
   "id": "708ac14e-a3e4-4aa2-bfe0-1040b5522427",
   "metadata": {},
   "source": [
    "**Data Preparation**"
   ]
  },
  {
   "cell_type": "code",
   "execution_count": null,
   "id": "25e8eb8c-7cae-4f3b-856b-80d43b9451b6",
   "metadata": {},
   "outputs": [],
   "source": []
  },
  {
   "cell_type": "markdown",
   "id": "4e8c4e74-9e00-49c1-acac-712c4ce60b4b",
   "metadata": {},
   "source": [
    "**Modelling the data**"
   ]
  },
  {
   "cell_type": "code",
   "execution_count": 23,
   "id": "5cd7acb5",
   "metadata": {},
   "outputs": [
    {
     "data": {
      "text/html": [
       "<div>\n",
       "<style scoped>\n",
       "    .dataframe tbody tr th:only-of-type {\n",
       "        vertical-align: middle;\n",
       "    }\n",
       "\n",
       "    .dataframe tbody tr th {\n",
       "        vertical-align: top;\n",
       "    }\n",
       "\n",
       "    .dataframe thead th {\n",
       "        text-align: right;\n",
       "    }\n",
       "</style>\n",
       "<table border=\"1\" class=\"dataframe\">\n",
       "  <thead>\n",
       "    <tr style=\"text-align: right;\">\n",
       "      <th></th>\n",
       "      <th>Id</th>\n",
       "      <th>gender</th>\n",
       "      <th>age</th>\n",
       "      <th>nationality</th>\n",
       "      <th>sport</th>\n",
       "      <th>ind-university_grade</th>\n",
       "      <th>ind-debateclub</th>\n",
       "      <th>ind-programming_exp</th>\n",
       "      <th>ind-international_exp</th>\n",
       "      <th>ind-entrepeneur_exp</th>\n",
       "      <th>ind-languages</th>\n",
       "      <th>ind-exact_study</th>\n",
       "      <th>ind-degree</th>\n",
       "      <th>company</th>\n",
       "      <th>decision</th>\n",
       "    </tr>\n",
       "  </thead>\n",
       "  <tbody>\n",
       "    <tr>\n",
       "      <th>548</th>\n",
       "      <td>x6445e</td>\n",
       "      <td>female</td>\n",
       "      <td>26</td>\n",
       "      <td>German</td>\n",
       "      <td>Golf</td>\n",
       "      <td>56</td>\n",
       "      <td>False</td>\n",
       "      <td>False</td>\n",
       "      <td>False</td>\n",
       "      <td>False</td>\n",
       "      <td>1</td>\n",
       "      <td>False</td>\n",
       "      <td>bachelor</td>\n",
       "      <td>A</td>\n",
       "      <td>False</td>\n",
       "    </tr>\n",
       "    <tr>\n",
       "      <th>613</th>\n",
       "      <td>x9736a</td>\n",
       "      <td>male</td>\n",
       "      <td>21</td>\n",
       "      <td>Dutch</td>\n",
       "      <td>Golf</td>\n",
       "      <td>64</td>\n",
       "      <td>False</td>\n",
       "      <td>True</td>\n",
       "      <td>False</td>\n",
       "      <td>True</td>\n",
       "      <td>2</td>\n",
       "      <td>True</td>\n",
       "      <td>bachelor</td>\n",
       "      <td>A</td>\n",
       "      <td>False</td>\n",
       "    </tr>\n",
       "    <tr>\n",
       "      <th>475</th>\n",
       "      <td>x7139e</td>\n",
       "      <td>male</td>\n",
       "      <td>32</td>\n",
       "      <td>Dutch</td>\n",
       "      <td>Golf</td>\n",
       "      <td>65</td>\n",
       "      <td>False</td>\n",
       "      <td>False</td>\n",
       "      <td>True</td>\n",
       "      <td>False</td>\n",
       "      <td>0</td>\n",
       "      <td>True</td>\n",
       "      <td>master</td>\n",
       "      <td>A</td>\n",
       "      <td>False</td>\n",
       "    </tr>\n",
       "    <tr>\n",
       "      <th>894</th>\n",
       "      <td>x3914e</td>\n",
       "      <td>male</td>\n",
       "      <td>30</td>\n",
       "      <td>Dutch</td>\n",
       "      <td>Football</td>\n",
       "      <td>59</td>\n",
       "      <td>False</td>\n",
       "      <td>False</td>\n",
       "      <td>False</td>\n",
       "      <td>True</td>\n",
       "      <td>2</td>\n",
       "      <td>False</td>\n",
       "      <td>bachelor</td>\n",
       "      <td>A</td>\n",
       "      <td>True</td>\n",
       "    </tr>\n",
       "    <tr>\n",
       "      <th>150</th>\n",
       "      <td>x8983a</td>\n",
       "      <td>female</td>\n",
       "      <td>24</td>\n",
       "      <td>Dutch</td>\n",
       "      <td>Football</td>\n",
       "      <td>64</td>\n",
       "      <td>False</td>\n",
       "      <td>False</td>\n",
       "      <td>False</td>\n",
       "      <td>False</td>\n",
       "      <td>2</td>\n",
       "      <td>True</td>\n",
       "      <td>bachelor</td>\n",
       "      <td>A</td>\n",
       "      <td>True</td>\n",
       "    </tr>\n",
       "  </tbody>\n",
       "</table>\n",
       "</div>"
      ],
      "text/plain": [
       "         Id  gender  age nationality     sport  ind-university_grade  \\\n",
       "548  x6445e  female   26      German      Golf                    56   \n",
       "613  x9736a    male   21       Dutch      Golf                    64   \n",
       "475  x7139e    male   32       Dutch      Golf                    65   \n",
       "894  x3914e    male   30       Dutch  Football                    59   \n",
       "150  x8983a  female   24       Dutch  Football                    64   \n",
       "\n",
       "     ind-debateclub  ind-programming_exp  ind-international_exp  \\\n",
       "548           False                False                  False   \n",
       "613           False                 True                  False   \n",
       "475           False                False                   True   \n",
       "894           False                False                  False   \n",
       "150           False                False                  False   \n",
       "\n",
       "     ind-entrepeneur_exp  ind-languages  ind-exact_study ind-degree company  \\\n",
       "548                False              1            False   bachelor       A   \n",
       "613                 True              2             True   bachelor       A   \n",
       "475                False              0             True     master       A   \n",
       "894                 True              2            False   bachelor       A   \n",
       "150                False              2             True   bachelor       A   \n",
       "\n",
       "     decision  \n",
       "548     False  \n",
       "613     False  \n",
       "475     False  \n",
       "894      True  \n",
       "150      True  "
      ]
     },
     "execution_count": 23,
     "metadata": {},
     "output_type": "execute_result"
    }
   ],
   "source": [
    "df_train, df_test = skl.model_selection.train_test_split(filtered_df, test_size=0.20, random_state=9, shuffle=True)\n",
    "df_train, df_val = skl.model_selection.train_test_split(df_train, test_size=0.20, random_state=9, shuffle=True)\n",
    "df_train.head()"
   ]
  },
  {
   "cell_type": "code",
   "execution_count": 24,
   "id": "448e5e8a",
   "metadata": {},
   "outputs": [],
   "source": [
    "X_train = df_train[['gender','age', 'nationality', 'sport', 'ind-university_grade', 'ind-debateclub', 'ind-programming_exp',\t'ind-international_exp', \t'ind-languages', 'ind-exact_study',\t'ind-degree', 'company']]\n",
    "y_train = df_train['decision']\n",
    "X_val = df_val[['gender','age', 'nationality', 'sport', 'ind-university_grade', 'ind-debateclub', 'ind-programming_exp',\t'ind-international_exp', \t'ind-languages', 'ind-exact_study',\t'ind-degree', 'company']]\n",
    "y_val = df_val['decision']\n",
    "X_test = df_test[['gender','age', 'nationality', 'sport', 'ind-university_grade', 'ind-debateclub', 'ind-programming_exp',\t'ind-international_exp', \t'ind-languages', 'ind-exact_study',\t'ind-degree', 'company']]\n",
    "y_test = df_test['decision']"
   ]
  },
  {
   "cell_type": "code",
   "execution_count": 25,
   "id": "ef70458a",
   "metadata": {},
   "outputs": [],
   "source": [
    "# Define preprocessing steps\n",
    "categorical_features = ['sport', 'ind-degree', 'ind-exact_study', 'ind-debateclub', 'ind-programming_exp', 'ind-international_exp']\n",
    "categorical_transformer = Pipeline(steps=[\n",
    "    ('onehot', OneHotEncoder(handle_unknown='ignore'))\n",
    "])\n",
    "\n",
    "numeric_features = ['ind-university_grade', 'ind-languages']\n",
    "numeric_transformer = Pipeline(steps=[\n",
    "    ('scaler', StandardScaler())\n",
    "])\n",
    "\n",
    "# Combine preprocessing steps\n",
    "from sklearn.compose import ColumnTransformer\n",
    "\n",
    "preprocessor = ColumnTransformer(\n",
    "    transformers=[\n",
    "        ('num', numeric_transformer, numeric_features),\n",
    "        ('cat', categorical_transformer, categorical_features)\n",
    "    ])\n",
    "\n",
    "\n",
    "pipeline = Pipeline(steps=[('preprocessor', preprocessor),\n",
    "                           ('classifier', DecisionTreeClassifier())])"
   ]
  },
  {
   "cell_type": "code",
   "execution_count": 26,
   "id": "c82613cc",
   "metadata": {},
   "outputs": [
    {
     "data": {
      "text/plain": [
       "Pipeline(steps=[('preprocessor',\n",
       "                 ColumnTransformer(transformers=[('num',\n",
       "                                                  Pipeline(steps=[('scaler',\n",
       "                                                                   StandardScaler())]),\n",
       "                                                  ['ind-university_grade',\n",
       "                                                   'ind-languages']),\n",
       "                                                 ('cat',\n",
       "                                                  Pipeline(steps=[('onehot',\n",
       "                                                                   OneHotEncoder(handle_unknown='ignore'))]),\n",
       "                                                  ['sport', 'ind-degree',\n",
       "                                                   'ind-exact_study',\n",
       "                                                   'ind-debateclub',\n",
       "                                                   'ind-programming_exp',\n",
       "                                                   'ind-international_exp'])])),\n",
       "                ('classifier', DecisionTreeClassifier())])"
      ]
     },
     "execution_count": 26,
     "metadata": {},
     "output_type": "execute_result"
    }
   ],
   "source": [
    "pipeline.fit(X_train, y_train)"
   ]
  },
  {
   "cell_type": "code",
   "execution_count": 27,
   "id": "0ec5fa19",
   "metadata": {},
   "outputs": [
    {
     "name": "stdout",
     "output_type": "stream",
     "text": [
      "DecisionTreeClassifier(max_depth=18)\n"
     ]
    }
   ],
   "source": [
    "# Define hyperparameters to search\n",
    "param_grid = {\n",
    "    'classifier__max_depth': [1,2,3,4,5,6,7,8,9,10,11,12,13,14,15,16,17,18,19,20],\n",
    "    'classifier__min_samples_split': [2, 5, 6, 10, 13, 15]  ,\n",
    "    'classifier__min_samples_leaf': [1, 2, 4],\n",
    "}\n",
    "\n",
    "# Create a grid search with cross-validation\n",
    "grid_search = GridSearchCV(pipeline, param_grid, cv=5, scoring='f1')\n",
    "grid_search.fit(X_train, y_train)\n",
    "\n",
    "# Get the best hyperparameters\n",
    "best_params = grid_search.best_params_\n",
    "best_classifier = grid_search.best_estimator_.named_steps['classifier']\n",
    "print(best_classifier)"
   ]
  },
  {
   "cell_type": "code",
   "execution_count": 28,
   "id": "5e5933f6",
   "metadata": {},
   "outputs": [
    {
     "name": "stdout",
     "output_type": "stream",
     "text": [
      "Classification Report:\n",
      "              precision    recall  f1-score   support\n",
      "\n",
      "       False       0.94      0.99      0.97       182\n",
      "        True       0.98      0.92      0.95       132\n",
      "\n",
      "    accuracy                           0.96       314\n",
      "   macro avg       0.96      0.95      0.96       314\n",
      "weighted avg       0.96      0.96      0.96       314\n",
      "\n",
      "Precision: 0.98\n",
      "Recall: 0.92\n",
      "F1-score: 0.95\n"
     ]
    },
    {
     "data": {
      "image/png": "[encoded data removed]",
      "text/plain": [
       "<Figure size 432x288 with 2 Axes>"
      ]
     },
     "metadata": {
      "needs_background": "light"
     },
     "output_type": "display_data"
    }
   ],
   "source": [
    "# Make predictions on the training set\n",
    "y_pred = grid_search.predict(X_train)\n",
    "\n",
    "# Generate a classification report and confusion matrix\n",
    "print(\"Classification Report:\")\n",
    "print(classification_report(y_train, y_pred))\n",
    "\n",
    "conf_matrix = confusion_matrix(y_train, y_pred)\n",
    "# Calculate precision, recall, and F1-score\n",
    "precision = conf_matrix[1, 1] / (conf_matrix[1, 1] + conf_matrix[0, 1])\n",
    "recall = conf_matrix[1, 1] / (conf_matrix[1, 1] + conf_matrix[1, 0])\n",
    "f1_score = 2 * (precision * recall) / (precision + recall)\n",
    "\n",
    "# Print the results\n",
    "print(\"Precision: {:.2f}\".format(precision))\n",
    "print(\"Recall: {:.2f}\".format(recall))\n",
    "print(\"F1-score: {:.2f}\".format(f1_score))\n",
    "\n",
    "sns.heatmap(confusion_matrix(y_train, y_pred), annot=True, cmap='Blues')\n",
    "plt.xlabel('Predicted')\n",
    "plt.ylabel('Actual')\n",
    "plt.show()"
   ]
  },
  {
   "cell_type": "code",
   "execution_count": 29,
   "id": "7b131acd",
   "metadata": {},
   "outputs": [
    {
     "name": "stdout",
     "output_type": "stream",
     "text": [
      "Classification Report:\n",
      "              precision    recall  f1-score   support\n",
      "\n",
      "       False       0.70      0.74      0.72        43\n",
      "        True       0.67      0.61      0.64        36\n",
      "\n",
      "    accuracy                           0.68        79\n",
      "   macro avg       0.68      0.68      0.68        79\n",
      "weighted avg       0.68      0.68      0.68        79\n",
      "\n",
      "Precision: 0.67\n",
      "Recall: 0.61\n",
      "F1-score: 0.64\n"
     ]
    },
    {
     "data": {
      "image/png": "[encoded data removed]",
      "text/plain": [
       "<Figure size 432x288 with 2 Axes>"
      ]
     },
     "metadata": {
      "needs_background": "light"
     },
     "output_type": "display_data"
    }
   ],
   "source": [
    "# Make predictions on the validation set\n",
    "y_pred = grid_search.predict(X_val)\n",
    "\n",
    "# Generate a classification report and confusion matrix\n",
    "print(\"Classification Report:\")\n",
    "print(classification_report(y_val, y_pred))\n",
    "\n",
    "conf_matrix = confusion_matrix(y_val, y_pred)\n",
    "# Calculate precision, recall, and F1-score\n",
    "precision = conf_matrix[1, 1] / (conf_matrix[1, 1] + conf_matrix[0, 1])\n",
    "recall = conf_matrix[1, 1] / (conf_matrix[1, 1] + conf_matrix[1, 0])\n",
    "f1_score = 2 * (precision * recall) / (precision + recall)\n",
    "\n",
    "# Print the results\n",
    "print(\"Precision: {:.2f}\".format(precision))\n",
    "print(\"Recall: {:.2f}\".format(recall))\n",
    "print(\"F1-score: {:.2f}\".format(f1_score))\n",
    "\n",
    "\n",
    "sns.heatmap(confusion_matrix(y_val, y_pred), annot=True, cmap='Blues')\n",
    "plt.xlabel('Predicted')\n",
    "plt.ylabel('Actual')\n",
    "plt.show()\n"
   ]
  },
  {
   "cell_type": "code",
   "execution_count": 30,
   "id": "314f1ba9",
   "metadata": {},
   "outputs": [
    {
     "name": "stderr",
     "output_type": "stream",
     "text": [
      "C:\\Users\\malgo\\anaconda3\\lib\\site-packages\\sklearn\\model_selection\\_validation.py:610: FitFailedWarning: Estimator fit failed. The score on this train-test partition for these parameters will be set to nan. Details: \n",
      "Traceback (most recent call last):\n",
      "  File \"C:\\Users\\malgo\\anaconda3\\lib\\site-packages\\sklearn\\model_selection\\_validation.py\", line 593, in _fit_and_score\n",
      "    estimator.fit(X_train, y_train, **fit_params)\n",
      "  File \"C:\\Users\\malgo\\anaconda3\\lib\\site-packages\\sklearn\\pipeline.py\", line 346, in fit\n",
      "    self._final_estimator.fit(Xt, y, **fit_params_last_step)\n",
      "  File \"C:\\Users\\malgo\\anaconda3\\lib\\site-packages\\sklearn\\tree\\_classes.py\", line 898, in fit\n",
      "    super().fit(\n",
      "  File \"C:\\Users\\malgo\\anaconda3\\lib\\site-packages\\sklearn\\tree\\_classes.py\", line 237, in fit\n",
      "    raise ValueError(\"min_samples_split must be an integer \"\n",
      "ValueError: min_samples_split must be an integer greater than 1 or a float in (0.0, 1.0]; got the integer 1\n",
      "\n",
      "  warnings.warn(\"Estimator fit failed. The score on this train-test\"\n",
      "C:\\Users\\malgo\\anaconda3\\lib\\site-packages\\sklearn\\model_selection\\_validation.py:610: FitFailedWarning: Estimator fit failed. The score on this train-test partition for these parameters will be set to nan. Details: \n",
      "Traceback (most recent call last):\n",
      "  File \"C:\\Users\\malgo\\anaconda3\\lib\\site-packages\\sklearn\\model_selection\\_validation.py\", line 593, in _fit_and_score\n",
      "    estimator.fit(X_train, y_train, **fit_params)\n",
      "  File \"C:\\Users\\malgo\\anaconda3\\lib\\site-packages\\sklearn\\pipeline.py\", line 346, in fit\n",
      "    self._final_estimator.fit(Xt, y, **fit_params_last_step)\n",
      "  File \"C:\\Users\\malgo\\anaconda3\\lib\\site-packages\\sklearn\\tree\\_classes.py\", line 898, in fit\n",
      "    super().fit(\n",
      "  File \"C:\\Users\\malgo\\anaconda3\\lib\\site-packages\\sklearn\\tree\\_classes.py\", line 237, in fit\n",
      "    raise ValueError(\"min_samples_split must be an integer \"\n",
      "ValueError: min_samples_split must be an integer greater than 1 or a float in (0.0, 1.0]; got the integer 1\n",
      "\n",
      "  warnings.warn(\"Estimator fit failed. The score on this train-test\"\n",
      "C:\\Users\\malgo\\anaconda3\\lib\\site-packages\\sklearn\\model_selection\\_validation.py:610: FitFailedWarning: Estimator fit failed. The score on this train-test partition for these parameters will be set to nan. Details: \n",
      "Traceback (most recent call last):\n",
      "  File \"C:\\Users\\malgo\\anaconda3\\lib\\site-packages\\sklearn\\model_selection\\_validation.py\", line 593, in _fit_and_score\n",
      "    estimator.fit(X_train, y_train, **fit_params)\n",
      "  File \"C:\\Users\\malgo\\anaconda3\\lib\\site-packages\\sklearn\\pipeline.py\", line 346, in fit\n",
      "    self._final_estimator.fit(Xt, y, **fit_params_last_step)\n",
      "  File \"C:\\Users\\malgo\\anaconda3\\lib\\site-packages\\sklearn\\tree\\_classes.py\", line 898, in fit\n",
      "    super().fit(\n",
      "  File \"C:\\Users\\malgo\\anaconda3\\lib\\site-packages\\sklearn\\tree\\_classes.py\", line 237, in fit\n",
      "    raise ValueError(\"min_samples_split must be an integer \"\n",
      "ValueError: min_samples_split must be an integer greater than 1 or a float in (0.0, 1.0]; got the integer 1\n",
      "\n",
      "  warnings.warn(\"Estimator fit failed. The score on this train-test\"\n",
      "C:\\Users\\malgo\\anaconda3\\lib\\site-packages\\sklearn\\model_selection\\_validation.py:610: FitFailedWarning: Estimator fit failed. The score on this train-test partition for these parameters will be set to nan. Details: \n",
      "Traceback (most recent call last):\n",
      "  File \"C:\\Users\\malgo\\anaconda3\\lib\\site-packages\\sklearn\\model_selection\\_validation.py\", line 593, in _fit_and_score\n",
      "    estimator.fit(X_train, y_train, **fit_params)\n",
      "  File \"C:\\Users\\malgo\\anaconda3\\lib\\site-packages\\sklearn\\pipeline.py\", line 346, in fit\n",
      "    self._final_estimator.fit(Xt, y, **fit_params_last_step)\n",
      "  File \"C:\\Users\\malgo\\anaconda3\\lib\\site-packages\\sklearn\\tree\\_classes.py\", line 898, in fit\n",
      "    super().fit(\n",
      "  File \"C:\\Users\\malgo\\anaconda3\\lib\\site-packages\\sklearn\\tree\\_classes.py\", line 237, in fit\n",
      "    raise ValueError(\"min_samples_split must be an integer \"\n",
      "ValueError: min_samples_split must be an integer greater than 1 or a float in (0.0, 1.0]; got the integer 1\n",
      "\n",
      "  warnings.warn(\"Estimator fit failed. The score on this train-test\"\n",
      "C:\\Users\\malgo\\anaconda3\\lib\\site-packages\\sklearn\\model_selection\\_validation.py:610: FitFailedWarning: Estimator fit failed. The score on this train-test partition for these parameters will be set to nan. Details: \n",
      "Traceback (most recent call last):\n",
      "  File \"C:\\Users\\malgo\\anaconda3\\lib\\site-packages\\sklearn\\model_selection\\_validation.py\", line 593, in _fit_and_score\n",
      "    estimator.fit(X_train, y_train, **fit_params)\n",
      "  File \"C:\\Users\\malgo\\anaconda3\\lib\\site-packages\\sklearn\\pipeline.py\", line 346, in fit\n",
      "    self._final_estimator.fit(Xt, y, **fit_params_last_step)\n",
      "  File \"C:\\Users\\malgo\\anaconda3\\lib\\site-packages\\sklearn\\tree\\_classes.py\", line 898, in fit\n",
      "    super().fit(\n",
      "  File \"C:\\Users\\malgo\\anaconda3\\lib\\site-packages\\sklearn\\tree\\_classes.py\", line 237, in fit\n",
      "    raise ValueError(\"min_samples_split must be an integer \"\n",
      "ValueError: min_samples_split must be an integer greater than 1 or a float in (0.0, 1.0]; got the integer 1\n",
      "\n",
      "  warnings.warn(\"Estimator fit failed. The score on this train-test\"\n"
     ]
    },
    {
     "data": {
      "image/png": "[encoded data removed]",
      "text/plain": [
       "<Figure size 720x432 with 1 Axes>"
      ]
     },
     "metadata": {
      "needs_background": "light"
     },
     "output_type": "display_data"
    }
   ],
   "source": [
    "\n",
    "\n",
    "# Define a range of maximum depths to test\n",
    "max_depths = np.arange(1, 16)  # You can adjust the range as needed\n",
    "min_samples_split_values = [2, 5, 6, 10, 13, 15]  \n",
    "min_samples_leaf_values = [1, 2, 4]\n",
    "\n",
    "# Initialize lists to store mean cross-validation scores for each depth\n",
    "mean_scores_depth = []\n",
    "\n",
    "# Iterate over different maximum depths\n",
    "for depth in max_depths:\n",
    "    # Create a decision tree classifier with the current depth\n",
    "    classifier = DecisionTreeClassifier(max_depth=depth, random_state=42)\n",
    "\n",
    "    # Create a pipeline with the current classifier\n",
    "    pipeline = Pipeline(steps=[('preprocessor', preprocessor),\n",
    "                               ('classifier', classifier)])\n",
    "\n",
    "    # Perform cross-validation (adjust cv parameter as needed)\n",
    "    scores = cross_val_score(pipeline, X_train, y_train, cv=5, scoring='f1')\n",
    "\n",
    "    # Compute the mean score for this depth\n",
    "    mean_score = np.mean(scores)\n",
    "    mean_scores_depth.append(mean_score)\n",
    "\n",
    "mean_scores_samples = []\n",
    "\n",
    "# Iterate over different maximum depths\n",
    "for depth in max_depths:\n",
    "    # Create a decision tree classifier with the current depth\n",
    "    classifier = DecisionTreeClassifier(min_samples_split=depth, random_state=42)\n",
    "\n",
    "    # Create a pipeline with the current classifier\n",
    "    pipeline = Pipeline(steps=[('preprocessor', preprocessor),\n",
    "                               ('classifier', classifier)])\n",
    "\n",
    "    # Perform cross-validation (adjust cv parameter as needed)\n",
    "    scores = cross_val_score(pipeline, X_train, y_train, cv=5, scoring='f1')\n",
    "\n",
    "    # Compute the mean score for this depth\n",
    "    mean_score = np.mean(scores)\n",
    "    mean_scores_samples.append(mean_score)\n",
    "\n",
    "mean_scores_leaves = []\n",
    "\n",
    "# Iterate over different maximum depths\n",
    "for depth in max_depths:\n",
    "    # Create a decision tree classifier with the current depth\n",
    "    classifier = DecisionTreeClassifier(min_samples_leaf=depth, random_state=42)\n",
    "\n",
    "    # Create a pipeline with the current classifier\n",
    "    pipeline = Pipeline(steps=[('preprocessor', preprocessor),\n",
    "                               ('classifier', classifier)])\n",
    "\n",
    "    # Perform cross-validation (adjust cv parameter as needed)\n",
    "    scores = cross_val_score(pipeline, X_train, y_train, cv=5, scoring='f1')\n",
    "\n",
    "    # Compute the mean score for this depth\n",
    "    mean_score = np.mean(scores)\n",
    "    mean_scores_leaves.append(mean_score)\n",
    "\n",
    "# Plot the results\n",
    "plt.figure(figsize=(10, 6))\n",
    "plt.plot(max_depths, mean_scores_depth, marker='o', linestyle='-', color='red', label='Max Depth')\n",
    "plt.plot(max_depths, mean_scores_samples, marker='o', linestyle='-', color='blue', label='Min Samples Split')\n",
    "plt.plot(max_depths, mean_scores_leaves, marker='o', linestyle='-', color='green', label='Min Samples Leaf')\n",
    "plt.title('Decision Tree Hyperparameters vs. Performance')\n",
    "plt.xlabel('Hyperparameters')\n",
    "plt.ylabel('Mean F1 Score')\n",
    "plt.legend()\n",
    "plt.grid(True)\n",
    "plt.show()"
   ]
  },
  {
   "cell_type": "code",
   "execution_count": 31,
   "id": "0c6b35be",
   "metadata": {},
   "outputs": [
    {
     "name": "stdout",
     "output_type": "stream",
     "text": [
      "Classification Report:\n",
      "              precision    recall  f1-score   support\n",
      "\n",
      "       False       0.69      0.79      0.74        52\n",
      "        True       0.72      0.62      0.67        47\n",
      "\n",
      "    accuracy                           0.71        99\n",
      "   macro avg       0.71      0.70      0.70        99\n",
      "weighted avg       0.71      0.71      0.70        99\n",
      "\n",
      "Precision: 0.72\n",
      "Recall: 0.62\n",
      "F1-score: 0.67\n"
     ]
    },
    {
     "data": {
      "image/png": "[encoded data removed]",
      "text/plain": [
       "<Figure size 432x288 with 2 Axes>"
      ]
     },
     "metadata": {
      "needs_background": "light"
     },
     "output_type": "display_data"
    }
   ],
   "source": [
    "# Make predictions on the validation set\n",
    "y_pred = grid_search.predict(X_test)\n",
    "\n",
    "# Generate a classification report and confusion matrix\n",
    "print(\"Classification Report:\")\n",
    "print(classification_report(y_test, y_pred))\n",
    "\n",
    "conf_matrix = confusion_matrix(y_test, y_pred)\n",
    "# Calculate precision, recall, and F1-score\n",
    "precision = conf_matrix[1, 1] / (conf_matrix[1, 1] + conf_matrix[0, 1])\n",
    "recall = conf_matrix[1, 1] / (conf_matrix[1, 1] + conf_matrix[1, 0])\n",
    "f1_score = 2 * (precision * recall) / (precision + recall)\n",
    "\n",
    "# Print the results\n",
    "print(\"Precision: {:.2f}\".format(precision))\n",
    "print(\"Recall: {:.2f}\".format(recall))\n",
    "print(\"F1-score: {:.2f}\".format(f1_score))\n",
    "\n",
    "sns.heatmap(confusion_matrix(y_test, y_pred), annot=True, cmap='Blues')\n",
    "plt.xlabel('Predicted')\n",
    "plt.ylabel('Actual')\n",
    "plt.show()"
   ]
  },
  {
   "cell_type": "markdown",
   "id": "dfd89b52-990b-4375-aea9-24d2f3e67477",
   "metadata": {},
   "source": [
    "**Model Exploration**"
   ]
  },
  {
   "cell_type": "code",
   "execution_count": 32,
   "id": "b28f57ef-d4c2-4b2c-8887-ba1c05029813",
   "metadata": {},
   "outputs": [
    {
     "name": "stderr",
     "output_type": "stream",
     "text": [
      "<ipython-input-32-5e0196aa1458>:3: SettingWithCopyWarning: \n",
      "A value is trying to be set on a copy of a slice from a DataFrame.\n",
      "Try using .loc[row_indexer,col_indexer] = value instead\n",
      "\n",
      "See the caveats in the documentation: https://pandas.pydata.org/pandas-docs/stable/user_guide/indexing.html#returning-a-view-versus-a-copy\n",
      "  X_test[\"real\"] = y_test\n",
      "<ipython-input-32-5e0196aa1458>:4: SettingWithCopyWarning: \n",
      "A value is trying to be set on a copy of a slice from a DataFrame.\n",
      "Try using .loc[row_indexer,col_indexer] = value instead\n",
      "\n",
      "See the caveats in the documentation: https://pandas.pydata.org/pandas-docs/stable/user_guide/indexing.html#returning-a-view-versus-a-copy\n",
      "  X_test[\"predicted\"] = y_pred\n"
     ]
    }
   ],
   "source": [
    "# Using test data \n",
    "\n",
    "X_test[\"real\"] = y_test\n",
    "X_test[\"predicted\"] = y_pred"
   ]
  },
  {
   "cell_type": "code",
   "execution_count": 33,
   "id": "0bd9bef4-d55f-4d4a-a1e5-17d0579f32a7",
   "metadata": {},
   "outputs": [
    {
     "data": {
      "image/png": "[encoded data removed]",
      "text/plain": [
       "<Figure size 720x432 with 1 Axes>"
      ]
     },
     "metadata": {
      "needs_background": "light"
     },
     "output_type": "display_data"
    }
   ],
   "source": [
    "# Predicted hiring probability for different nationalities and genders\n",
    "\n",
    "hired_probability = X_test.groupby(['nationality', 'gender'])['predicted'].mean().reset_index()\n",
    "plt.figure(figsize=(10, 6))\n",
    "custom_palette = {'male': '#3EA19E', 'female': '#D87AD3', 'other': '#09AD1D'}\n",
    "sns.barplot(x='nationality', y='predicted', hue='gender', data=hired_probability, palette=custom_palette)\n",
    "plt.title('Nationality and Gender vs. Predicted Hiring Probability')\n",
    "plt.xlabel('Nationality')\n",
    "plt.ylabel('Predicted Hiring Probability')\n",
    "plt.legend(title='Gender', loc='upper right')\n",
    "plt.ylim(0, 1.0)\n",
    "plt.grid(True)\n",
    "plt.show()"
   ]
  },
  {
   "cell_type": "code",
   "execution_count": 34,
   "id": "e1c2722e-8593-45d8-897e-6060e34ec83a",
   "metadata": {},
   "outputs": [
    {
     "data": {
      "image/png": "[encoded data removed]",
      "text/plain": [
       "<Figure size 720x432 with 1 Axes>"
      ]
     },
     "metadata": {
      "needs_background": "light"
     },
     "output_type": "display_data"
    }
   ],
   "source": [
    "# Real hiring probability for different nationalities and genders\n",
    "\n",
    "hired_probability = X_test.groupby(['nationality', 'gender'])['real'].mean().reset_index()\n",
    "plt.figure(figsize=(10, 6))\n",
    "custom_palette = {'male': '#3EA19E', 'female': '#D87AD3', 'other': '#09AD1D'}\n",
    "sns.barplot(x='nationality', y='real', hue='gender', data=hired_probability, palette=custom_palette)\n",
    "plt.title('Nationality and Gender vs. Real Hiring Probability')\n",
    "plt.xlabel('Nationality')\n",
    "plt.ylabel('Real Hiring Probability')\n",
    "plt.legend(title='Gender', loc='upper right')\n",
    "plt.ylim(0, 1.0)\n",
    "plt.grid(True)\n",
    "plt.show()"
   ]
  },
  {
   "cell_type": "code",
   "execution_count": 35,
   "id": "b94c8dd9-024a-494c-85ec-5de4a5fb6f86",
   "metadata": {},
   "outputs": [
    {
     "data": {
      "image/png": "[encoded data removed]",
      "text/plain": [
       "<Figure size 720x432 with 1 Axes>"
      ]
     },
     "metadata": {
      "needs_background": "light"
     },
     "output_type": "display_data"
    }
   ],
   "source": [
    "# Predicted hiring probability for different ages and preferred sports\n",
    "\n",
    "hired_probability = X_test.groupby(['age', 'sport'])['predicted'].mean().reset_index()\n",
    "plt.figure(figsize=(10, 6))\n",
    "custom_palette = {'Swimming': '#3EA19E', 'Football': '#D87AD3', 'Golf': '#09AD1D'}\n",
    "sns.barplot(x='age', y='predicted', hue='sport', data=hired_probability, palette=custom_palette)\n",
    "plt.title('Age and Sport vs. Predicted Hiring Probability')\n",
    "plt.xlabel('Age')\n",
    "plt.ylabel('Predicted Hiring Probability')\n",
    "plt.legend(title='Sport', loc='upper right')\n",
    "plt.ylim(0, 1.0)\n",
    "plt.grid(True)\n",
    "plt.show()"
   ]
  },
  {
   "cell_type": "code",
   "execution_count": 36,
   "id": "c9b36f78-5abe-4e2a-96a3-316ab4e47bfe",
   "metadata": {},
   "outputs": [
    {
     "data": {
      "image/png": "[encoded data removed]",
      "text/plain": [
       "<Figure size 720x432 with 1 Axes>"
      ]
     },
     "metadata": {
      "needs_background": "light"
     },
     "output_type": "display_data"
    }
   ],
   "source": [
    "# Real hiring probability for different ages and preferred sports\n",
    "\n",
    "hired_probability = X_test.groupby(['age', 'sport'])['real'].mean().reset_index()\n",
    "plt.figure(figsize=(10, 6))\n",
    "custom_palette = {'Swimming': '#3EA19E', 'Football': '#D87AD3', 'Golf': '#09AD1D'}\n",
    "sns.barplot(x='age', y='real', hue='sport', data=hired_probability, palette=custom_palette)\n",
    "plt.title('Age and Sport vs. Real Hiring Probability')\n",
    "plt.xlabel('Age')\n",
    "plt.ylabel('Real Hiring Probability')\n",
    "plt.legend(title='Sport', loc='upper right')\n",
    "plt.ylim(0, 1.0)\n",
    "plt.grid(True)\n",
    "plt.show()"
   ]
  },
  {
   "cell_type": "code",
   "execution_count": 37,
   "id": "b9ab12e7-d048-4215-b0ec-a9cecc68293b",
   "metadata": {
    "tags": []
   },
   "outputs": [
    {
     "data": {
      "image/png": "[encoded data removed]",
      "text/plain": [
       "<Figure size 720x432 with 1 Axes>"
      ]
     },
     "metadata": {
      "needs_background": "light"
     },
     "output_type": "display_data"
    }
   ],
   "source": [
    "# Predicted hiring probability for different nationalities and international experience\n",
    "\n",
    "hired_probability = X_test.groupby(['ind-international_exp', 'nationality'])['predicted'].mean().reset_index()\n",
    "plt.figure(figsize=(10, 6))\n",
    "sns.barplot(x='ind-international_exp', y='predicted', hue='nationality', data=hired_probability)\n",
    "plt.title('International Experience and Nationality vs. Predicted Hiring Probability')\n",
    "plt.xlabel('International Experience')\n",
    "plt.ylabel('Predicted Hiring Probability')\n",
    "plt.legend(title='Nationality', loc='upper right')\n",
    "plt.ylim(0, 1.0)\n",
    "plt.grid(True)\n",
    "plt.show()"
   ]
  },
  {
   "cell_type": "code",
   "execution_count": 38,
   "id": "f32e1434-9e11-4f24-bd85-54b7141c6b8b",
   "metadata": {},
   "outputs": [
    {
     "data": {
      "image/png": "[encoded data removed]",
      "text/plain": [
       "<Figure size 720x432 with 1 Axes>"
      ]
     },
     "metadata": {
      "needs_background": "light"
     },
     "output_type": "display_data"
    }
   ],
   "source": [
    "# Real hiring probability for different nationalities and international experience\n",
    "\n",
    "hired_probability = X_test.groupby(['ind-international_exp', 'nationality'])['real'].mean().reset_index()\n",
    "plt.figure(figsize=(10, 6))\n",
    "sns.barplot(x='ind-international_exp', y='real', hue='nationality', data=hired_probability)\n",
    "plt.title('International Experience and Nationality vs. Real Hiring Probability')\n",
    "plt.xlabel('International Experience')\n",
    "plt.ylabel('Real Hiring Probability')\n",
    "plt.legend(title='Nationality', loc='upper right')\n",
    "plt.ylim(0, 1.0)\n",
    "plt.grid(True)\n",
    "plt.show()"
   ]
  },
  {
   "cell_type": "code",
   "execution_count": 39,
   "id": "fa5e343c-387c-4197-b1af-ca557d8127b2",
   "metadata": {},
   "outputs": [
    {
     "data": {
      "text/plain": [
       "Text(0.5, 0.98, 'Model performance for subgroups based on nationality (Dutch, German, Belgian) and gender (Male, Female, Other)')"
      ]
     },
     "execution_count": 39,
     "metadata": {},
     "output_type": "execute_result"
    },
    {
     "data": {
      "image/png": "[encoded data removed]",
      "text/plain": [
       "<Figure size 432x288 with 1 Axes>"
      ]
     },
     "metadata": {
      "needs_background": "light"
     },
     "output_type": "display_data"
    }
   ],
   "source": [
    "## Table: PPV, Error Rate, TPR & FPR on different subgroups (gender, nationality)\n",
    "\n",
    "\n",
    "# Some things for the table\n",
    "\n",
    "columns = [\"DM\", \"DF\", \"DO\", \"GM\", \"GF\", \"GO\", \"BM\", \"BF\", \"BO\"]\n",
    "rows = [\"PPV (%)\", \"Error Rate (%)\", \"TPR (%)\", \"FPR (%)\"]\n",
    "\n",
    "\n",
    "# Getting the data to fill in the table\n",
    "\n",
    "data = [[],[],[],[]]\n",
    "for nationality in [\"Dutch\", \"German\", \"Belgian\"]:\n",
    "    for gender in [\"male\", \"female\", \"other\"]:\n",
    "        # getting the subgroup\n",
    "        subgroup = X_test[(X_test['nationality'] == nationality) & (X_test['gender'] == gender)]\n",
    "        # PPV = Positive Prediction Rate\n",
    "        if len(subgroup[subgroup[\"real\"] == True]) == 0:\n",
    "            PPV = 0.0\n",
    "        else:\n",
    "            PPV = len(subgroup[(subgroup[\"real\"] == True) & (subgroup[\"predicted\"] == True)]) / len(subgroup[subgroup[\"real\"] == True])\n",
    "        data[0].append(PPV)\n",
    "        # Error Rate = 1 - PPV\n",
    "        data[1].append(1-PPV)\n",
    "        # TPR = True Positive Rate\n",
    "        TP = len(subgroup[(subgroup[\"real\"] == True) & (subgroup[\"predicted\"] == True)])\n",
    "        FN = len(subgroup[(subgroup[\"real\"] == True) & (subgroup[\"predicted\"] == False)])\n",
    "        TPR = 0.0 if TP + FN == 0 else TP / (TP + FN)\n",
    "        data[2].append(TPR)\n",
    "        # FPR = False Positive Rate\n",
    "        FP = len(subgroup[(subgroup[\"real\"] == False) & (subgroup[\"predicted\"] == True)])\n",
    "        TN = len(subgroup[(subgroup[\"real\"] == False) & (subgroup[\"predicted\"] == False)])\n",
    "        FPR = 0.0 if FP + TN == 0 else FP / (FP + TN)\n",
    "        data[3].append(FPR)\n",
    "\n",
    "        \n",
    "# Formatting the data matrix\n",
    "\n",
    "formatted = []\n",
    "for row in data:\n",
    "    formatted.append([f'{x:.2f}' for x in row])\n",
    "\n",
    "    \n",
    "# The Table\n",
    "\n",
    "plt.figure(linewidth=2)\n",
    "table = plt.table(cellText = formatted, rowLabels = rows, colLabels = columns, loc = 'center')\n",
    "table.scale(1, 1.5)\n",
    "ax = plt.gca()\n",
    "ax.get_xaxis().set_visible(False)\n",
    "ax.get_yaxis().set_visible(False)\n",
    "plt.box(on=None)\n",
    "plt.suptitle(\"Model performance for subgroups based on nationality (Dutch, German, Belgian) and gender (Male, Female, Other)\")"
   ]
  },
  {
   "cell_type": "code",
   "execution_count": 40,
   "id": "d14c112b-f798-495a-82ee-1167ab36c2ca",
   "metadata": {},
   "outputs": [
    {
     "data": {
      "text/plain": [
       "Text(0.5, 0.98, 'Model performance for subgroups based on sport (Football) and age (from 21 to 32)')"
      ]
     },
     "execution_count": 40,
     "metadata": {},
     "output_type": "execute_result"
    },
    {
     "data": {
      "image/png": "[encoded data removed]",
      "text/plain": [
       "<Figure size 432x288 with 1 Axes>"
      ]
     },
     "metadata": {
      "needs_background": "light"
     },
     "output_type": "display_data"
    }
   ],
   "source": [
    "## Table 1: PPV, Error Rate, TPR & FPR on sport & age subgroups:\n",
    "## -> 1) Football\n",
    "\n",
    "\n",
    "# Some things for the table\n",
    "\n",
    "columns = [f\"F{age}\" for age in range (21,33)]\n",
    "\n",
    "rows = [\"PPV (%)\", \"Error Rate (%)\", \"TPR (%)\", \"FPR (%)\"]\n",
    "\n",
    "\n",
    "# Getting the data to fill in the table\n",
    "\n",
    "index = 0\n",
    "data = [[],[],[],[]]\n",
    "for age in range(21,33):\n",
    "    # getting the subgroup\n",
    "    subgroup = X_test[(X_test['sport'] == 'Football') & (X_test['age'] == age)]\n",
    "    if len(subgroup) == 0:\n",
    "        columns.pop(index)\n",
    "        index -= 1\n",
    "    else:\n",
    "        # True/False Positives/Negatives\n",
    "        TP = len(subgroup[(subgroup[\"real\"] == True) & (subgroup[\"predicted\"] == True)])\n",
    "        FP = len(subgroup[(subgroup[\"real\"] == False) & (subgroup[\"predicted\"] == True)])\n",
    "        FN = len(subgroup[(subgroup[\"real\"] == True) & (subgroup[\"predicted\"] == False)])\n",
    "        TN = len(subgroup[(subgroup[\"real\"] == False) & (subgroup[\"predicted\"] == False)])\n",
    "        # PPV = Positive Prediction Rate\n",
    "        PPV = 0.0 if TP + FP == 0 else TP / (TP + FP)\n",
    "        data[0].append(PPV)\n",
    "        # Error Rate = 1 - PPV\n",
    "        data[1].append(1-PPV)\n",
    "        # TPR = True Positive Rate\n",
    "        TPR = 0.0 if TP + FN == 0 else TP / (TP + FN)\n",
    "        data[2].append(TPR)\n",
    "        # FPR = False Positive Rate\n",
    "        FPR = 0.0 if FP + TN == 0 else FP / (FP + TN)\n",
    "        data[3].append(FPR)\n",
    "    index += 1\n",
    "        \n",
    "# Formatting the data matrix\n",
    "\n",
    "formatted = []\n",
    "for row in data:\n",
    "    formatted.append([f'{x:.2f}' for x in row])\n",
    "\n",
    "    \n",
    "# The Table\n",
    "\n",
    "plt.figure(linewidth=2)\n",
    "table = plt.table(cellText = formatted, rowLabels = rows, colLabels = columns, loc = 'center')\n",
    "table.scale(1, 1.5)\n",
    "ax = plt.gca()\n",
    "ax.get_xaxis().set_visible(False)\n",
    "ax.get_yaxis().set_visible(False)\n",
    "plt.box(on=None)\n",
    "plt.suptitle(\"Model performance for subgroups based on sport (Football) and age (from 21 to 32)\")"
   ]
  },
  {
   "cell_type": "code",
   "execution_count": 41,
   "id": "a7ffd82a-7d01-4aff-afec-672e81ff7b43",
   "metadata": {},
   "outputs": [
    {
     "data": {
      "text/plain": [
       "Text(0.5, 0.98, 'Model performance for subgroups based on sport (Golf) and age (from 21 to 32)')"
      ]
     },
     "execution_count": 41,
     "metadata": {},
     "output_type": "execute_result"
    },
    {
     "data": {
      "image/png": "[encoded data removed]",
      "text/plain": [
       "<Figure size 432x288 with 1 Axes>"
      ]
     },
     "metadata": {
      "needs_background": "light"
     },
     "output_type": "display_data"
    }
   ],
   "source": [
    "## Table 2: PPV, Error Rate, TPR & FPR on sport & age subgroups:\n",
    "## -> 2) Golf\n",
    "\n",
    "\n",
    "# Some things for the table\n",
    "\n",
    "columns = [f\"G{age}\" for age in range (21,33)]\n",
    "\n",
    "rows = [\"PPV (%)\", \"Error Rate (%)\", \"TPR (%)\", \"FPR (%)\"]\n",
    "\n",
    "\n",
    "# Getting the data to fill in the table\n",
    "\n",
    "data = [[],[],[],[]]\n",
    "index = 0\n",
    "for age in range(21,33):\n",
    "    # getting the subgroup\n",
    "    subgroup = X_test[(X_test['sport'] == 'Golf') & (X_test['age'] == age)]\n",
    "    if len(subgroup) == 0:\n",
    "        columns.pop(index)\n",
    "        index -= 1\n",
    "    else:\n",
    "        # True/False Positives/Negatives\n",
    "        TP = len(subgroup[(subgroup[\"real\"] == True) & (subgroup[\"predicted\"] == True)])\n",
    "        FP = len(subgroup[(subgroup[\"real\"] == False) & (subgroup[\"predicted\"] == True)])\n",
    "        FN = len(subgroup[(subgroup[\"real\"] == True) & (subgroup[\"predicted\"] == False)])\n",
    "        TN = len(subgroup[(subgroup[\"real\"] == False) & (subgroup[\"predicted\"] == False)])\n",
    "        # PPV = Positive Prediction Rate\n",
    "        PPV = 0.0 if TP + FP == 0 else TP / (TP + FP)\n",
    "        data[0].append(PPV)\n",
    "        # Error Rate = 1 - PPV\n",
    "        data[1].append(1-PPV)\n",
    "        # TPR = True Positive Rate\n",
    "        TPR = 0.0 if TP + FN == 0 else TP / (TP + FN)\n",
    "        data[2].append(TPR)\n",
    "        # FPR = False Positive Rate\n",
    "        FPR = 0.0 if FP + TN == 0 else FP / (FP + TN)\n",
    "        data[3].append(FPR)\n",
    "    index += 1\n",
    "\n",
    "        \n",
    "# Formatting the data matrix\n",
    "\n",
    "formatted = []\n",
    "for row in data:\n",
    "    formatted.append([f'{x:.2f}' for x in row])\n",
    "\n",
    "    \n",
    "# The Table\n",
    "\n",
    "plt.figure(linewidth=2)\n",
    "table = plt.table(cellText = formatted, rowLabels = rows, colLabels = columns, loc = 'center')\n",
    "table.scale(1, 1.5)\n",
    "ax = plt.gca()\n",
    "ax.get_xaxis().set_visible(False)\n",
    "ax.get_yaxis().set_visible(False)\n",
    "plt.box(on=None)\n",
    "plt.suptitle(\"Model performance for subgroups based on sport (Golf) and age (from 21 to 32)\")"
   ]
  },
  {
   "cell_type": "code",
   "execution_count": 42,
   "id": "89416b33-a9a8-4200-9670-faea6b1f148d",
   "metadata": {},
   "outputs": [
    {
     "data": {
      "text/plain": [
       "Text(0.5, 0.98, 'Model performance for subgroups based on sport (Swimming) and age (from 21 to 32)')"
      ]
     },
     "execution_count": 42,
     "metadata": {},
     "output_type": "execute_result"
    },
    {
     "data": {
      "image/png": "[encoded data removed]",
      "text/plain": [
       "<Figure size 432x288 with 1 Axes>"
      ]
     },
     "metadata": {
      "needs_background": "light"
     },
     "output_type": "display_data"
    }
   ],
   "source": [
    "## Table 3: PPV, Error Rate, TPR & FPR on sport & age subgroups:\n",
    "## -> 3) Swimming\n",
    "\n",
    "\n",
    "# Some things for the table\n",
    "\n",
    "columns = [f\"S{age}\" for age in range (21,33)]\n",
    "\n",
    "rows = [\"PPV (%)\", \"Error Rate (%)\", \"TPR (%)\", \"FPR (%)\"]\n",
    "\n",
    "\n",
    "# Getting the data to fill in the table\n",
    "\n",
    "data = [[],[],[],[]]\n",
    "index = 0\n",
    "for age in range(21,33):\n",
    "    # getting the subgroup\n",
    "    subgroup = X_test[(X_test['sport'] == 'Swimming') & (X_test['age'] == age)]\n",
    "    if len(subgroup) == 0:\n",
    "        columns.pop(index)\n",
    "        index -= 1\n",
    "    else:\n",
    "        # True/False Positives/Negatives\n",
    "        TP = len(subgroup[(subgroup[\"real\"] == True) & (subgroup[\"predicted\"] == True)])\n",
    "        FP = len(subgroup[(subgroup[\"real\"] == False) & (subgroup[\"predicted\"] == True)])\n",
    "        FN = len(subgroup[(subgroup[\"real\"] == True) & (subgroup[\"predicted\"] == False)])\n",
    "        TN = len(subgroup[(subgroup[\"real\"] == False) & (subgroup[\"predicted\"] == False)])\n",
    "        # PPV = Positive Prediction Rate\n",
    "        PPV = 0.0 if TP + FP == 0 else TP / (TP + FP)\n",
    "        data[0].append(PPV)\n",
    "        # Error Rate = 1 - PPV\n",
    "        data[1].append(1-PPV)\n",
    "        # TPR = True Positive Rate\n",
    "        TPR = 0.0 if TP + FN == 0 else TP / (TP + FN)\n",
    "        data[2].append(TPR)\n",
    "        # FPR = False Positive Rate\n",
    "        FPR = 0.0 if FP + TN == 0 else FP / (FP + TN)\n",
    "        data[3].append(FPR)\n",
    "    index += 1\n",
    "\n",
    "        \n",
    "# Formatting the data matrix\n",
    "\n",
    "formatted = []\n",
    "for row in data:\n",
    "    formatted.append([f'{x:.2f}' for x in row])\n",
    "\n",
    "    \n",
    "# The Table\n",
    "\n",
    "plt.figure(linewidth=2)\n",
    "table = plt.table(cellText = formatted, rowLabels = rows, colLabels = columns, loc = 'center')\n",
    "table.scale(1, 1.5)\n",
    "ax = plt.gca()\n",
    "ax.get_xaxis().set_visible(False)\n",
    "ax.get_yaxis().set_visible(False)\n",
    "plt.box(on=None)\n",
    "plt.suptitle(\"Model performance for subgroups based on sport (Swimming) and age (from 21 to 32)\")"
   ]
  },
  {
   "cell_type": "code",
   "execution_count": 43,
   "id": "d05406c4-6aeb-4745-acb3-dade9fa41d6a",
   "metadata": {},
   "outputs": [],
   "source": [
    "## Data for Bar Charts: Hiring Probability -> predicted & real\n",
    "\n",
    "predicted = X_test.groupby(['age', 'sport'])['predicted'].mean().reset_index()\n",
    "real = X_test.groupby(['age', 'sport'])['real'].mean().reset_index()"
   ]
  },
  {
   "cell_type": "code",
   "execution_count": 80,
   "id": "52be23db-f47a-42d8-a7de-ef0a1223b365",
   "metadata": {},
   "outputs": [
    {
     "data": {
      "image/png": "[encoded data removed]",
      "text/plain": [
       "<Figure size 1080x360 with 3 Axes>"
      ]
     },
     "metadata": {
      "needs_background": "light"
     },
     "output_type": "display_data"
    }
   ],
   "source": [
    "## Bar Chart: Real vs Predicted Hiring Probability of sports & age subgroups\n",
    "\n",
    "# List of sports to plot\n",
    "sports_to_plot = ['Swimming', 'Golf', 'Football']\n",
    "\n",
    "# Create subplots with three columns (one for each sport)\n",
    "fig, axs = plt.subplots(1, len(sports_to_plot), figsize=(15, 5))\n",
    "\n",
    "# Set the width of the bars\n",
    "bar_width = 0.35\n",
    "\n",
    "# Define colors\n",
    "actual_color = '#3EA19E'\n",
    "predicted_color = '#D87AD3'\n",
    "\n",
    "# Iterate through the sports and create a subplot for each\n",
    "for i, sport in enumerate(sports_to_plot):\n",
    "    # Group by age and sport, and calculate the mean of predicted and actual values\n",
    "    predicted_mean = predicted.groupby(['age', 'sport'])['predicted'].mean().reset_index()\n",
    "    real_mean = real.groupby(['age', 'sport'])['real'].mean().reset_index()\n",
    "\n",
    "    # Filter data to include only the current sport\n",
    "    predicted_mean_sport = predicted_mean[predicted_mean['sport'] == sport]\n",
    "    real_mean_sport = real_mean[real_mean['sport'] == sport]\n",
    "\n",
    "    # Create an array of indices for the x-axis\n",
    "    indices = range(len(predicted_mean_sport))\n",
    "\n",
    "    # Create bars for mean predicted values with the specified color\n",
    "    axs[i].bar(indices, predicted_mean_sport['predicted'], bar_width, label='Mean Predicted', color=predicted_color)\n",
    "\n",
    "    # Create bars for mean actual values with the specified color\n",
    "    axs[i].bar([idx + bar_width for idx in indices], real_mean_sport['real'], bar_width, label='Mean Actual', color=actual_color)\n",
    "\n",
    "    # Set labels, title, and legend for the current subplot\n",
    "    axs[i].set_xlabel('Age')\n",
    "    axs[i].set_ylabel('Mean Values')\n",
    "    axs[i].set_title(f'Mean Predicted vs. Actual Values for {sport} by Age')\n",
    "    axs[i].set_xticks([idx + bar_width / 2 for idx in indices])\n",
    "    axs[i].set_xticklabels(predicted_mean_sport['age'])\n",
    "    axs[i].legend()\n",
    "\n",
    "# Adjust spacing between subplots\n",
    "plt.tight_layout()\n",
    "\n",
    "# Show the plots\n",
    "plt.show()"
   ]
  }
 ],
 "metadata": {
  "kernelspec": {
   "display_name": "Python 3 (ipykernel)",
   "language": "python",
   "name": "python3"
  },
  "language_info": {
   "codemirror_mode": {
    "name": "ipython",
    "version": 3
   },
   "file_extension": ".py",
   "mimetype": "text/x-python",
   "name": "python",
   "nbconvert_exporter": "python",
   "pygments_lexer": "ipython3",
   "version": "3.10.7"
  }
 },
 "nbformat": 4,
 "nbformat_minor": 5
}
