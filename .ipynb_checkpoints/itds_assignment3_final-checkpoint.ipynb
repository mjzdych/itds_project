{
 "cells": [
  {
   "cell_type": "markdown",
   "id": "a0cc1878-23e0-4638-93f6-abd0a58b44cb",
   "metadata": {},
   "source": [
    "## Assignment 3 - Model - Group 28"
   ]
  },
  {
   "cell_type": "code",
   "execution_count": 1,
   "id": "0f7bf660-6384-4d53-95a4-913197065ef7",
   "metadata": {},
   "outputs": [],
   "source": [
    "# Importing Libraries\n",
    "\n",
    "import pandas as pd\n",
    "import numpy as np\n",
    "import matplotlib.pyplot as plt\n",
    "import seaborn as sns\n",
    "import sklearn as skl\n",
    "from sklearn.pipeline import Pipeline\n",
    "from sklearn.preprocessing import StandardScaler, OneHotEncoder\n",
    "from sklearn.tree import DecisionTreeClassifier\n",
    "from sklearn.linear_model import LogisticRegression\n",
    "from sklearn.model_selection import GridSearchCV\n",
    "from sklearn.compose import ColumnTransformer\n",
    "from sklearn.metrics import classification_report, confusion_matrix\n",
    "from sklearn.model_selection import cross_val_score"
   ]
  },
  {
   "cell_type": "markdown",
   "id": "c0317e92-0705-446c-9e69-d3a7a955c694",
   "metadata": {},
   "source": [
    "**Collecting the data**"
   ]
  },
  {
   "cell_type": "code",
   "execution_count": 2,
   "id": "2f7042a0-87b8-4bbe-9025-800e9288238f",
   "metadata": {},
   "outputs": [],
   "source": [
    "# Importing Dataset\n",
    "\n",
    "data = pd.read_csv(\"recruitmentdataset-2022-1.3.csv\")"
   ]
  },
  {
   "cell_type": "markdown",
   "id": "ef598a9e-a7ed-4637-bee9-2c04825fd1f8",
   "metadata": {},
   "source": [
    "**Describing the data**"
   ]
  },
  {
   "cell_type": "code",
   "execution_count": 3,
   "id": "a0b4cb1b-0dcd-42f1-ab5f-6e63a87a6469",
   "metadata": {},
   "outputs": [
    {
     "data": {
      "text/html": [
       "<div>\n",
       "<style scoped>\n",
       "    .dataframe tbody tr th:only-of-type {\n",
       "        vertical-align: middle;\n",
       "    }\n",
       "\n",
       "    .dataframe tbody tr th {\n",
       "        vertical-align: top;\n",
       "    }\n",
       "\n",
       "    .dataframe thead th {\n",
       "        text-align: right;\n",
       "    }\n",
       "</style>\n",
       "<table border=\"1\" class=\"dataframe\">\n",
       "  <thead>\n",
       "    <tr style=\"text-align: right;\">\n",
       "      <th></th>\n",
       "      <th>Id</th>\n",
       "      <th>gender</th>\n",
       "      <th>age</th>\n",
       "      <th>nationality</th>\n",
       "      <th>sport</th>\n",
       "      <th>ind-university_grade</th>\n",
       "      <th>ind-debateclub</th>\n",
       "      <th>ind-programming_exp</th>\n",
       "      <th>ind-international_exp</th>\n",
       "      <th>ind-entrepeneur_exp</th>\n",
       "      <th>ind-languages</th>\n",
       "      <th>ind-exact_study</th>\n",
       "      <th>ind-degree</th>\n",
       "      <th>company</th>\n",
       "      <th>decision</th>\n",
       "    </tr>\n",
       "  </thead>\n",
       "  <tbody>\n",
       "    <tr>\n",
       "      <th>0</th>\n",
       "      <td>x8011e</td>\n",
       "      <td>female</td>\n",
       "      <td>24</td>\n",
       "      <td>German</td>\n",
       "      <td>Swimming</td>\n",
       "      <td>70</td>\n",
       "      <td>False</td>\n",
       "      <td>False</td>\n",
       "      <td>False</td>\n",
       "      <td>False</td>\n",
       "      <td>1</td>\n",
       "      <td>True</td>\n",
       "      <td>phd</td>\n",
       "      <td>A</td>\n",
       "      <td>True</td>\n",
       "    </tr>\n",
       "    <tr>\n",
       "      <th>1</th>\n",
       "      <td>x6077a</td>\n",
       "      <td>male</td>\n",
       "      <td>26</td>\n",
       "      <td>German</td>\n",
       "      <td>Golf</td>\n",
       "      <td>67</td>\n",
       "      <td>False</td>\n",
       "      <td>True</td>\n",
       "      <td>False</td>\n",
       "      <td>False</td>\n",
       "      <td>2</td>\n",
       "      <td>True</td>\n",
       "      <td>bachelor</td>\n",
       "      <td>A</td>\n",
       "      <td>False</td>\n",
       "    </tr>\n",
       "    <tr>\n",
       "      <th>4</th>\n",
       "      <td>x6241a</td>\n",
       "      <td>female</td>\n",
       "      <td>26</td>\n",
       "      <td>German</td>\n",
       "      <td>Golf</td>\n",
       "      <td>59</td>\n",
       "      <td>False</td>\n",
       "      <td>False</td>\n",
       "      <td>False</td>\n",
       "      <td>False</td>\n",
       "      <td>1</td>\n",
       "      <td>False</td>\n",
       "      <td>master</td>\n",
       "      <td>A</td>\n",
       "      <td>True</td>\n",
       "    </tr>\n",
       "    <tr>\n",
       "      <th>7</th>\n",
       "      <td>x8767c</td>\n",
       "      <td>female</td>\n",
       "      <td>22</td>\n",
       "      <td>Dutch</td>\n",
       "      <td>Swimming</td>\n",
       "      <td>71</td>\n",
       "      <td>False</td>\n",
       "      <td>True</td>\n",
       "      <td>False</td>\n",
       "      <td>False</td>\n",
       "      <td>1</td>\n",
       "      <td>True</td>\n",
       "      <td>master</td>\n",
       "      <td>A</td>\n",
       "      <td>True</td>\n",
       "    </tr>\n",
       "    <tr>\n",
       "      <th>8</th>\n",
       "      <td>x6541b</td>\n",
       "      <td>female</td>\n",
       "      <td>28</td>\n",
       "      <td>Dutch</td>\n",
       "      <td>Football</td>\n",
       "      <td>65</td>\n",
       "      <td>True</td>\n",
       "      <td>False</td>\n",
       "      <td>False</td>\n",
       "      <td>True</td>\n",
       "      <td>3</td>\n",
       "      <td>False</td>\n",
       "      <td>bachelor</td>\n",
       "      <td>A</td>\n",
       "      <td>False</td>\n",
       "    </tr>\n",
       "    <tr>\n",
       "      <th>9</th>\n",
       "      <td>x3890b</td>\n",
       "      <td>male</td>\n",
       "      <td>24</td>\n",
       "      <td>Dutch</td>\n",
       "      <td>Football</td>\n",
       "      <td>55</td>\n",
       "      <td>True</td>\n",
       "      <td>False</td>\n",
       "      <td>False</td>\n",
       "      <td>True</td>\n",
       "      <td>3</td>\n",
       "      <td>False</td>\n",
       "      <td>master</td>\n",
       "      <td>A</td>\n",
       "      <td>True</td>\n",
       "    </tr>\n",
       "    <tr>\n",
       "      <th>10</th>\n",
       "      <td>x9775f</td>\n",
       "      <td>female</td>\n",
       "      <td>27</td>\n",
       "      <td>Dutch</td>\n",
       "      <td>Football</td>\n",
       "      <td>61</td>\n",
       "      <td>False</td>\n",
       "      <td>False</td>\n",
       "      <td>False</td>\n",
       "      <td>False</td>\n",
       "      <td>1</td>\n",
       "      <td>True</td>\n",
       "      <td>bachelor</td>\n",
       "      <td>A</td>\n",
       "      <td>False</td>\n",
       "    </tr>\n",
       "    <tr>\n",
       "      <th>11</th>\n",
       "      <td>x3562f</td>\n",
       "      <td>male</td>\n",
       "      <td>28</td>\n",
       "      <td>Dutch</td>\n",
       "      <td>Football</td>\n",
       "      <td>56</td>\n",
       "      <td>False</td>\n",
       "      <td>False</td>\n",
       "      <td>False</td>\n",
       "      <td>True</td>\n",
       "      <td>2</td>\n",
       "      <td>False</td>\n",
       "      <td>bachelor</td>\n",
       "      <td>A</td>\n",
       "      <td>True</td>\n",
       "    </tr>\n",
       "    <tr>\n",
       "      <th>12</th>\n",
       "      <td>x4044c</td>\n",
       "      <td>female</td>\n",
       "      <td>27</td>\n",
       "      <td>German</td>\n",
       "      <td>Football</td>\n",
       "      <td>62</td>\n",
       "      <td>False</td>\n",
       "      <td>True</td>\n",
       "      <td>False</td>\n",
       "      <td>False</td>\n",
       "      <td>1</td>\n",
       "      <td>True</td>\n",
       "      <td>bachelor</td>\n",
       "      <td>A</td>\n",
       "      <td>False</td>\n",
       "    </tr>\n",
       "    <tr>\n",
       "      <th>13</th>\n",
       "      <td>x9428d</td>\n",
       "      <td>male</td>\n",
       "      <td>26</td>\n",
       "      <td>Dutch</td>\n",
       "      <td>Football</td>\n",
       "      <td>56</td>\n",
       "      <td>False</td>\n",
       "      <td>False</td>\n",
       "      <td>False</td>\n",
       "      <td>False</td>\n",
       "      <td>1</td>\n",
       "      <td>False</td>\n",
       "      <td>bachelor</td>\n",
       "      <td>A</td>\n",
       "      <td>False</td>\n",
       "    </tr>\n",
       "  </tbody>\n",
       "</table>\n",
       "</div>"
      ],
      "text/plain": [
       "        Id  gender  age nationality     sport  ind-university_grade  \\\n",
       "0   x8011e  female   24      German  Swimming                    70   \n",
       "1   x6077a    male   26      German      Golf                    67   \n",
       "4   x6241a  female   26      German      Golf                    59   \n",
       "7   x8767c  female   22       Dutch  Swimming                    71   \n",
       "8   x6541b  female   28       Dutch  Football                    65   \n",
       "9   x3890b    male   24       Dutch  Football                    55   \n",
       "10  x9775f  female   27       Dutch  Football                    61   \n",
       "11  x3562f    male   28       Dutch  Football                    56   \n",
       "12  x4044c  female   27      German  Football                    62   \n",
       "13  x9428d    male   26       Dutch  Football                    56   \n",
       "\n",
       "    ind-debateclub  ind-programming_exp  ind-international_exp  \\\n",
       "0            False                False                  False   \n",
       "1            False                 True                  False   \n",
       "4            False                False                  False   \n",
       "7            False                 True                  False   \n",
       "8             True                False                  False   \n",
       "9             True                False                  False   \n",
       "10           False                False                  False   \n",
       "11           False                False                  False   \n",
       "12           False                 True                  False   \n",
       "13           False                False                  False   \n",
       "\n",
       "    ind-entrepeneur_exp  ind-languages  ind-exact_study ind-degree company  \\\n",
       "0                 False              1             True        phd       A   \n",
       "1                 False              2             True   bachelor       A   \n",
       "4                 False              1            False     master       A   \n",
       "7                 False              1             True     master       A   \n",
       "8                  True              3            False   bachelor       A   \n",
       "9                  True              3            False     master       A   \n",
       "10                False              1             True   bachelor       A   \n",
       "11                 True              2            False   bachelor       A   \n",
       "12                False              1             True   bachelor       A   \n",
       "13                False              1            False   bachelor       A   \n",
       "\n",
       "    decision  \n",
       "0       True  \n",
       "1      False  \n",
       "4       True  \n",
       "7       True  \n",
       "8      False  \n",
       "9       True  \n",
       "10     False  \n",
       "11      True  \n",
       "12     False  \n",
       "13     False  "
      ]
     },
     "execution_count": 3,
     "metadata": {},
     "output_type": "execute_result"
    }
   ],
   "source": [
    "# Filtering the dataset to Company A and Swimming, Golf & Football sports only\n",
    "\n",
    "filtered_df = data[data['company']=='A']\n",
    "filtered_df = filtered_df[filtered_df['sport'].str.contains('Swimming|Golf|Football', case=False)]\n",
    "filtered_df.head(10)"
   ]
  },
  {
   "cell_type": "code",
   "execution_count": 4,
   "id": "4388c893",
   "metadata": {},
   "outputs": [
    {
     "data": {
      "text/plain": [
       "(492, 15)"
      ]
     },
     "execution_count": 4,
     "metadata": {},
     "output_type": "execute_result"
    }
   ],
   "source": [
    "filtered_df.shape"
   ]
  },
  {
   "cell_type": "code",
   "execution_count": 5,
   "id": "5b03fa3f",
   "metadata": {},
   "outputs": [
    {
     "data": {
      "text/html": [
       "<div>\n",
       "<style scoped>\n",
       "    .dataframe tbody tr th:only-of-type {\n",
       "        vertical-align: middle;\n",
       "    }\n",
       "\n",
       "    .dataframe tbody tr th {\n",
       "        vertical-align: top;\n",
       "    }\n",
       "\n",
       "    .dataframe thead th {\n",
       "        text-align: right;\n",
       "    }\n",
       "</style>\n",
       "<table border=\"1\" class=\"dataframe\">\n",
       "  <thead>\n",
       "    <tr style=\"text-align: right;\">\n",
       "      <th></th>\n",
       "      <th>age</th>\n",
       "      <th>ind-university_grade</th>\n",
       "      <th>ind-languages</th>\n",
       "    </tr>\n",
       "  </thead>\n",
       "  <tbody>\n",
       "    <tr>\n",
       "      <th>count</th>\n",
       "      <td>492.000000</td>\n",
       "      <td>492.000000</td>\n",
       "      <td>492.000000</td>\n",
       "    </tr>\n",
       "    <tr>\n",
       "      <th>mean</th>\n",
       "      <td>26.247967</td>\n",
       "      <td>61.833333</td>\n",
       "      <td>1.392276</td>\n",
       "    </tr>\n",
       "    <tr>\n",
       "      <th>std</th>\n",
       "      <td>2.602579</td>\n",
       "      <td>5.853321</td>\n",
       "      <td>0.848253</td>\n",
       "    </tr>\n",
       "    <tr>\n",
       "      <th>min</th>\n",
       "      <td>21.000000</td>\n",
       "      <td>47.000000</td>\n",
       "      <td>0.000000</td>\n",
       "    </tr>\n",
       "    <tr>\n",
       "      <th>25%</th>\n",
       "      <td>24.000000</td>\n",
       "      <td>58.000000</td>\n",
       "      <td>1.000000</td>\n",
       "    </tr>\n",
       "    <tr>\n",
       "      <th>50%</th>\n",
       "      <td>26.000000</td>\n",
       "      <td>62.000000</td>\n",
       "      <td>1.000000</td>\n",
       "    </tr>\n",
       "    <tr>\n",
       "      <th>75%</th>\n",
       "      <td>28.000000</td>\n",
       "      <td>66.000000</td>\n",
       "      <td>2.000000</td>\n",
       "    </tr>\n",
       "    <tr>\n",
       "      <th>max</th>\n",
       "      <td>32.000000</td>\n",
       "      <td>77.000000</td>\n",
       "      <td>3.000000</td>\n",
       "    </tr>\n",
       "  </tbody>\n",
       "</table>\n",
       "</div>"
      ],
      "text/plain": [
       "              age  ind-university_grade  ind-languages\n",
       "count  492.000000            492.000000     492.000000\n",
       "mean    26.247967             61.833333       1.392276\n",
       "std      2.602579              5.853321       0.848253\n",
       "min     21.000000             47.000000       0.000000\n",
       "25%     24.000000             58.000000       1.000000\n",
       "50%     26.000000             62.000000       1.000000\n",
       "75%     28.000000             66.000000       2.000000\n",
       "max     32.000000             77.000000       3.000000"
      ]
     },
     "execution_count": 5,
     "metadata": {},
     "output_type": "execute_result"
    }
   ],
   "source": [
    "filtered_df.describe()"
   ]
  },
  {
   "cell_type": "code",
   "execution_count": 6,
   "id": "21a179e3-51c0-4816-95b2-b05c9f8ae3a7",
   "metadata": {},
   "outputs": [
    {
     "data": {
      "text/plain": [
       "Football    243\n",
       "Swimming    163\n",
       "Golf         86\n",
       "Name: sport, dtype: int64"
      ]
     },
     "execution_count": 6,
     "metadata": {},
     "output_type": "execute_result"
    }
   ],
   "source": [
    "sport_counts = filtered_df['sport'].value_counts()\n",
    "sport_counts"
   ]
  },
  {
   "cell_type": "code",
   "execution_count": 7,
   "id": "56219ccd-ee20-4e60-9c22-4ef6dac4f90f",
   "metadata": {},
   "outputs": [
    {
     "data": {
      "text/plain": [
       "Dutch      367\n",
       "German      68\n",
       "Belgian     57\n",
       "Name: nationality, dtype: int64"
      ]
     },
     "execution_count": 7,
     "metadata": {},
     "output_type": "execute_result"
    }
   ],
   "source": [
    "nationality_counts = filtered_df['nationality'].value_counts()\n",
    "nationality_counts"
   ]
  },
  {
   "cell_type": "code",
   "execution_count": 8,
   "id": "da09a466-0900-4af3-a8c7-60935e0c5558",
   "metadata": {},
   "outputs": [
    {
     "data": {
      "text/plain": [
       "False    277\n",
       "True     215\n",
       "Name: decision, dtype: int64"
      ]
     },
     "execution_count": 8,
     "metadata": {},
     "output_type": "execute_result"
    }
   ],
   "source": [
    "hired_counts = filtered_df['decision'].value_counts()\n",
    "hired_counts"
   ]
  },
  {
   "cell_type": "code",
   "execution_count": 9,
   "id": "caf0c8b0-6cad-4f02-90e0-e5eaeacba8cb",
   "metadata": {},
   "outputs": [
    {
     "data": {
      "text/plain": [
       "bachelor    260\n",
       "master      205\n",
       "phd          27\n",
       "Name: ind-degree, dtype: int64"
      ]
     },
     "execution_count": 9,
     "metadata": {},
     "output_type": "execute_result"
    }
   ],
   "source": [
    "degree_counts = filtered_df['ind-degree'].value_counts()\n",
    "degree_counts"
   ]
  },
  {
   "cell_type": "code",
   "execution_count": 10,
   "id": "f90a4a16-4a00-4e41-a1fa-be29a4fe16c2",
   "metadata": {},
   "outputs": [
    {
     "data": {
      "text/plain": [
       "male      267\n",
       "female    217\n",
       "other       8\n",
       "Name: gender, dtype: int64"
      ]
     },
     "execution_count": 10,
     "metadata": {},
     "output_type": "execute_result"
    }
   ],
   "source": [
    "gender_counts = filtered_df['gender'].value_counts()\n",
    "gender_counts"
   ]
  },
  {
   "cell_type": "code",
   "execution_count": 11,
   "id": "ee6a5b55-2960-4428-b18e-5c6a06e2c8ac",
   "metadata": {},
   "outputs": [
    {
     "data": {
      "text/plain": [
       "1    210\n",
       "2    164\n",
       "0     69\n",
       "3     49\n",
       "Name: ind-languages, dtype: int64"
      ]
     },
     "execution_count": 11,
     "metadata": {},
     "output_type": "execute_result"
    }
   ],
   "source": [
    "languages_counts = filtered_df['ind-languages'].value_counts()\n",
    "languages_counts"
   ]
  },
  {
   "cell_type": "markdown",
   "id": "f79752c0-024c-451f-9c09-286b4659eef5",
   "metadata": {},
   "source": [
    "**Exploring the data - the bar charts that were chosen for the presentation**"
   ]
  },
  {
   "cell_type": "code",
   "execution_count": 12,
   "id": "06959fd6-354e-41ce-b033-f5a6f6c1b26a",
   "metadata": {},
   "outputs": [],
   "source": [
    "df = filtered_df"
   ]
  },
  {
   "cell_type": "code",
   "execution_count": 13,
   "id": "30486e5d-a680-40ad-973a-60013ba1a568",
   "metadata": {},
   "outputs": [
    {
     "data": {
      "image/png": "[encoded data removed]",
      "text/plain": [
       "<Figure size 720x432 with 1 Axes>"
      ]
     },
     "metadata": {
      "needs_background": "light"
     },
     "output_type": "display_data"
    }
   ],
   "source": [
    "hired_probability = df.groupby(['ind-international_exp', 'age'])['decision'].mean().reset_index()\n",
    "plt.figure(figsize=(10, 6))\n",
    "sns.barplot(x='ind-international_exp', y='decision', hue='age', data=hired_probability)\n",
    "plt.title('International Experience and Age vs. Hiring Probability')\n",
    "plt.xlabel('International Experience')\n",
    "plt.ylabel('Hiring Probability')\n",
    "plt.legend(title='Age', loc='upper right')\n",
    "plt.ylim(0, 1.0)\n",
    "plt.grid(True)\n",
    "plt.show()"
   ]
  },
  {
   "cell_type": "code",
   "execution_count": 14,
   "id": "0fd2322d-d8b9-4ac4-9ab0-6dbb92e6aa9b",
   "metadata": {},
   "outputs": [
    {
     "data": {
      "image/png": "[encoded data removed]",
      "text/plain": [
       "<Figure size 720x432 with 1 Axes>"
      ]
     },
     "metadata": {
      "needs_background": "light"
     },
     "output_type": "display_data"
    }
   ],
   "source": [
    "filtered_df1 = df[df['ind-university_grade'] >= 55]\n",
    "hired_probability = filtered_df1.groupby(['ind-university_grade', 'gender'])['decision'].mean().reset_index()\n",
    "custom_palette = {'male': '#3EA19E', 'female': '#D87AD3', 'other': '#09AD1D'}\n",
    "plt.figure(figsize=(10, 6))\n",
    "sns.barplot(x='ind-university_grade', y='decision', hue='gender', data=hired_probability, palette=custom_palette)\n",
    "plt.title('University Grade and Gender vs. Hiring Probability')\n",
    "plt.xlabel('University Grade')\n",
    "plt.ylabel('Hiring Probability')\n",
    "plt.legend(title='Gender', loc='upper right')\n",
    "plt.ylim(0, 1.0)\n",
    "plt.grid(True)\n",
    "plt.show()"
   ]
  },
  {
   "cell_type": "code",
   "execution_count": 15,
   "id": "c8f108d7-9700-4240-a3b1-30382a60d814",
   "metadata": {},
   "outputs": [
    {
     "data": {
      "image/png": "[encoded data removed]",
      "text/plain": [
       "<Figure size 720x432 with 1 Axes>"
      ]
     },
     "metadata": {
      "needs_background": "light"
     },
     "output_type": "display_data"
    }
   ],
   "source": [
    "hired_probability = df.groupby(['age', 'ind-entrepeneur_exp'])['decision'].mean().reset_index()\n",
    "plt.figure(figsize=(10, 6))\n",
    "custom_palette = ['#3EA19E', '#D87AD3']\n",
    "sns.barplot(x='age', y='decision', hue='ind-entrepeneur_exp', data=hired_probability, palette=custom_palette)\n",
    "plt.title('Age and Entrepreneur Experience vs. Hiring Probability')\n",
    "plt.xlabel('Age')\n",
    "plt.ylabel('Hiring Probability')\n",
    "plt.legend(title='Entrepreneur Experience', loc='upper right')\n",
    "plt.ylim(0, 1.0)\n",
    "plt.grid(True)\n",
    "plt.show()"
   ]
  },
  {
   "cell_type": "code",
   "execution_count": 16,
   "id": "b6f043ff-d2e6-478a-8377-69f51d8b3bfb",
   "metadata": {},
   "outputs": [
    {
     "data": {
      "image/png": "[encoded data removed]",
      "text/plain": [
       "<Figure size 720x432 with 1 Axes>"
      ]
     },
     "metadata": {
      "needs_background": "light"
     },
     "output_type": "display_data"
    }
   ],
   "source": [
    "filtered_df1 = df[df['ind-university_grade'] >= 55]\n",
    "hired_probability = filtered_df1.groupby(['ind-debateclub', 'ind-university_grade'])['decision'].mean().reset_index()\n",
    "plt.figure(figsize=(10, 6))\n",
    "custom_palette = ['#3EA19E', '#D87AD3']\n",
    "sns.barplot(x='ind-university_grade', y='decision', hue='ind-debateclub', data=hired_probability, palette=custom_palette)\n",
    "plt.title('University Grade and Debate Club vs. Hiring Probability')\n",
    "plt.xlabel('University Grade')\n",
    "plt.ylabel('Hiring Probability')\n",
    "plt.legend(title='Debate Club', loc='upper right')\n",
    "plt.ylim(0, 1.0)\n",
    "plt.grid(True)\n",
    "plt.show()"
   ]
  },
  {
   "cell_type": "markdown",
   "id": "9a5f353f-770d-4b57-a313-7ca249271969",
   "metadata": {},
   "source": [
    "**Exploring the data - other bar charts**"
   ]
  },
  {
   "cell_type": "code",
   "execution_count": 17,
   "id": "95ee3a89-a9ab-420c-83ea-83ee7d316ba7",
   "metadata": {},
   "outputs": [
    {
     "data": {
      "image/png": "[encoded data removed]",
      "text/plain": [
       "<Figure size 720x432 with 1 Axes>"
      ]
     },
     "metadata": {
      "needs_background": "light"
     },
     "output_type": "display_data"
    }
   ],
   "source": [
    "hired_probability = df.groupby(['age', 'gender'])['decision'].mean().reset_index()\n",
    "plt.figure(figsize=(10, 6))\n",
    "custom_palette = {'male': '#3EA19E', 'female': '#D87AD3', 'other': '#09AD1D'}\n",
    "sns.barplot(x='age', y='decision', hue='gender', data=hired_probability, palette=custom_palette)\n",
    "plt.title('Age and Gender vs. Hiring Probability')\n",
    "plt.xlabel('Age')\n",
    "plt.ylabel('Hiring Probability')\n",
    "plt.legend(title='Gender', loc='upper right')\n",
    "plt.ylim(0, 1.0)\n",
    "plt.grid(True)\n",
    "plt.show()"
   ]
  },
  {
   "cell_type": "code",
   "execution_count": 18,
   "id": "3ead8238-a819-40d8-a9ef-f22dbdc18d35",
   "metadata": {},
   "outputs": [
    {
     "data": {
      "image/png": "[encoded data removed]",
      "text/plain": [
       "<Figure size 720x432 with 1 Axes>"
      ]
     },
     "metadata": {
      "needs_background": "light"
     },
     "output_type": "display_data"
    }
   ],
   "source": [
    "hired_probability = df.groupby(['age', 'sport'])['decision'].mean().reset_index()\n",
    "plt.figure(figsize=(10, 6))\n",
    "custom_palette = {'Swimming': '#3EA19E', 'Football': '#D87AD3', 'Golf': '#09AD1D'}\n",
    "sns.barplot(x='age', y='decision', hue='sport', data=hired_probability, palette=custom_palette)\n",
    "plt.title('Age and Sport vs. Hiring Probability')\n",
    "plt.xlabel('Age')\n",
    "plt.ylabel('Hiring Probability')\n",
    "plt.legend(title='Sport', loc='upper right')\n",
    "plt.ylim(0, 1.0)\n",
    "plt.grid(True)\n",
    "plt.show()"
   ]
  },
  {
   "cell_type": "code",
   "execution_count": 19,
   "id": "1bc28697-a52f-4f6a-a2d4-aa93a286c5ca",
   "metadata": {},
   "outputs": [
    {
     "data": {
      "image/png": "[encoded data removed]",
      "text/plain": [
       "<Figure size 864x432 with 1 Axes>"
      ]
     },
     "metadata": {
      "needs_background": "light"
     },
     "output_type": "display_data"
    }
   ],
   "source": [
    "grouped = df.groupby(['ind-degree', 'nationality', 'ind-exact_study'])['decision'].mean().unstack()\n",
    "\n",
    "colors = [\"#3EA19E\", \"#D87AD3\"]\n",
    "\n",
    "fig, ax = plt.subplots(figsize=(12, 6))\n",
    "grouped.plot(kind='bar', ax=ax, color=colors)\n",
    "plt.xlabel('Degree, Nationality, Exact Study')\n",
    "plt.ylabel('Hiring Probability')\n",
    "plt.title('Hiring Probability by Degree, Nationality, and Exact Study')\n",
    "plt.xticks(rotation=45)\n",
    "plt.legend(title='Exact Study', labels=['False', 'True'])\n",
    "plt.tight_layout()\n",
    "plt.show()"
   ]
  },
  {
   "cell_type": "code",
   "execution_count": 20,
   "id": "5fa8579e-0fae-4ab9-9f95-e10a3552f274",
   "metadata": {},
   "outputs": [
    {
     "data": {
      "image/png": "[encoded data removed]",
      "text/plain": [
       "<Figure size 720x432 with 1 Axes>"
      ]
     },
     "metadata": {
      "needs_background": "light"
     },
     "output_type": "display_data"
    }
   ],
   "source": [
    "# Scatterplot illustrating the university grade by age distributing, marking the presence or lack of international experience. \n",
    "plt.figure(figsize=(10, 6))\n",
    "\n",
    "# For ind-international_exp == True\n",
    "plt.scatter(df[df['ind-international_exp'] == True]['ind-university_grade'],\n",
    "            df[df['ind-international_exp'] == True]['age'],\n",
    "            label='Int Exp = True', marker='o', color='green')\n",
    "\n",
    "# For ind-international_exp == False\n",
    "plt.scatter(df[df['ind-international_exp'] == False]['ind-university_grade'],\n",
    "            df[df['ind-international_exp'] == False]['age'],\n",
    "            label='Int Exp = False', marker='^', color='red')\n",
    "\n",
    "plt.xlabel('University Grade')\n",
    "plt.ylabel('Age')\n",
    "plt.title('University Grade vs. Age by International Experience')\n",
    "plt.legend()\n",
    "plt.grid(True)\n",
    "\n",
    "plt.show()"
   ]
  },
  {
   "cell_type": "code",
   "execution_count": 21,
   "id": "b6a89003",
   "metadata": {},
   "outputs": [
    {
     "data": {
      "image/png": "[encoded data removed]",
      "text/plain": [
       "<Figure size 720x432 with 1 Axes>"
      ]
     },
     "metadata": {
      "needs_background": "light"
     },
     "output_type": "display_data"
    }
   ],
   "source": [
    "# Scatterplot illustrating the university grades by number of languages, marking type of degree.  \n",
    "degree_markers = {\n",
    "    'bachelor': 'o',\n",
    "    'master': 's',\n",
    "    'phd': '^'}\n",
    "\n",
    "plt.figure(figsize=(10, 6))\n",
    "\n",
    "for degree, marker in degree_markers.items():\n",
    "    degree_data = df[df['ind-degree'] == degree]\n",
    "    plt.scatter(degree_data['ind-university_grade'], degree_data['ind-languages'], label=degree, marker=marker)\n",
    "\n",
    "plt.xlabel('Grades')\n",
    "plt.ylabel('Number of Languages')\n",
    "plt.title('Grades vs. Number of Languages by Degree')\n",
    "plt.legend(title='Degree')\n",
    "plt.grid(True)\n",
    "plt.show()"
   ]
  },
  {
   "cell_type": "code",
   "execution_count": 22,
   "id": "bdc421ea-a59d-491f-be80-5620ab6096ce",
   "metadata": {},
   "outputs": [
    {
     "data": {
      "image/png": "[encoded data removed]",
      "text/plain": [
       "<Figure size 504x360 with 1 Axes>"
      ]
     },
     "metadata": {
      "needs_background": "light"
     },
     "output_type": "display_data"
    },
    {
     "name": "stdout",
     "output_type": "stream",
     "text": [
      "   Gender   Min Age   Max Age   Mean Age   Median Age\n",
      "0  female        21        32         26           26\n",
      "1    male        21        32         27           27\n",
      "2   other        23        29         27           27\n"
     ]
    }
   ],
   "source": [
    "#Violin plot illustrating age distribution by gender.\n",
    "\n",
    "plt.figure(figsize=(7, 5))\n",
    "custom_palette = {'male': '#3EA19E', 'female': '#D87AD3', 'other': '#09AD1D'}\n",
    "sns.violinplot(x='gender', y='age', data=df, palette=custom_palette)\n",
    "\n",
    "plt.xlabel('Gender')\n",
    "plt.ylabel('Age')\n",
    "plt.title('Age Distribution by Gender')\n",
    "plt.show()\n",
    "\n",
    "# Table to display the results\n",
    "min_max_values = df.groupby('gender')['age'].agg(['min', 'max', 'mean', 'median']).reset_index()\n",
    "min_max_values['mean'] = min_max_values['mean'].round().astype(int)  # Round mean to integer\n",
    "min_max_values['median'] = min_max_values['median'].astype(int)  # Ensure median is integer\n",
    "min_max_table = pd.DataFrame({\n",
    "    'Gender': min_max_values['gender'],\n",
    "    ' Min Age': min_max_values['min'],\n",
    "    ' Max Age': min_max_values['max'],\n",
    "    ' Mean Age': min_max_values['mean'],\n",
    "    ' Median Age': min_max_values['median']})\n",
    "\n",
    "print(min_max_table)"
   ]
  },
  {
   "cell_type": "code",
   "execution_count": 23,
   "id": "0702009c-62f2-4df1-a7c8-72984cb96193",
   "metadata": {},
   "outputs": [
    {
     "data": {
      "image/png": "[encoded data removed]",
      "text/plain": [
       "<Figure size 504x360 with 1 Axes>"
      ]
     },
     "metadata": {
      "needs_background": "light"
     },
     "output_type": "display_data"
    },
    {
     "name": "stdout",
     "output_type": "stream",
     "text": [
      "  Nationality  Minimal Score  Maximal Score  Mean Score  Median Score\n",
      "0     Belgian             51             76          62            62\n",
      "1       Dutch             47             77          62            62\n",
      "2      German             49             74          62            62\n"
     ]
    }
   ],
   "source": [
    "#Violet plot showing the diversity of exam scores by nationality.\n",
    "plt.figure(figsize=(7, 5))\n",
    "custom_palette = {'German': '#3EA19E', 'Dutch': '#D87AD3', 'Belgian': '#09AD1D'}\n",
    "sns.violinplot(x='nationality', y='ind-university_grade', data=df, palette=custom_palette)\n",
    "\n",
    "plt.xlabel('Nationality')\n",
    "plt.ylabel('Exam Score')\n",
    "plt.title('Exam Score Distribution by Nationality')\n",
    "plt.xticks #(rotation=45) \n",
    "plt.tight_layout()\n",
    "plt.show()\n",
    "\n",
    "# Table\n",
    "min_max_values_nationality = df.groupby('nationality')['ind-university_grade'].agg(['min', 'max', 'mean', 'median']).reset_index()\n",
    "min_max_values_nationality.columns = ['Nationality', 'Minimal Score', 'Maximal Score', 'Mean Score', 'Median Score']\n",
    "min_max_values_nationality['Mean Score'] = min_max_values_nationality['Mean Score'].round().astype(int)  \n",
    "\n",
    "\n",
    "print(min_max_values_nationality)"
   ]
  },
  {
   "cell_type": "code",
   "execution_count": 24,
   "id": "25e8eb8c-7cae-4f3b-856b-80d43b9451b6",
   "metadata": {},
   "outputs": [
    {
     "data": {
      "image/png": "[encoded data removed]",
      "text/plain": [
       "<Figure size 504x360 with 1 Axes>"
      ]
     },
     "metadata": {
      "needs_background": "light"
     },
     "output_type": "display_data"
    },
    {
     "name": "stdout",
     "output_type": "stream",
     "text": [
      "   Languages  Frequency\n",
      "0          1        210\n",
      "1          2        164\n",
      "2          0         69\n",
      "3          3         49\n"
     ]
    }
   ],
   "source": [
    "#Histogram visualizing the frequency of individuals knowing additional languages (aside from their native language)\n",
    "\n",
    "language_counts = df['ind-languages'].value_counts()\n",
    "languages = language_counts.index\n",
    "frequencies = language_counts.values\n",
    "\n",
    "plt.figure(figsize=(7, 5)) \n",
    "plt.bar(range(len(languages)), frequencies, color='#3EA19E')\n",
    "plt.xticks(range(len(languages)), [int(label) for label in languages])\n",
    "\n",
    "plt.xlabel('Languages')\n",
    "plt.ylabel('Frequency')\n",
    "\n",
    "plt.title('Frequency of Individuals Knowing Additional Languages')\n",
    "plt.tight_layout() \n",
    "plt.show()\n",
    "\n",
    "#Table:\n",
    "language_table = pd.DataFrame({'Languages': languages, 'Frequency': frequencies})\n",
    "print(language_table)"
   ]
  },
  {
   "cell_type": "code",
   "execution_count": 25,
   "id": "2cb9ff26-9dc4-4029-9662-d15a1521035d",
   "metadata": {},
   "outputs": [
    {
     "data": {
      "image/png": "[encoded data removed]",
      "text/plain": [
       "<Figure size 576x432 with 1 Axes>"
      ]
     },
     "metadata": {
      "needs_background": "light"
     },
     "output_type": "display_data"
    },
    {
     "name": "stdout",
     "output_type": "stream",
     "text": [
      "    Age  Number of people\n",
      "9    21                21\n",
      "6    22                34\n",
      "8    23                24\n",
      "3    24                50\n",
      "5    25                44\n",
      "0    26                81\n",
      "2    27                69\n",
      "1    28                73\n",
      "4    29                47\n",
      "7    30                30\n",
      "10   31                11\n",
      "11   32                 8\n"
     ]
    }
   ],
   "source": [
    "# Histogram illustating the age distribution frequency.\n",
    "\n",
    "unique_ages = sorted(df['age'].unique())\n",
    "plt.figure(figsize=(8, 6))  \n",
    "age_bins = unique_ages + [unique_ages[-1] + 1]\n",
    "plt.hist(df['age'], bins=age_bins, edgecolor='k', color='#D87AD3')\n",
    "\n",
    "plt.xlabel('Age')\n",
    "plt.ylabel('Frequency')\n",
    "plt.xticks(unique_ages)\n",
    "\n",
    "plt.title('Age Distribution of Individuals')\n",
    "plt.show()\n",
    "\n",
    "#Table\n",
    "age_counts = df['age'].value_counts().reset_index()\n",
    "age_counts.columns = ['Age', 'Number of people']\n",
    "age_counts = age_counts.sort_values(by='Age')\n",
    "print(age_counts)"
   ]
  },
  {
   "cell_type": "markdown",
   "id": "3ff2b97b",
   "metadata": {},
   "source": [
    "### Data Preparation"
   ]
  },
  {
   "cell_type": "code",
   "execution_count": 26,
   "id": "bed0496c",
   "metadata": {},
   "outputs": [
    {
     "name": "stdout",
     "output_type": "stream",
     "text": [
      "Missing values count for each column:\n",
      "Id                       0\n",
      "gender                   0\n",
      "age                      0\n",
      "nationality              0\n",
      "sport                    0\n",
      "ind-university_grade     0\n",
      "ind-debateclub           0\n",
      "ind-programming_exp      0\n",
      "ind-international_exp    0\n",
      "ind-entrepeneur_exp      0\n",
      "ind-languages            0\n",
      "ind-exact_study          0\n",
      "ind-degree               0\n",
      "company                  0\n",
      "decision                 0\n",
      "dtype: int64\n",
      "Duplicate Rows:\n",
      "Empty DataFrame\n",
      "Columns: [Id, gender, age, nationality, sport, ind-university_grade, ind-debateclub, ind-programming_exp, ind-international_exp, ind-entrepeneur_exp, ind-languages, ind-exact_study, ind-degree, company, decision]\n",
      "Index: []\n",
      "\n",
      "Outliers:\n",
      "Series([], dtype: bool)\n"
     ]
    }
   ],
   "source": [
    "# Checking for missing values \n",
    "missing_values = df.isnull().sum()\n",
    "print(\"Missing values count for each column:\")\n",
    "print(missing_values)\n",
    "\n",
    "# Checking for duplicates\n",
    "duplicates = df[df.duplicated()]\n",
    "print(\"Duplicate Rows:\")\n",
    "print(duplicates)\n",
    "\n",
    "# Cheking for outliers\n",
    "numeric_columns = df.select_dtypes(include=[int, float])\n",
    "Q1 = numeric_columns.quantile(0.25)\n",
    "Q3 = numeric_columns.quantile(0.75)\n",
    "IQR = Q3 - Q1\n",
    "outliers = ((numeric_columns < (Q1 - 1.5 * IQR)) | (numeric_columns > (Q3 + 1.5 * IQR))).any()\n",
    "print(\"\\nOutliers:\")\n",
    "print(outliers)"
   ]
  },
  {
   "cell_type": "markdown",
   "id": "4e8c4e74-9e00-49c1-acac-712c4ce60b4b",
   "metadata": {},
   "source": [
    "**Modelling the data**"
   ]
  },
  {
   "cell_type": "code",
   "execution_count": 27,
   "id": "5cd7acb5",
   "metadata": {},
   "outputs": [
    {
     "data": {
      "text/html": [
       "<div>\n",
       "<style scoped>\n",
       "    .dataframe tbody tr th:only-of-type {\n",
       "        vertical-align: middle;\n",
       "    }\n",
       "\n",
       "    .dataframe tbody tr th {\n",
       "        vertical-align: top;\n",
       "    }\n",
       "\n",
       "    .dataframe thead th {\n",
       "        text-align: right;\n",
       "    }\n",
       "</style>\n",
       "<table border=\"1\" class=\"dataframe\">\n",
       "  <thead>\n",
       "    <tr style=\"text-align: right;\">\n",
       "      <th></th>\n",
       "      <th>Id</th>\n",
       "      <th>gender</th>\n",
       "      <th>age</th>\n",
       "      <th>nationality</th>\n",
       "      <th>sport</th>\n",
       "      <th>ind-university_grade</th>\n",
       "      <th>ind-debateclub</th>\n",
       "      <th>ind-programming_exp</th>\n",
       "      <th>ind-international_exp</th>\n",
       "      <th>ind-entrepeneur_exp</th>\n",
       "      <th>ind-languages</th>\n",
       "      <th>ind-exact_study</th>\n",
       "      <th>ind-degree</th>\n",
       "      <th>company</th>\n",
       "      <th>decision</th>\n",
       "    </tr>\n",
       "  </thead>\n",
       "  <tbody>\n",
       "    <tr>\n",
       "      <th>548</th>\n",
       "      <td>x6445e</td>\n",
       "      <td>female</td>\n",
       "      <td>26</td>\n",
       "      <td>German</td>\n",
       "      <td>Golf</td>\n",
       "      <td>56</td>\n",
       "      <td>False</td>\n",
       "      <td>False</td>\n",
       "      <td>False</td>\n",
       "      <td>False</td>\n",
       "      <td>1</td>\n",
       "      <td>False</td>\n",
       "      <td>bachelor</td>\n",
       "      <td>A</td>\n",
       "      <td>False</td>\n",
       "    </tr>\n",
       "    <tr>\n",
       "      <th>613</th>\n",
       "      <td>x9736a</td>\n",
       "      <td>male</td>\n",
       "      <td>21</td>\n",
       "      <td>Dutch</td>\n",
       "      <td>Golf</td>\n",
       "      <td>64</td>\n",
       "      <td>False</td>\n",
       "      <td>True</td>\n",
       "      <td>False</td>\n",
       "      <td>True</td>\n",
       "      <td>2</td>\n",
       "      <td>True</td>\n",
       "      <td>bachelor</td>\n",
       "      <td>A</td>\n",
       "      <td>False</td>\n",
       "    </tr>\n",
       "    <tr>\n",
       "      <th>475</th>\n",
       "      <td>x7139e</td>\n",
       "      <td>male</td>\n",
       "      <td>32</td>\n",
       "      <td>Dutch</td>\n",
       "      <td>Golf</td>\n",
       "      <td>65</td>\n",
       "      <td>False</td>\n",
       "      <td>False</td>\n",
       "      <td>True</td>\n",
       "      <td>False</td>\n",
       "      <td>0</td>\n",
       "      <td>True</td>\n",
       "      <td>master</td>\n",
       "      <td>A</td>\n",
       "      <td>False</td>\n",
       "    </tr>\n",
       "    <tr>\n",
       "      <th>894</th>\n",
       "      <td>x3914e</td>\n",
       "      <td>male</td>\n",
       "      <td>30</td>\n",
       "      <td>Dutch</td>\n",
       "      <td>Football</td>\n",
       "      <td>59</td>\n",
       "      <td>False</td>\n",
       "      <td>False</td>\n",
       "      <td>False</td>\n",
       "      <td>True</td>\n",
       "      <td>2</td>\n",
       "      <td>False</td>\n",
       "      <td>bachelor</td>\n",
       "      <td>A</td>\n",
       "      <td>True</td>\n",
       "    </tr>\n",
       "    <tr>\n",
       "      <th>150</th>\n",
       "      <td>x8983a</td>\n",
       "      <td>female</td>\n",
       "      <td>24</td>\n",
       "      <td>Dutch</td>\n",
       "      <td>Football</td>\n",
       "      <td>64</td>\n",
       "      <td>False</td>\n",
       "      <td>False</td>\n",
       "      <td>False</td>\n",
       "      <td>False</td>\n",
       "      <td>2</td>\n",
       "      <td>True</td>\n",
       "      <td>bachelor</td>\n",
       "      <td>A</td>\n",
       "      <td>True</td>\n",
       "    </tr>\n",
       "  </tbody>\n",
       "</table>\n",
       "</div>"
      ],
      "text/plain": [
       "         Id  gender  age nationality     sport  ind-university_grade  \\\n",
       "548  x6445e  female   26      German      Golf                    56   \n",
       "613  x9736a    male   21       Dutch      Golf                    64   \n",
       "475  x7139e    male   32       Dutch      Golf                    65   \n",
       "894  x3914e    male   30       Dutch  Football                    59   \n",
       "150  x8983a  female   24       Dutch  Football                    64   \n",
       "\n",
       "     ind-debateclub  ind-programming_exp  ind-international_exp  \\\n",
       "548           False                False                  False   \n",
       "613           False                 True                  False   \n",
       "475           False                False                   True   \n",
       "894           False                False                  False   \n",
       "150           False                False                  False   \n",
       "\n",
       "     ind-entrepeneur_exp  ind-languages  ind-exact_study ind-degree company  \\\n",
       "548                False              1            False   bachelor       A   \n",
       "613                 True              2             True   bachelor       A   \n",
       "475                False              0             True     master       A   \n",
       "894                 True              2            False   bachelor       A   \n",
       "150                False              2             True   bachelor       A   \n",
       "\n",
       "     decision  \n",
       "548     False  \n",
       "613     False  \n",
       "475     False  \n",
       "894      True  \n",
       "150      True  "
      ]
     },
     "execution_count": 27,
     "metadata": {},
     "output_type": "execute_result"
    }
   ],
   "source": [
    "# Splitting the data in train, test and validation data\n",
    "\n",
    "df_train, df_test = skl.model_selection.train_test_split(filtered_df, test_size=0.20, random_state=9, shuffle=True)\n",
    "df_train, df_val = skl.model_selection.train_test_split(df_train, test_size=0.20, random_state=9, shuffle=True)\n",
    "df_train.head()"
   ]
  },
  {
   "cell_type": "code",
   "execution_count": 28,
   "id": "448e5e8a",
   "metadata": {},
   "outputs": [],
   "source": [
    "# Splitting x and y for train, test and validation data\n",
    "\n",
    "X_train = df_train[['gender','age', 'nationality', 'sport', 'ind-university_grade', 'ind-debateclub', 'ind-programming_exp', 'ind-international_exp', 'ind-entrepeneur_exp', 'ind-languages', 'ind-exact_study', 'ind-degree']]\n",
    "y_train = df_train['decision']\n",
    "X_test = df_test[['gender','age', 'nationality', 'sport', 'ind-university_grade', 'ind-debateclub', 'ind-programming_exp', 'ind-international_exp', 'ind-entrepeneur_exp',\t'ind-languages', 'ind-exact_study',\t'ind-degree']]\n",
    "y_test = df_test['decision']"
   ]
  },
  {
   "cell_type": "code",
   "execution_count": 29,
   "id": "ef70458a",
   "metadata": {},
   "outputs": [],
   "source": [
    "# Define preprocessing steps\n",
    "categorical_features = ['sport', 'ind-degree', 'ind-programming_exp', 'ind-languages']\n",
    "categorical_transformer = Pipeline(steps=[\n",
    "    ('onehot', OneHotEncoder(handle_unknown='ignore'))\n",
    "])\n",
    "\n",
    "numeric_features = ['ind-university_grade']\n",
    "numeric_transformer = Pipeline(steps=[\n",
    "    ('scaler', StandardScaler())\n",
    "])\n",
    "\n",
    "# Combine preprocessing steps\n",
    "preprocessor = ColumnTransformer(\n",
    "    transformers=[\n",
    "        ('num', numeric_transformer, numeric_features),\n",
    "        ('cat', categorical_transformer, categorical_features)\n",
    "    ])\n",
    "\n",
    "\n",
    "decision_tree_pipeline = Pipeline(steps=[('preprocessor', preprocessor),\n",
    "                           ('classifier', DecisionTreeClassifier())])"
   ]
  },
  {
   "cell_type": "code",
   "execution_count": 30,
   "id": "c82613cc",
   "metadata": {},
   "outputs": [
    {
     "data": {
      "text/plain": [
       "Pipeline(steps=[('preprocessor',\n",
       "                 ColumnTransformer(transformers=[('num',\n",
       "                                                  Pipeline(steps=[('scaler',\n",
       "                                                                   StandardScaler())]),\n",
       "                                                  ['ind-university_grade']),\n",
       "                                                 ('cat',\n",
       "                                                  Pipeline(steps=[('onehot',\n",
       "                                                                   OneHotEncoder(handle_unknown='ignore'))]),\n",
       "                                                  ['sport', 'ind-degree',\n",
       "                                                   'ind-programming_exp',\n",
       "                                                   'ind-languages'])])),\n",
       "                ('classifier', DecisionTreeClassifier())])"
      ]
     },
     "execution_count": 30,
     "metadata": {},
     "output_type": "execute_result"
    }
   ],
   "source": [
    "decision_tree_pipeline.fit(X_train, y_train)"
   ]
  },
  {
   "cell_type": "code",
   "execution_count": 31,
   "id": "0ec5fa19",
   "metadata": {},
   "outputs": [
    {
     "name": "stdout",
     "output_type": "stream",
     "text": [
      "DecisionTreeClassifier(max_depth=4, min_samples_leaf=4)\n"
     ]
    }
   ],
   "source": [
    "# Define hyperparameters to search\n",
    "dt_param_grid = {\n",
    "    'classifier__max_depth': [1,2,3,4,5,6,7,8,9,10,11,12,13,14,15,16,17,18,19,20],\n",
    "    'classifier__min_samples_split': [2, 5, 6, 10, 13, 15]  ,\n",
    "    'classifier__min_samples_leaf': [1, 2, 4],\n",
    "}\n",
    "\n",
    "# Create a grid search with cross-validation\n",
    "dt_grid_search = GridSearchCV(decision_tree_pipeline, dt_param_grid, cv=5, scoring='f1')\n",
    "dt_grid_search.fit(X_train, y_train)\n",
    "\n",
    "# Get the best hyperparameters\n",
    "dt_best_params = dt_grid_search.best_params_\n",
    "dt_best_classifier = dt_grid_search.best_estimator_.named_steps['classifier']\n",
    "print(dt_best_classifier)"
   ]
  },
  {
   "cell_type": "code",
   "execution_count": 32,
   "id": "5e5933f6",
   "metadata": {},
   "outputs": [
    {
     "name": "stdout",
     "output_type": "stream",
     "text": [
      "Classification Report:\n",
      "              precision    recall  f1-score   support\n",
      "\n",
      "       False       0.86      0.70      0.78       182\n",
      "        True       0.67      0.85      0.75       132\n",
      "\n",
      "    accuracy                           0.76       314\n",
      "   macro avg       0.77      0.78      0.76       314\n",
      "weighted avg       0.78      0.76      0.77       314\n",
      "\n",
      "Precision: 0.67\n",
      "Recall: 0.85\n",
      "F1-score: 0.75\n"
     ]
    },
    {
     "data": {
      "image/png": "[encoded data removed]",
      "text/plain": [
       "<Figure size 432x288 with 2 Axes>"
      ]
     },
     "metadata": {
      "needs_background": "light"
     },
     "output_type": "display_data"
    }
   ],
   "source": [
    "# Make predictions on the training set\n",
    "y_pred = dt_grid_search.predict(X_train)\n",
    "\n",
    "# Generate a classification report and confusion matrix\n",
    "print(\"Classification Report:\")\n",
    "print(classification_report(y_train, y_pred))\n",
    "\n",
    "conf_matrix = confusion_matrix(y_train, y_pred)\n",
    "# Calculate precision, recall, and F1-score\n",
    "precision = conf_matrix[1, 1] / (conf_matrix[1, 1] + conf_matrix[0, 1])\n",
    "recall = conf_matrix[1, 1] / (conf_matrix[1, 1] + conf_matrix[1, 0])\n",
    "f1_score = 2 * (precision * recall) / (precision + recall)\n",
    "\n",
    "# Print the results\n",
    "print(\"Precision: {:.2f}\".format(precision))\n",
    "print(\"Recall: {:.2f}\".format(recall))\n",
    "print(\"F1-score: {:.2f}\".format(f1_score))\n",
    "\n",
    "sns.heatmap(confusion_matrix(y_train, y_pred), annot=True, cmap='Blues')\n",
    "plt.xlabel('Predicted')\n",
    "plt.ylabel('Actual')\n",
    "plt.show()"
   ]
  },
  {
   "cell_type": "code",
   "execution_count": 33,
   "id": "314f1ba9",
   "metadata": {},
   "outputs": [
    {
     "data": {
      "image/png": "[encoded data removed]",
      "text/plain": [
       "<Figure size 720x432 with 1 Axes>"
      ]
     },
     "metadata": {
      "needs_background": "light"
     },
     "output_type": "display_data"
    }
   ],
   "source": [
    "# Define a range of maximum depths to test\n",
    "parameters_range = np.arange(2, 15)\n",
    "mean_scores_depth = []\n",
    "# Iterate over different maximum depths\n",
    "for depth in parameters_range:\n",
    "    # Create a decision tree classifier with the current depth\n",
    "    classifier = DecisionTreeClassifier(max_depth=depth, random_state=42)\n",
    "\n",
    "    # Create a pipeline with the current classifier\n",
    "    pipeline = Pipeline(steps=[('preprocessor', preprocessor),\n",
    "                               ('classifier', classifier)])\n",
    "\n",
    "    # Perform cross-validation (adjust cv parameter as needed)\n",
    "    scores = cross_val_score(pipeline, X_train, y_train, cv=5, scoring='f1')\n",
    "\n",
    "    # Compute the mean score for this depth\n",
    "    mean_score = np.mean(scores)\n",
    "    mean_scores_depth.append(mean_score)\n",
    "\n",
    "mean_scores_samples = []\n",
    "# Iterate over different number of samples\n",
    "for samples in parameters_range:\n",
    "    # Create a decision tree classifier with the current samples\n",
    "    classifier = DecisionTreeClassifier(min_samples_split=samples, random_state=42)\n",
    "    # Create a pipeline with the current classifier\n",
    "    pipeline = Pipeline(steps=[('preprocessor', preprocessor),\n",
    "                               ('classifier', classifier)])\n",
    "\n",
    "    # Perform cross-validation (adjust cv parameter as needed)\n",
    "    scores = cross_val_score(pipeline, X_train, y_train, cv=5, scoring='f1')\n",
    "\n",
    "    # Compute the mean score for this depth\n",
    "    mean_score = np.mean(scores)\n",
    "    mean_scores_samples.append(mean_score)\n",
    "\n",
    "mean_scores_leaves = []\n",
    "\n",
    "# Iterate over different maximum depths\n",
    "for depth in parameters_range:\n",
    "    # Create a decision tree classifier with the current depth\n",
    "    classifier = DecisionTreeClassifier(min_samples_leaf=depth, random_state=42)\n",
    "\n",
    "    # Create a pipeline with the current classifier\n",
    "    pipeline = Pipeline(steps=[('preprocessor', preprocessor),\n",
    "                               ('classifier', classifier)])\n",
    "\n",
    "    # Perform cross-validation (adjust cv parameter as needed)\n",
    "    scores = cross_val_score(pipeline, X_train, y_train, cv=5, scoring='f1')\n",
    "\n",
    "    # Compute the mean score for this depth\n",
    "    mean_score = np.mean(scores)\n",
    "    mean_scores_leaves.append(mean_score)\n",
    "\n",
    "# Plot the results\n",
    "plt.figure(figsize=(10, 6))\n",
    "plt.plot(parameters_range, mean_scores_depth, marker='o', linestyle='-', color='red', label='Max Depth')\n",
    "plt.plot(parameters_range, mean_scores_samples, marker='o', linestyle='-', color='blue', label='Min Samples Split')\n",
    "plt.plot(parameters_range, mean_scores_leaves, marker='o', linestyle='-', color='green', label='Min Samples Leaf')\n",
    "plt.title('Decision Tree Hyperparameters vs. Performance')\n",
    "plt.xlabel('Hyperparameters')\n",
    "plt.ylabel('Mean F1 Score')\n",
    "plt.legend()\n",
    "plt.grid(True)\n",
    "plt.show()"
   ]
  },
  {
   "cell_type": "code",
   "execution_count": 34,
   "id": "a5ccb121",
   "metadata": {},
   "outputs": [
    {
     "name": "stdout",
     "output_type": "stream",
     "text": [
      "Classification Report:\n",
      "              precision    recall  f1-score   support\n",
      "\n",
      "       False       0.77      0.63      0.69        52\n",
      "        True       0.66      0.79      0.72        47\n",
      "\n",
      "    accuracy                           0.71        99\n",
      "   macro avg       0.71      0.71      0.71        99\n",
      "weighted avg       0.72      0.71      0.71        99\n",
      "\n",
      "Precision: 0.66\n",
      "Recall: 0.79\n",
      "F1-score: 0.72\n"
     ]
    },
    {
     "data": {
      "image/png": "[encoded data removed]",
      "text/plain": [
       "<Figure size 432x288 with 2 Axes>"
      ]
     },
     "metadata": {
      "needs_background": "light"
     },
     "output_type": "display_data"
    }
   ],
   "source": [
    "# Make predictions on the test set\n",
    "dt_y_pred = dt_grid_search.predict(X_test)\n",
    "\n",
    "# Generate a classification report and confusion matrix\n",
    "print(\"Classification Report:\")\n",
    "print(classification_report(y_test, dt_y_pred))\n",
    "\n",
    "conf_matrix = confusion_matrix(y_test, dt_y_pred)\n",
    "# Calculate precision, recall, and F1-score\n",
    "precision = conf_matrix[1, 1] / (conf_matrix[1, 1] + conf_matrix[0, 1])\n",
    "recall = conf_matrix[1, 1] / (conf_matrix[1, 1] + conf_matrix[1, 0])\n",
    "f1_score = 2 * (precision * recall) / (precision + recall)\n",
    "\n",
    "# Print the results\n",
    "print(\"Precision: {:.2f}\".format(precision))\n",
    "print(\"Recall: {:.2f}\".format(recall))\n",
    "print(\"F1-score: {:.2f}\".format(f1_score))\n",
    "\n",
    "sns.heatmap(confusion_matrix(y_test, dt_y_pred), annot=True, cmap='Blues')\n",
    "plt.xlabel('Predicted')\n",
    "plt.ylabel('Actual')\n",
    "plt.show()"
   ]
  },
  {
   "cell_type": "code",
   "execution_count": 35,
   "id": "1e057d9a",
   "metadata": {},
   "outputs": [],
   "source": [
    "logistic_regression_pipeline = Pipeline(steps=[('preprocessor', preprocessor),\n",
    "                           ('classifier', LogisticRegression())])"
   ]
  },
  {
   "cell_type": "code",
   "execution_count": 36,
   "id": "537c6f33",
   "metadata": {},
   "outputs": [
    {
     "data": {
      "text/plain": [
       "Pipeline(steps=[('preprocessor',\n",
       "                 ColumnTransformer(transformers=[('num',\n",
       "                                                  Pipeline(steps=[('scaler',\n",
       "                                                                   StandardScaler())]),\n",
       "                                                  ['ind-university_grade']),\n",
       "                                                 ('cat',\n",
       "                                                  Pipeline(steps=[('onehot',\n",
       "                                                                   OneHotEncoder(handle_unknown='ignore'))]),\n",
       "                                                  ['sport', 'ind-degree',\n",
       "                                                   'ind-programming_exp',\n",
       "                                                   'ind-languages'])])),\n",
       "                ('classifier', LogisticRegression())])"
      ]
     },
     "execution_count": 36,
     "metadata": {},
     "output_type": "execute_result"
    }
   ],
   "source": [
    "logistic_regression_pipeline.fit(X_train, y_train)"
   ]
  },
  {
   "cell_type": "code",
   "execution_count": 37,
   "id": "317a53ea",
   "metadata": {},
   "outputs": [
    {
     "name": "stdout",
     "output_type": "stream",
     "text": [
      "LogisticRegression(C=1, n_jobs=1)\n"
     ]
    }
   ],
   "source": [
    "# Define hyperparameters to search\n",
    "lr_param_grid = {\n",
    "    'classifier__C': [0.001, 0.01, 0.1, 1, 10, 100],  # Regularization parameter\n",
    "    'classifier__n_jobs': [1,2,3,4,5],\n",
    "}\n",
    "\n",
    "# Create a grid search with cross-validation\n",
    "lr_grid_search = GridSearchCV(logistic_regression_pipeline, lr_param_grid, cv=5, scoring='accuracy')\n",
    "lr_grid_search.fit(X_train, y_train)\n",
    "\n",
    "# Get the best hyperparameters\n",
    "lr_best_params = lr_grid_search.best_params_\n",
    "lr_best_classifier = lr_grid_search.best_estimator_.named_steps['classifier']\n",
    "print(lr_best_classifier)"
   ]
  },
  {
   "cell_type": "code",
   "execution_count": 38,
   "id": "91ea5b4a",
   "metadata": {},
   "outputs": [
    {
     "name": "stdout",
     "output_type": "stream",
     "text": [
      "Classification Report:\n",
      "              precision    recall  f1-score   support\n",
      "\n",
      "       False       0.79      0.80      0.80       182\n",
      "        True       0.72      0.70      0.71       132\n",
      "\n",
      "    accuracy                           0.76       314\n",
      "   macro avg       0.76      0.75      0.75       314\n",
      "weighted avg       0.76      0.76      0.76       314\n",
      "\n",
      "Precision: 0.72\n",
      "Recall: 0.70\n",
      "F1-score: 0.71\n"
     ]
    },
    {
     "data": {
      "image/png": "[encoded data removed]",
      "text/plain": [
       "<Figure size 432x288 with 2 Axes>"
      ]
     },
     "metadata": {
      "needs_background": "light"
     },
     "output_type": "display_data"
    }
   ],
   "source": [
    "# Make predictions on the training set\n",
    "lr_y_pred = lr_grid_search.predict(X_train)\n",
    "\n",
    "# Generate a classification report and confusion matrix\n",
    "print(\"Classification Report:\")\n",
    "print(classification_report(y_train, lr_y_pred))\n",
    "\n",
    "conf_matrix = confusion_matrix(y_train, lr_y_pred)\n",
    "# Calculate precision, recall, and F1-score\n",
    "precision = conf_matrix[1, 1] / (conf_matrix[1, 1] + conf_matrix[0, 1])\n",
    "recall = conf_matrix[1, 1] / (conf_matrix[1, 1] + conf_matrix[1, 0])\n",
    "f1_score = 2 * (precision * recall) / (precision + recall)\n",
    "\n",
    "# Print the results\n",
    "print(\"Precision: {:.2f}\".format(precision))\n",
    "print(\"Recall: {:.2f}\".format(recall))\n",
    "print(\"F1-score: {:.2f}\".format(f1_score))\n",
    "\n",
    "sns.heatmap(confusion_matrix(y_train, lr_y_pred), annot=True, cmap='Blues')\n",
    "plt.xlabel('Predicted')\n",
    "plt.ylabel('Actual')\n",
    "plt.show()"
   ]
  },
  {
   "cell_type": "code",
   "execution_count": 39,
   "id": "ca7420e5",
   "metadata": {},
   "outputs": [
    {
     "name": "stdout",
     "output_type": "stream",
     "text": [
      "Classification Report:\n",
      "              precision    recall  f1-score   support\n",
      "\n",
      "       False       0.69      0.83      0.75        52\n",
      "        True       0.76      0.60      0.67        47\n",
      "\n",
      "    accuracy                           0.72        99\n",
      "   macro avg       0.73      0.71      0.71        99\n",
      "weighted avg       0.72      0.72      0.71        99\n",
      "\n",
      "Precision: 0.76\n",
      "Recall: 0.60\n",
      "F1-score: 0.67\n"
     ]
    },
    {
     "data": {
      "image/png": "[encoded data removed]",
      "text/plain": [
       "<Figure size 432x288 with 2 Axes>"
      ]
     },
     "metadata": {
      "needs_background": "light"
     },
     "output_type": "display_data"
    }
   ],
   "source": [
    "# Make predictions on the test set\n",
    "lr_y_pred = lr_grid_search.predict(X_test)\n",
    "\n",
    "# Generate a classification report and confusion matrix\n",
    "print(\"Classification Report:\")\n",
    "print(classification_report(y_test, lr_y_pred))\n",
    "\n",
    "conf_matrix = confusion_matrix(y_test, lr_y_pred)\n",
    "# Calculate precision, recall, and F1-score\n",
    "precision = conf_matrix[1, 1] / (conf_matrix[1, 1] + conf_matrix[0, 1])\n",
    "recall = conf_matrix[1, 1] / (conf_matrix[1, 1] + conf_matrix[1, 0])\n",
    "f1_score = 2 * (precision * recall) / (precision + recall)\n",
    "\n",
    "# Print the results\n",
    "print(\"Precision: {:.2f}\".format(precision))\n",
    "print(\"Recall: {:.2f}\".format(recall))\n",
    "print(\"F1-score: {:.2f}\".format(f1_score))\n",
    "\n",
    "sns.heatmap(confusion_matrix(y_test, lr_y_pred), annot=True, cmap='Blues')\n",
    "plt.xlabel('Predicted')\n",
    "plt.ylabel('Actual')\n",
    "plt.show()"
   ]
  },
  {
   "cell_type": "markdown",
   "id": "dfd89b52-990b-4375-aea9-24d2f3e67477",
   "metadata": {},
   "source": [
    "**Model Exploration**\n",
    "\n",
    "- Gender & Nationality Subgroups\n",
    "- Age & Sport Subgroups"
   ]
  },
  {
   "cell_type": "code",
   "execution_count": 40,
   "id": "b28f57ef-d4c2-4b2c-8887-ba1c05029813",
   "metadata": {},
   "outputs": [
    {
     "name": "stderr",
     "output_type": "stream",
     "text": [
      "<ipython-input-40-da85f54fd28d>:3: SettingWithCopyWarning: \n",
      "A value is trying to be set on a copy of a slice from a DataFrame.\n",
      "Try using .loc[row_indexer,col_indexer] = value instead\n",
      "\n",
      "See the caveats in the documentation: https://pandas.pydata.org/pandas-docs/stable/user_guide/indexing.html#returning-a-view-versus-a-copy\n",
      "  X_test[\"real\"] = y_test\n"
     ]
    },
    {
     "ename": "ValueError",
     "evalue": "Length of values (314) does not match length of index (99)",
     "output_type": "error",
     "traceback": [
      "\u001b[1;31m---------------------------------------------------------------------------\u001b[0m",
      "\u001b[1;31mValueError\u001b[0m                                Traceback (most recent call last)",
      "\u001b[1;32m<ipython-input-40-da85f54fd28d>\u001b[0m in \u001b[0;36m<module>\u001b[1;34m\u001b[0m\n\u001b[0;32m      2\u001b[0m \u001b[1;33m\u001b[0m\u001b[0m\n\u001b[0;32m      3\u001b[0m \u001b[0mX_test\u001b[0m\u001b[1;33m[\u001b[0m\u001b[1;34m\"real\"\u001b[0m\u001b[1;33m]\u001b[0m \u001b[1;33m=\u001b[0m \u001b[0my_test\u001b[0m\u001b[1;33m\u001b[0m\u001b[1;33m\u001b[0m\u001b[0m\n\u001b[1;32m----> 4\u001b[1;33m \u001b[0mX_test\u001b[0m\u001b[1;33m[\u001b[0m\u001b[1;34m\"predicted\"\u001b[0m\u001b[1;33m]\u001b[0m \u001b[1;33m=\u001b[0m \u001b[0my_pred\u001b[0m\u001b[1;33m\u001b[0m\u001b[1;33m\u001b[0m\u001b[0m\n\u001b[0m",
      "\u001b[1;32m~\\anaconda3\\lib\\site-packages\\pandas\\core\\frame.py\u001b[0m in \u001b[0;36m__setitem__\u001b[1;34m(self, key, value)\u001b[0m\n\u001b[0;32m   3161\u001b[0m         \u001b[1;32melse\u001b[0m\u001b[1;33m:\u001b[0m\u001b[1;33m\u001b[0m\u001b[1;33m\u001b[0m\u001b[0m\n\u001b[0;32m   3162\u001b[0m             \u001b[1;31m# set column\u001b[0m\u001b[1;33m\u001b[0m\u001b[1;33m\u001b[0m\u001b[1;33m\u001b[0m\u001b[0m\n\u001b[1;32m-> 3163\u001b[1;33m             \u001b[0mself\u001b[0m\u001b[1;33m.\u001b[0m\u001b[0m_set_item\u001b[0m\u001b[1;33m(\u001b[0m\u001b[0mkey\u001b[0m\u001b[1;33m,\u001b[0m \u001b[0mvalue\u001b[0m\u001b[1;33m)\u001b[0m\u001b[1;33m\u001b[0m\u001b[1;33m\u001b[0m\u001b[0m\n\u001b[0m\u001b[0;32m   3164\u001b[0m \u001b[1;33m\u001b[0m\u001b[0m\n\u001b[0;32m   3165\u001b[0m     \u001b[1;32mdef\u001b[0m \u001b[0m_setitem_slice\u001b[0m\u001b[1;33m(\u001b[0m\u001b[0mself\u001b[0m\u001b[1;33m,\u001b[0m \u001b[0mkey\u001b[0m\u001b[1;33m:\u001b[0m \u001b[0mslice\u001b[0m\u001b[1;33m,\u001b[0m \u001b[0mvalue\u001b[0m\u001b[1;33m)\u001b[0m\u001b[1;33m:\u001b[0m\u001b[1;33m\u001b[0m\u001b[1;33m\u001b[0m\u001b[0m\n",
      "\u001b[1;32m~\\anaconda3\\lib\\site-packages\\pandas\\core\\frame.py\u001b[0m in \u001b[0;36m_set_item\u001b[1;34m(self, key, value)\u001b[0m\n\u001b[0;32m   3240\u001b[0m         \"\"\"\n\u001b[0;32m   3241\u001b[0m         \u001b[0mself\u001b[0m\u001b[1;33m.\u001b[0m\u001b[0m_ensure_valid_index\u001b[0m\u001b[1;33m(\u001b[0m\u001b[0mvalue\u001b[0m\u001b[1;33m)\u001b[0m\u001b[1;33m\u001b[0m\u001b[1;33m\u001b[0m\u001b[0m\n\u001b[1;32m-> 3242\u001b[1;33m         \u001b[0mvalue\u001b[0m \u001b[1;33m=\u001b[0m \u001b[0mself\u001b[0m\u001b[1;33m.\u001b[0m\u001b[0m_sanitize_column\u001b[0m\u001b[1;33m(\u001b[0m\u001b[0mkey\u001b[0m\u001b[1;33m,\u001b[0m \u001b[0mvalue\u001b[0m\u001b[1;33m)\u001b[0m\u001b[1;33m\u001b[0m\u001b[1;33m\u001b[0m\u001b[0m\n\u001b[0m\u001b[0;32m   3243\u001b[0m         \u001b[0mNDFrame\u001b[0m\u001b[1;33m.\u001b[0m\u001b[0m_set_item\u001b[0m\u001b[1;33m(\u001b[0m\u001b[0mself\u001b[0m\u001b[1;33m,\u001b[0m \u001b[0mkey\u001b[0m\u001b[1;33m,\u001b[0m \u001b[0mvalue\u001b[0m\u001b[1;33m)\u001b[0m\u001b[1;33m\u001b[0m\u001b[1;33m\u001b[0m\u001b[0m\n\u001b[0;32m   3244\u001b[0m \u001b[1;33m\u001b[0m\u001b[0m\n",
      "\u001b[1;32m~\\anaconda3\\lib\\site-packages\\pandas\\core\\frame.py\u001b[0m in \u001b[0;36m_sanitize_column\u001b[1;34m(self, key, value, broadcast)\u001b[0m\n\u001b[0;32m   3897\u001b[0m \u001b[1;33m\u001b[0m\u001b[0m\n\u001b[0;32m   3898\u001b[0m             \u001b[1;31m# turn me into an ndarray\u001b[0m\u001b[1;33m\u001b[0m\u001b[1;33m\u001b[0m\u001b[1;33m\u001b[0m\u001b[0m\n\u001b[1;32m-> 3899\u001b[1;33m             \u001b[0mvalue\u001b[0m \u001b[1;33m=\u001b[0m \u001b[0msanitize_index\u001b[0m\u001b[1;33m(\u001b[0m\u001b[0mvalue\u001b[0m\u001b[1;33m,\u001b[0m \u001b[0mself\u001b[0m\u001b[1;33m.\u001b[0m\u001b[0mindex\u001b[0m\u001b[1;33m)\u001b[0m\u001b[1;33m\u001b[0m\u001b[1;33m\u001b[0m\u001b[0m\n\u001b[0m\u001b[0;32m   3900\u001b[0m             \u001b[1;32mif\u001b[0m \u001b[1;32mnot\u001b[0m \u001b[0misinstance\u001b[0m\u001b[1;33m(\u001b[0m\u001b[0mvalue\u001b[0m\u001b[1;33m,\u001b[0m \u001b[1;33m(\u001b[0m\u001b[0mnp\u001b[0m\u001b[1;33m.\u001b[0m\u001b[0mndarray\u001b[0m\u001b[1;33m,\u001b[0m \u001b[0mIndex\u001b[0m\u001b[1;33m)\u001b[0m\u001b[1;33m)\u001b[0m\u001b[1;33m:\u001b[0m\u001b[1;33m\u001b[0m\u001b[1;33m\u001b[0m\u001b[0m\n\u001b[0;32m   3901\u001b[0m                 \u001b[1;32mif\u001b[0m \u001b[0misinstance\u001b[0m\u001b[1;33m(\u001b[0m\u001b[0mvalue\u001b[0m\u001b[1;33m,\u001b[0m \u001b[0mlist\u001b[0m\u001b[1;33m)\u001b[0m \u001b[1;32mand\u001b[0m \u001b[0mlen\u001b[0m\u001b[1;33m(\u001b[0m\u001b[0mvalue\u001b[0m\u001b[1;33m)\u001b[0m \u001b[1;33m>\u001b[0m \u001b[1;36m0\u001b[0m\u001b[1;33m:\u001b[0m\u001b[1;33m\u001b[0m\u001b[1;33m\u001b[0m\u001b[0m\n",
      "\u001b[1;32m~\\anaconda3\\lib\\site-packages\\pandas\\core\\internals\\construction.py\u001b[0m in \u001b[0;36msanitize_index\u001b[1;34m(data, index)\u001b[0m\n\u001b[0;32m    749\u001b[0m     \"\"\"\n\u001b[0;32m    750\u001b[0m     \u001b[1;32mif\u001b[0m \u001b[0mlen\u001b[0m\u001b[1;33m(\u001b[0m\u001b[0mdata\u001b[0m\u001b[1;33m)\u001b[0m \u001b[1;33m!=\u001b[0m \u001b[0mlen\u001b[0m\u001b[1;33m(\u001b[0m\u001b[0mindex\u001b[0m\u001b[1;33m)\u001b[0m\u001b[1;33m:\u001b[0m\u001b[1;33m\u001b[0m\u001b[1;33m\u001b[0m\u001b[0m\n\u001b[1;32m--> 751\u001b[1;33m         raise ValueError(\n\u001b[0m\u001b[0;32m    752\u001b[0m             \u001b[1;34m\"Length of values \"\u001b[0m\u001b[1;33m\u001b[0m\u001b[1;33m\u001b[0m\u001b[0m\n\u001b[0;32m    753\u001b[0m             \u001b[1;34mf\"({len(data)}) \"\u001b[0m\u001b[1;33m\u001b[0m\u001b[1;33m\u001b[0m\u001b[0m\n",
      "\u001b[1;31mValueError\u001b[0m: Length of values (314) does not match length of index (99)"
     ]
    }
   ],
   "source": [
    "# Using test data\n",
    "\n",
    "X_test[\"real\"] = y_test\n",
    "X_test[\"predicted\"] = y_pred"
   ]
  },
  {
   "cell_type": "markdown",
   "id": "86c3a981-9256-48d6-ac0e-90064657aca1",
   "metadata": {},
   "source": [
    "*1) Model Performance Metrics Tables*"
   ]
  },
  {
   "cell_type": "code",
   "execution_count": null,
   "id": "fa5e343c-387c-4197-b1af-ca557d8127b2",
   "metadata": {},
   "outputs": [],
   "source": [
    "## Table 1: PPV, Error Rate, TPR & FPR on different subgroups (gender, nationality)\n",
    "\n",
    "\n",
    "# Some things for the table\n",
    "\n",
    "columns = [\"DM\", \"DF\", \"DO\", \"GM\", \"GF\", \"GO\", \"BM\", \"BF\", \"BO\"]\n",
    "rows = [\"PPV\", \"Error Rate\", \"TPR\", \"FPR\"]\n",
    "\n",
    "\n",
    "# Getting the data to fill in the table\n",
    "\n",
    "data = [[],[],[],[]]\n",
    "for nationality in [\"Dutch\", \"German\", \"Belgian\"]:\n",
    "    for gender in [\"male\", \"female\", \"other\"]:\n",
    "        # getting the subgroup\n",
    "        subgroup = X_test[(X_test['nationality'] == nationality) & (X_test['gender'] == gender)]\n",
    "        # PPV = Positive Prediction Rate\n",
    "        if len(subgroup[subgroup[\"real\"] == True]) == 0:\n",
    "            PPV = 0.0\n",
    "        else:\n",
    "            PPV = len(subgroup[(subgroup[\"real\"] == True) & (subgroup[\"predicted\"] == True)]) / len(subgroup[subgroup[\"real\"] == True])\n",
    "        PPV *= 100\n",
    "        data[0].append(PPV)\n",
    "        # Error Rate = 100 - PPV\n",
    "        data[1].append(100 - PPV)\n",
    "        # TPR = True Positive Rate\n",
    "        TP = len(subgroup[(subgroup[\"real\"] == True) & (subgroup[\"predicted\"] == True)])\n",
    "        FN = len(subgroup[(subgroup[\"real\"] == True) & (subgroup[\"predicted\"] == False)])\n",
    "        TPR = 0.0 if TP + FN == 0 else TP / (TP + FN)\n",
    "        TPR *= 100\n",
    "        data[2].append(TPR)\n",
    "        # FPR = False Positive Rate\n",
    "        FP = len(subgroup[(subgroup[\"real\"] == False) & (subgroup[\"predicted\"] == True)])\n",
    "        TN = len(subgroup[(subgroup[\"real\"] == False) & (subgroup[\"predicted\"] == False)])\n",
    "        FPR = 0.0 if FP + TN == 0 else FP / (FP + TN)\n",
    "        FPR *= 100\n",
    "        data[3].append(FPR)\n",
    "\n",
    "        \n",
    "# Formatting the data matrix\n",
    "\n",
    "formatted = []\n",
    "for row in data:\n",
    "    formatted.append([f'{x:.2f}%' for x in row])\n",
    "\n",
    "    \n",
    "# The Table\n",
    "\n",
    "plt.figure(figsize = [6.8, 2.5])\n",
    "table = plt.table(cellText = formatted, rowLabels = rows, colLabels = columns, loc = 'center')\n",
    "table.scale(1.5, 2)\n",
    "ax = plt.gca()\n",
    "ax.get_xaxis().set_visible(False)\n",
    "ax.get_yaxis().set_visible(False)\n",
    "plt.box(on=None)\n",
    "plt.title(\"Model performance for subgroups based on nationality (Dutch, German, Belgian) and gender (Male, Female, Other)\")\n",
    "plt.show()"
   ]
  },
  {
   "cell_type": "code",
   "execution_count": null,
   "id": "d14c112b-f798-495a-82ee-1167ab36c2ca",
   "metadata": {},
   "outputs": [],
   "source": [
    "## Table 2: PPV, Error Rate, TPR & FPR on sport & age subgroups:\n",
    "## -> 1) Football\n",
    "\n",
    "\n",
    "# Some things for the table\n",
    "\n",
    "columns = [f\"F{age}\" for age in range (21,33)]\n",
    "rows = [\"PPV\", \"Error Rate\", \"TPR\", \"FPR\"]\n",
    "\n",
    "\n",
    "# Getting the data to fill in the table\n",
    "\n",
    "index = 0\n",
    "data = [[],[],[],[]]\n",
    "for age in range(21,33):\n",
    "    # getting the subgroup\n",
    "    subgroup = X_test[(X_test['sport'] == 'Football') & (X_test['age'] == age)]\n",
    "    if len(subgroup) == 0:\n",
    "        columns.pop(index)\n",
    "        index -= 1\n",
    "    else:\n",
    "        # True/False Positives/Negatives\n",
    "        TP = len(subgroup[(subgroup[\"real\"] == True) & (subgroup[\"predicted\"] == True)])\n",
    "        FP = len(subgroup[(subgroup[\"real\"] == False) & (subgroup[\"predicted\"] == True)])\n",
    "        FN = len(subgroup[(subgroup[\"real\"] == True) & (subgroup[\"predicted\"] == False)])\n",
    "        TN = len(subgroup[(subgroup[\"real\"] == False) & (subgroup[\"predicted\"] == False)])\n",
    "        # PPV = Positive Prediction Rate\n",
    "        PPV = 0.0 if TP + FP == 0 else TP / (TP + FP)\n",
    "        PPV *= 100\n",
    "        data[0].append(PPV)\n",
    "        # Error Rate = 100 - PPV\n",
    "        data[1].append(100 - PPV)\n",
    "        # TPR = True Positive Rate\n",
    "        TPR = 0.0 if TP + FN == 0 else TP / (TP + FN)\n",
    "        TPR *= 100\n",
    "        data[2].append(TPR)\n",
    "        # FPR = False Positive Rate\n",
    "        FPR = 0.0 if FP + TN == 0 else FP / (FP + TN)\n",
    "        FPR *= 100\n",
    "        data[3].append(FPR)\n",
    "    index += 1\n",
    "        \n",
    "# Formatting the data matrix\n",
    "\n",
    "formatted = []\n",
    "for row in data:\n",
    "    formatted.append([f'{x:.2f}%' for x in row])\n",
    "\n",
    "    \n",
    "# The Table\n",
    "\n",
    "plt.figure(figsize = [6.8, 2.5])\n",
    "table = plt.table(cellText = formatted, rowLabels = rows, colLabels = columns, loc = 'center')\n",
    "table.scale(1.5, 2)\n",
    "ax = plt.gca()\n",
    "ax.get_xaxis().set_visible(False)\n",
    "ax.get_yaxis().set_visible(False)\n",
    "plt.box(on=None)\n",
    "plt.suptitle(\"Model performance for subgroups based on sport (Football) and age (from 21 to 32)\")\n",
    "plt.show()"
   ]
  },
  {
   "cell_type": "code",
   "execution_count": null,
   "id": "a7ffd82a-7d01-4aff-afec-672e81ff7b43",
   "metadata": {},
   "outputs": [],
   "source": [
    "## Table 2: PPV, Error Rate, TPR & FPR on sport & age subgroups:\n",
    "## -> 2) Golf\n",
    "\n",
    "\n",
    "# Some things for the table\n",
    "\n",
    "columns = [f\"G{age}\" for age in range (21,33)]\n",
    "rows = [\"PPV\", \"Error Rate\", \"TPR\", \"FPR\"]\n",
    "\n",
    "\n",
    "# Getting the data to fill in the table\n",
    "\n",
    "data = [[],[],[],[]]\n",
    "index = 0\n",
    "for age in range(21,33):\n",
    "    # getting the subgroup\n",
    "    subgroup = X_test[(X_test['sport'] == 'Golf') & (X_test['age'] == age)]\n",
    "    if len(subgroup) == 0:\n",
    "        columns.pop(index)\n",
    "        index -= 1\n",
    "    else:\n",
    "        # True/False Positives/Negatives\n",
    "        TP = len(subgroup[(subgroup[\"real\"] == True) & (subgroup[\"predicted\"] == True)])\n",
    "        FP = len(subgroup[(subgroup[\"real\"] == False) & (subgroup[\"predicted\"] == True)])\n",
    "        FN = len(subgroup[(subgroup[\"real\"] == True) & (subgroup[\"predicted\"] == False)])\n",
    "        TN = len(subgroup[(subgroup[\"real\"] == False) & (subgroup[\"predicted\"] == False)])\n",
    "        # PPV = Positive Prediction Rate\n",
    "        PPV = 0.0 if TP + FP == 0 else TP / (TP + FP)\n",
    "        PPV *= 100\n",
    "        data[0].append(PPV)\n",
    "        # Error Rate = 100 - PPV\n",
    "        data[1].append(100 - PPV)\n",
    "        # TPR = True Positive Rate\n",
    "        TPR = 0.0 if TP + FN == 0 else TP / (TP + FN)\n",
    "        TPR *= 100\n",
    "        data[2].append(TPR)\n",
    "        # FPR = False Positive Rate\n",
    "        FPR = 0.0 if FP + TN == 0 else FP / (FP + TN)\n",
    "        FPR *= 100\n",
    "        data[3].append(FPR)\n",
    "    index += 1\n",
    "\n",
    "        \n",
    "# Formatting the data matrix\n",
    "\n",
    "formatted = []\n",
    "for row in data:\n",
    "    formatted.append([f'{x:.2f}%' for x in row])\n",
    "\n",
    "    \n",
    "# The Table\n",
    "\n",
    "plt.figure(figsize = [6.8, 2.5])\n",
    "table = plt.table(cellText = formatted, rowLabels = rows, colLabels = columns, loc = 'center')\n",
    "table.scale(1.5, 2)\n",
    "ax = plt.gca()\n",
    "ax.get_xaxis().set_visible(False)\n",
    "ax.get_yaxis().set_visible(False)\n",
    "plt.box(on=None)\n",
    "plt.suptitle(\"Model performance for subgroups based on sport (Golf) and age (from 21 to 32)\")\n",
    "plt.show()"
   ]
  },
  {
   "cell_type": "code",
   "execution_count": null,
   "id": "89416b33-a9a8-4200-9670-faea6b1f148d",
   "metadata": {},
   "outputs": [],
   "source": [
    "## Table 2: PPV, Error Rate, TPR & FPR on sport & age subgroups:\n",
    "## -> 3) Swimming\n",
    "\n",
    "\n",
    "# Some things for the table\n",
    "\n",
    "columns = [f\"S{age}\" for age in range (21,33)]\n",
    "rows = [\"PPV\", \"Error Rate\", \"TPR\", \"FPR\"]\n",
    "\n",
    "\n",
    "# Getting the data to fill in the table\n",
    "\n",
    "data = [[],[],[],[]]\n",
    "index = 0\n",
    "for age in range(21,33):\n",
    "    # getting the subgroup\n",
    "    subgroup = X_test[(X_test['sport'] == 'Swimming') & (X_test['age'] == age)]\n",
    "    if len(subgroup) == 0:\n",
    "        columns.pop(index)\n",
    "        index -= 1\n",
    "    else:\n",
    "        # True/False Positives/Negatives\n",
    "        TP = len(subgroup[(subgroup[\"real\"] == True) & (subgroup[\"predicted\"] == True)])\n",
    "        FP = len(subgroup[(subgroup[\"real\"] == False) & (subgroup[\"predicted\"] == True)])\n",
    "        FN = len(subgroup[(subgroup[\"real\"] == True) & (subgroup[\"predicted\"] == False)])\n",
    "        TN = len(subgroup[(subgroup[\"real\"] == False) & (subgroup[\"predicted\"] == False)])\n",
    "        # PPV = Positive Prediction Rate\n",
    "        PPV = 0.0 if TP + FP == 0 else TP / (TP + FP)\n",
    "        PPV *= 100\n",
    "        data[0].append(PPV)\n",
    "        # Error Rate = 100 - PPV\n",
    "        data[1].append(100 - PPV)\n",
    "        # TPR = True Positive Rate\n",
    "        TPR = 0.0 if TP + FN == 0 else TP / (TP + FN)\n",
    "        TPR *= 100\n",
    "        data[2].append(TPR)\n",
    "        # FPR = False Positive Rate\n",
    "        FPR = 0.0 if FP + TN == 0 else FP / (FP + TN)\n",
    "        FPR *= 100\n",
    "        data[3].append(FPR)\n",
    "    index += 1\n",
    "\n",
    "        \n",
    "# Formatting the data matrix\n",
    "\n",
    "formatted = []\n",
    "for row in data:\n",
    "    formatted.append([f'{x:.2f}' for x in row])\n",
    "\n",
    "    \n",
    "# The Table\n",
    "\n",
    "plt.figure(figsize = [6.8, 2.5])\n",
    "table = plt.table(cellText = formatted, rowLabels = rows, colLabels = columns, loc = 'center')\n",
    "table.scale(1.5, 2)\n",
    "ax = plt.gca()\n",
    "ax.get_xaxis().set_visible(False)\n",
    "ax.get_yaxis().set_visible(False)\n",
    "plt.box(on=None)\n",
    "plt.suptitle(\"Model performance for subgroups based on sport (Swimming) and age (from 21 to 32)\")\n",
    "plt.show()"
   ]
  },
  {
   "cell_type": "markdown",
   "id": "87acbfbf-bed3-4613-af6c-46317680cc2e",
   "metadata": {},
   "source": [
    "*2) Model vs Real Hiring Probability Bar Charts*"
   ]
  },
  {
   "cell_type": "code",
   "execution_count": null,
   "id": "505960e9-7172-4cbb-8cfe-d8443b05a63a",
   "metadata": {},
   "outputs": [],
   "source": [
    "## Bar Chart 1: Real vs Predicted Hiring Probability of nationality & gender\n",
    "\n",
    "# List of nationalities to plot\n",
    "nationalities_to_plot = ['Dutch', 'German', 'Belgian']\n",
    "\n",
    "# Create subplots with three columns (one for each nationality)\n",
    "fig, axs = plt.subplots(1, len(nationalities_to_plot), figsize=(15, 5))\n",
    "\n",
    "# Set the width of the bars\n",
    "bar_width = 0.35\n",
    "\n",
    "# Define colors\n",
    "actual_color = '#3EA19E'\n",
    "predicted_color = '#D87AD3'\n",
    "\n",
    "# Iterate through the nationalities and create a subplot for each\n",
    "for i, nationality in enumerate(nationalities_to_plot):\n",
    "    # Group by gender and nationality, and calculate the mean of predicted and actual values\n",
    "    predicted_mean = X_test.groupby(['gender', 'nationality'])['predicted'].mean().reset_index()\n",
    "    real_mean = X_test.groupby(['gender', 'nationality'])['real'].mean().reset_index()\n",
    "\n",
    "    # Filter data to include only the current nationality\n",
    "    predicted_mean_nat = predicted_mean[predicted_mean['nationality'] == nationality]\n",
    "    real_mean_nat = real_mean[real_mean['nationality'] == nationality]\n",
    "\n",
    "    # Create an array of indices for the x-axis\n",
    "    indices = range(len(predicted_mean_nat))\n",
    "\n",
    "    # Create bars for mean predicted values with the specified color\n",
    "    axs[i].bar(indices, predicted_mean_nat['predicted'], bar_width, label='Mean Predicted', color=predicted_color)\n",
    "\n",
    "    # Create bars for mean actual values with the specified color\n",
    "    axs[i].bar([idx + bar_width for idx in indices], real_mean_nat['real'], bar_width, label='Mean Actual', color=actual_color)\n",
    "\n",
    "    # Set labels, title, and legend for the current subplot\n",
    "    axs[i].set_xlabel('Gender')\n",
    "    axs[i].set_ylabel('Mean Values')\n",
    "    axs[i].set_title(f'Mean Predicted vs. Actual Values for {nationality} by Gender')\n",
    "    axs[i].set_xticks([idx + bar_width / 2 for idx in indices])\n",
    "    axs[i].set_xticklabels(predicted_mean_nat['gender'])\n",
    "    axs[i].legend()\n",
    "\n",
    "# Adjust spacing between subplots\n",
    "plt.tight_layout()\n",
    "\n",
    "# Show the plots\n",
    "plt.show()"
   ]
  },
  {
   "cell_type": "code",
   "execution_count": null,
   "id": "52be23db-f47a-42d8-a7de-ef0a1223b365",
   "metadata": {},
   "outputs": [],
   "source": [
    "## Bar Chart 2: Real vs Predicted Hiring Probability of sports & age subgroups\n",
    "\n",
    "# List of sports to plot\n",
    "sports_to_plot = ['Swimming', 'Golf', 'Football']\n",
    "\n",
    "# Create subplots with three columns (one for each sport)\n",
    "fig, axs = plt.subplots(1, len(sports_to_plot), figsize=(15, 5))\n",
    "\n",
    "# Set the width of the bars\n",
    "bar_width = 0.35\n",
    "\n",
    "# Define colors\n",
    "actual_color = '#3EA19E'\n",
    "predicted_color = '#D87AD3'\n",
    "\n",
    "# Iterate through the sports and create a subplot for each\n",
    "for i, sport in enumerate(sports_to_plot):\n",
    "    # Group by age and sport, and calculate the mean of predicted and actual values\n",
    "    predicted_mean = X_test.groupby(['age', 'sport'])['predicted'].mean().reset_index()\n",
    "    real_mean = X_test.groupby(['age', 'sport'])['real'].mean().reset_index()\n",
    "\n",
    "    # Filter data to include only the current sport\n",
    "    predicted_mean_sport = predicted_mean[predicted_mean['sport'] == sport]\n",
    "    real_mean_sport = real_mean[real_mean['sport'] == sport]\n",
    "\n",
    "    # Create an array of indices for the x-axis\n",
    "    indices = range(len(predicted_mean_sport))\n",
    "\n",
    "    # Create bars for mean predicted values with the specified color\n",
    "    axs[i].bar(indices, predicted_mean_sport['predicted'], bar_width, label='Mean Predicted', color=predicted_color)\n",
    "\n",
    "    # Create bars for mean actual values with the specified color\n",
    "    axs[i].bar([idx + bar_width for idx in indices], real_mean_sport['real'], bar_width, label='Mean Actual', color=actual_color)\n",
    "\n",
    "    # Set labels, title, and legend for the current subplot\n",
    "    axs[i].set_xlabel('Age')\n",
    "    axs[i].set_ylabel('Mean Values')\n",
    "    axs[i].set_title(f'Mean Predicted vs. Actual Values for {sport} by Age')\n",
    "    axs[i].set_xticks([idx + bar_width / 2 for idx in indices])\n",
    "    axs[i].set_xticklabels(predicted_mean_sport['age'])\n",
    "    axs[i].legend()\n",
    "\n",
    "# Adjust spacing between subplots\n",
    "plt.tight_layout()\n",
    "\n",
    "# Show the plots\n",
    "plt.show()"
   ]
  },
  {
   "cell_type": "markdown",
   "id": "3997ed66-4bb1-4306-b8ce-47d171b43ab0",
   "metadata": {},
   "source": [
    "**Support Vector Machines**"
   ]
  },
  {
   "cell_type": "code",
   "execution_count": 41,
   "id": "32956767-dac7-40de-a3d1-7ddb02013ddf",
   "metadata": {},
   "outputs": [
    {
     "data": {
      "text/plain": [
       "Pipeline(steps=[('preprocessor',\n",
       "                 ColumnTransformer(transformers=[('num',\n",
       "                                                  Pipeline(steps=[('scaler',\n",
       "                                                                   StandardScaler())]),\n",
       "                                                  ['ind-university_grade']),\n",
       "                                                 ('cat',\n",
       "                                                  Pipeline(steps=[('onehot',\n",
       "                                                                   OneHotEncoder(handle_unknown='ignore'))]),\n",
       "                                                  ['sport', 'ind-degree',\n",
       "                                                   'ind-programming_exp',\n",
       "                                                   'ind-languages'])])),\n",
       "                ('classifier', SVC())])"
      ]
     },
     "execution_count": 41,
     "metadata": {},
     "output_type": "execute_result"
    }
   ],
   "source": [
    "# Define preprocessing steps\n",
    "categorical_features = ['sport', 'ind-degree', 'ind-programming_exp', 'ind-languages']\n",
    "categorical_transformer = Pipeline(steps=[\n",
    "    ('onehot', OneHotEncoder(handle_unknown='ignore'))\n",
    "])\n",
    "\n",
    "numeric_features = ['ind-university_grade']\n",
    "numeric_transformer = Pipeline(steps=[\n",
    "    ('scaler', StandardScaler())\n",
    "])\n",
    "\n",
    "# Combine preprocessing steps\n",
    "from sklearn.compose import ColumnTransformer\n",
    "\n",
    "preprocessor = ColumnTransformer(\n",
    "    transformers=[\n",
    "        ('num', numeric_transformer, numeric_features),\n",
    "        ('cat', categorical_transformer, categorical_features)\n",
    "    ])\n",
    "\n",
    "# Replace 'DecisionTreeClassifier' with 'SVC' for SVM\n",
    "from sklearn.svm import SVC\n",
    "\n",
    "pipeline = Pipeline(steps=[('preprocessor', preprocessor),\n",
    "                           ('classifier', SVC())])  # Change the classifier here to use SVC\n",
    "\n",
    "# Fit the pipeline to your training data\n",
    "pipeline.fit(X_train, y_train)"
   ]
  },
  {
   "cell_type": "code",
   "execution_count": 42,
   "id": "637b41c6-1511-4fb6-9c62-3ea13dc42a43",
   "metadata": {},
   "outputs": [
    {
     "name": "stdout",
     "output_type": "stream",
     "text": [
      "Classification Report:\n",
      "              precision    recall  f1-score   support\n",
      "\n",
      "       False       0.80      0.81      0.81       182\n",
      "        True       0.74      0.72      0.73       132\n",
      "\n",
      "    accuracy                           0.77       314\n",
      "   macro avg       0.77      0.77      0.77       314\n",
      "weighted avg       0.77      0.77      0.77       314\n",
      "\n"
     ]
    },
    {
     "data": {
      "image/png": "[encoded data removed]",
      "text/plain": [
       "<Figure size 432x288 with 2 Axes>"
      ]
     },
     "metadata": {
      "needs_background": "light"
     },
     "output_type": "display_data"
    }
   ],
   "source": [
    "# Define hyperparameters for SVM\n",
    "param_grid = {\n",
    "    'classifier__C': [0.1, 1, 10],\n",
    "    'classifier__kernel': ['linear', 'rbf'],\n",
    "    'classifier__gamma': [0.1, 1],\n",
    "}\n",
    "\n",
    "# Create a GridSearchCV object\n",
    "grid_search = GridSearchCV(pipeline, param_grid, cv=5, scoring='accuracy')\n",
    "\n",
    "# Fit the grid search to your training data\n",
    "grid_search.fit(X_train, y_train)\n",
    "\n",
    "# Now you can make predictions and evaluate the model\n",
    "y_pred = grid_search.predict(X_train)\n",
    "\n",
    "# Generate a classification report\n",
    "print(\"Classification Report:\")\n",
    "print(classification_report(y_train, y_pred))\n",
    "\n",
    "# Generate and display a confusion matrix\n",
    "conf_matrix = confusion_matrix(y_train, y_pred)\n",
    "sns.heatmap(conf_matrix, annot=True, cmap='Blues')\n",
    "plt.xlabel('Predicted')\n",
    "plt.ylabel('Actual')\n",
    "plt.show()"
   ]
  },
  {
   "cell_type": "code",
   "execution_count": 49,
   "id": "73694e6f-af25-4104-95b9-6767c8263e57",
   "metadata": {},
   "outputs": [
    {
     "name": "stdout",
     "output_type": "stream",
     "text": [
      "Classification Report for Test Set:\n",
      "              precision    recall  f1-score   support\n",
      "\n",
      "       False       0.85      0.85      0.85        52\n",
      "        True       0.83      0.83      0.83        47\n",
      "\n",
      "    accuracy                           0.84        99\n",
      "   macro avg       0.84      0.84      0.84        99\n",
      "weighted avg       0.84      0.84      0.84        99\n",
      "\n"
     ]
    },
    {
     "data": {
      "image/png": "[encoded data removed]",
      "text/plain": [
       "<Figure size 432x288 with 2 Axes>"
      ]
     },
     "metadata": {
      "needs_background": "light"
     },
     "output_type": "display_data"
    }
   ],
   "source": [
    "# Make predictions on the test set\n",
    "grid_search.fit(X_test, y_test)\n",
    "y_test_pred = grid_search.predict(X_test)\n",
    "\n",
    "# Generate a classification report for the validation set\n",
    "from sklearn.metrics import classification_report\n",
    "print(\"Classification Report for Test Set:\")\n",
    "print(classification_report(y_test, y_test_pred))\n",
    "\n",
    "# Generate and display a confusion matrix for the validation set\n",
    "from sklearn.metrics import confusion_matrix\n",
    "conf_matrix_test = confusion_matrix(y_test, y_test_pred)\n",
    "\n",
    "sns.heatmap(conf_matrix_test, annot=True, cmap='Blues')\n",
    "plt.xlabel('Predicted')\n",
    "plt.ylabel('Actual')\n",
    "plt.show()"
   ]
  },
  {
   "cell_type": "code",
   "execution_count": 46,
   "id": "fd1a24f2-ab00-4daf-91ad-ec3cb3236041",
   "metadata": {},
   "outputs": [
    {
     "data": {
      "image/png": "[encoded data removed]",
      "text/plain": [
       "<Figure size 1080x432 with 3 Axes>"
      ]
     },
     "metadata": {
      "needs_background": "light"
     },
     "output_type": "display_data"
    }
   ],
   "source": [
    "plt.figure(figsize=(15, 6))  # Increase the figure width\n",
    "\n",
    "# Plot for C values\n",
    "plt.subplot(1, 3, 1)  # Create a subplot for C values\n",
    "plt.plot(C_values, mean_scores_C, marker='o', linestyle='-', color='red')\n",
    "plt.xticks(C_values)\n",
    "plt.title('SVM Hyperparameters vs. Performance (C)')\n",
    "plt.xlabel('C Value')\n",
    "plt.ylabel('Mean Accuracy')\n",
    "\n",
    "# Plot for gamma values\n",
    "plt.subplot(1, 3, 2)  # Create a subplot for gamma values\n",
    "plt.plot(gamma_values, mean_scores_gamma, marker='o', linestyle='-', color='blue')\n",
    "plt.xticks(gamma_values)\n",
    "plt.title('SVM Hyperparameters vs. Performance (Gamma)')\n",
    "plt.xlabel('Gamma Value')\n",
    "plt.ylabel('Mean Accuracy')\n",
    "\n",
    "# Plot for kernel values (linear vs. rbf)\n",
    "plt.subplot(1, 3, 3)  # Create a subplot for kernel types\n",
    "plt.plot(['Linear', 'RBF'], mean_scores_kernel, marker='o', linestyle='-', color='green')\n",
    "plt.title('SVM Hyperparameters vs. Performance (Kernel)')\n",
    "plt.xlabel('Kernel Type')\n",
    "plt.ylabel('Mean Accuracy')\n",
    "\n",
    "plt.tight_layout()  # Ensure proper spacing between subplots\n",
    "plt.show()\n"
   ]
  },
  {
   "cell_type": "markdown",
   "id": "a4cabb00-58f0-42d9-b432-3f0c943efd12",
   "metadata": {},
   "source": [
    "*Changes made based on the results from plots*"
   ]
  },
  {
   "cell_type": "code",
   "execution_count": 54,
   "id": "4ada6bc9-752c-40f2-9901-b2bb00a8bdfe",
   "metadata": {},
   "outputs": [
    {
     "name": "stdout",
     "output_type": "stream",
     "text": [
      "Classification Report:\n",
      "              precision    recall  f1-score   support\n",
      "\n",
      "       False       0.84      0.86      0.85       182\n",
      "        True       0.80      0.77      0.78       132\n",
      "\n",
      "    accuracy                           0.82       314\n",
      "   macro avg       0.82      0.81      0.82       314\n",
      "weighted avg       0.82      0.82      0.82       314\n",
      "\n"
     ]
    },
    {
     "data": {
      "image/png": "[encoded data removed]",
      "text/plain": [
       "<Figure size 432x288 with 2 Axes>"
      ]
     },
     "metadata": {
      "needs_background": "light"
     },
     "output_type": "display_data"
    }
   ],
   "source": [
    "param_grid = {\n",
    "    'classifier__C': [1, 10],  # Adjusted C values based on insights\n",
    "    'classifier__kernel': ['rbf'],  # Based on insights, use RBF kernel\n",
    "    'classifier__gamma': [1],  # Adjusted gamma based on insights\n",
    "}\n",
    "# Create a GridSearchCV object\n",
    "grid_search = GridSearchCV(pipeline, param_grid, cv=5, scoring='accuracy')\n",
    "\n",
    "# Fit the grid search to your training data\n",
    "grid_search.fit(X_train, y_train)\n",
    "\n",
    "# Now you can make predictions and evaluate the model\n",
    "y_pred = grid_search.predict(X_train)\n",
    "\n",
    "# Generate a classification report\n",
    "print(\"Classification Report:\")\n",
    "print(classification_report(y_train, y_pred))\n",
    "\n",
    "# Generate and display a confusion matrix\n",
    "conf_matrix = confusion_matrix(y_train, y_pred)\n",
    "sns.heatmap(conf_matrix, annot=True, cmap='Blues')\n",
    "plt.xlabel('Predicted')\n",
    "plt.ylabel('Actual')\n",
    "plt.show()"
   ]
  },
  {
   "cell_type": "code",
   "execution_count": 53,
   "id": "d5a1c5bf-46bf-4560-a49c-2eee536c6e16",
   "metadata": {},
   "outputs": [
    {
     "name": "stdout",
     "output_type": "stream",
     "text": [
      "Classification Report for Test Set:\n",
      "              precision    recall  f1-score   support\n",
      "\n",
      "       False       0.79      0.79      0.79        52\n",
      "        True       0.77      0.77      0.77        47\n",
      "\n",
      "    accuracy                           0.78        99\n",
      "   macro avg       0.78      0.78      0.78        99\n",
      "weighted avg       0.78      0.78      0.78        99\n",
      "\n"
     ]
    },
    {
     "data": {
      "image/png": "[encoded data removed]",
      "text/plain": [
       "<Figure size 432x288 with 2 Axes>"
      ]
     },
     "metadata": {
      "needs_background": "light"
     },
     "output_type": "display_data"
    }
   ],
   "source": [
    "# Make predictions on the test set\n",
    "grid_search.fit(X_test, y_test)\n",
    "y_test_pred = grid_search.predict(X_test)\n",
    "\n",
    "# Generate a classification report for the validation set\n",
    "from sklearn.metrics import classification_report\n",
    "print(\"Classification Report for Test Set:\")\n",
    "print(classification_report(y_test, y_test_pred))\n",
    "\n",
    "# Generate and display a confusion matrix for the validation set\n",
    "from sklearn.metrics import confusion_matrix\n",
    "conf_matrix_test = confusion_matrix(y_test, y_test_pred)\n",
    "\n",
    "sns.heatmap(conf_matrix_test, annot=True, cmap='Blues')\n",
    "plt.xlabel('Predicted')\n",
    "plt.ylabel('Actual')\n",
    "plt.show()"
   ]
  },
  {
   "cell_type": "code",
   "execution_count": null,
   "id": "46405d6d-00b2-472d-80df-db34a5f857e4",
   "metadata": {},
   "outputs": [],
   "source": []
  }
 ],
 "metadata": {
  "kernelspec": {
   "display_name": "Python 3",
   "language": "python",
   "name": "python3"
  },
  "language_info": {
   "codemirror_mode": {
    "name": "ipython",
    "version": 3
   },
   "file_extension": ".py",
   "mimetype": "text/x-python",
   "name": "python",
   "nbconvert_exporter": "python",
   "pygments_lexer": "ipython3",
   "version": "3.8.8"
  }
 },
 "nbformat": 4,
 "nbformat_minor": 5
}
